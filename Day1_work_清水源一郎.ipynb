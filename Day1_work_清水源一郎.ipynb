{
 "cells": [
  {
   "cell_type": "markdown",
   "metadata": {},
   "source": [
    "# 課題①　あるクラウドファンディングが成功するかを事前に予測する"
   ]
  },
  {
   "cell_type": "markdown",
   "metadata": {},
   "source": [
    "#### 必要なライブラリのインポート"
   ]
  },
  {
   "cell_type": "code",
   "execution_count": 1,
   "metadata": {},
   "outputs": [],
   "source": [
    "%matplotlib inline\n",
    "import pandas as pd\n",
    "import numpy as np\n",
    "import matplotlib.pyplot as plt\n",
    "import seaborn as sns\n",
    "from sklearn.linear_model import SGDClassifier\n",
    "from sklearn.metrics import log_loss, accuracy_score, confusion_matrix\n",
    "from sklearn.preprocessing import StandardScaler"
   ]
  },
  {
   "cell_type": "markdown",
   "metadata": {},
   "source": [
    "#### データの読み込み、確認\n"
   ]
  },
  {
   "cell_type": "code",
   "execution_count": 2,
   "metadata": {},
   "outputs": [
    {
     "data": {
      "text/html": [
       "<div>\n",
       "<style scoped>\n",
       "    .dataframe tbody tr th:only-of-type {\n",
       "        vertical-align: middle;\n",
       "    }\n",
       "\n",
       "    .dataframe tbody tr th {\n",
       "        vertical-align: top;\n",
       "    }\n",
       "\n",
       "    .dataframe thead th {\n",
       "        text-align: right;\n",
       "    }\n",
       "</style>\n",
       "<table border=\"1\" class=\"dataframe\">\n",
       "  <thead>\n",
       "    <tr style=\"text-align: right;\">\n",
       "      <th></th>\n",
       "      <th>ID</th>\n",
       "      <th>name</th>\n",
       "      <th>category</th>\n",
       "      <th>main_category</th>\n",
       "      <th>currency</th>\n",
       "      <th>deadline</th>\n",
       "      <th>goal</th>\n",
       "      <th>launched</th>\n",
       "      <th>pledged</th>\n",
       "      <th>state</th>\n",
       "      <th>backers</th>\n",
       "      <th>country</th>\n",
       "      <th>usd pledged</th>\n",
       "      <th>usd_pledged_real</th>\n",
       "      <th>usd_goal_real</th>\n",
       "    </tr>\n",
       "  </thead>\n",
       "  <tbody>\n",
       "    <tr>\n",
       "      <td>0</td>\n",
       "      <td>1000002330</td>\n",
       "      <td>The Songs of Adelaide &amp; Abullah</td>\n",
       "      <td>Poetry</td>\n",
       "      <td>Publishing</td>\n",
       "      <td>GBP</td>\n",
       "      <td>2015-10-09</td>\n",
       "      <td>1000.0</td>\n",
       "      <td>2015-08-11 12:12:28</td>\n",
       "      <td>0.0</td>\n",
       "      <td>failed</td>\n",
       "      <td>0</td>\n",
       "      <td>GB</td>\n",
       "      <td>0.0</td>\n",
       "      <td>0.0</td>\n",
       "      <td>1533.95</td>\n",
       "    </tr>\n",
       "    <tr>\n",
       "      <td>1</td>\n",
       "      <td>1000003930</td>\n",
       "      <td>Greeting From Earth: ZGAC Arts Capsule For ET</td>\n",
       "      <td>Narrative Film</td>\n",
       "      <td>Film &amp; Video</td>\n",
       "      <td>USD</td>\n",
       "      <td>2017-11-01</td>\n",
       "      <td>30000.0</td>\n",
       "      <td>2017-09-02 04:43:57</td>\n",
       "      <td>2421.0</td>\n",
       "      <td>failed</td>\n",
       "      <td>15</td>\n",
       "      <td>US</td>\n",
       "      <td>100.0</td>\n",
       "      <td>2421.0</td>\n",
       "      <td>30000.00</td>\n",
       "    </tr>\n",
       "    <tr>\n",
       "      <td>2</td>\n",
       "      <td>1000004038</td>\n",
       "      <td>Where is Hank?</td>\n",
       "      <td>Narrative Film</td>\n",
       "      <td>Film &amp; Video</td>\n",
       "      <td>USD</td>\n",
       "      <td>2013-02-26</td>\n",
       "      <td>45000.0</td>\n",
       "      <td>2013-01-12 00:20:50</td>\n",
       "      <td>220.0</td>\n",
       "      <td>failed</td>\n",
       "      <td>3</td>\n",
       "      <td>US</td>\n",
       "      <td>220.0</td>\n",
       "      <td>220.0</td>\n",
       "      <td>45000.00</td>\n",
       "    </tr>\n",
       "    <tr>\n",
       "      <td>3</td>\n",
       "      <td>1000007540</td>\n",
       "      <td>ToshiCapital Rekordz Needs Help to Complete Album</td>\n",
       "      <td>Music</td>\n",
       "      <td>Music</td>\n",
       "      <td>USD</td>\n",
       "      <td>2012-04-16</td>\n",
       "      <td>5000.0</td>\n",
       "      <td>2012-03-17 03:24:11</td>\n",
       "      <td>1.0</td>\n",
       "      <td>failed</td>\n",
       "      <td>1</td>\n",
       "      <td>US</td>\n",
       "      <td>1.0</td>\n",
       "      <td>1.0</td>\n",
       "      <td>5000.00</td>\n",
       "    </tr>\n",
       "    <tr>\n",
       "      <td>4</td>\n",
       "      <td>1000011046</td>\n",
       "      <td>Community Film Project: The Art of Neighborhoo...</td>\n",
       "      <td>Film &amp; Video</td>\n",
       "      <td>Film &amp; Video</td>\n",
       "      <td>USD</td>\n",
       "      <td>2015-08-29</td>\n",
       "      <td>19500.0</td>\n",
       "      <td>2015-07-04 08:35:03</td>\n",
       "      <td>1283.0</td>\n",
       "      <td>canceled</td>\n",
       "      <td>14</td>\n",
       "      <td>US</td>\n",
       "      <td>1283.0</td>\n",
       "      <td>1283.0</td>\n",
       "      <td>19500.00</td>\n",
       "    </tr>\n",
       "  </tbody>\n",
       "</table>\n",
       "</div>"
      ],
      "text/plain": [
       "           ID                                               name  \\\n",
       "0  1000002330                    The Songs of Adelaide & Abullah   \n",
       "1  1000003930      Greeting From Earth: ZGAC Arts Capsule For ET   \n",
       "2  1000004038                                     Where is Hank?   \n",
       "3  1000007540  ToshiCapital Rekordz Needs Help to Complete Album   \n",
       "4  1000011046  Community Film Project: The Art of Neighborhoo...   \n",
       "\n",
       "         category main_category currency    deadline     goal  \\\n",
       "0          Poetry    Publishing      GBP  2015-10-09   1000.0   \n",
       "1  Narrative Film  Film & Video      USD  2017-11-01  30000.0   \n",
       "2  Narrative Film  Film & Video      USD  2013-02-26  45000.0   \n",
       "3           Music         Music      USD  2012-04-16   5000.0   \n",
       "4    Film & Video  Film & Video      USD  2015-08-29  19500.0   \n",
       "\n",
       "              launched  pledged     state  backers country  usd pledged  \\\n",
       "0  2015-08-11 12:12:28      0.0    failed        0      GB          0.0   \n",
       "1  2017-09-02 04:43:57   2421.0    failed       15      US        100.0   \n",
       "2  2013-01-12 00:20:50    220.0    failed        3      US        220.0   \n",
       "3  2012-03-17 03:24:11      1.0    failed        1      US          1.0   \n",
       "4  2015-07-04 08:35:03   1283.0  canceled       14      US       1283.0   \n",
       "\n",
       "   usd_pledged_real  usd_goal_real  \n",
       "0               0.0        1533.95  \n",
       "1            2421.0       30000.00  \n",
       "2             220.0       45000.00  \n",
       "3               1.0        5000.00  \n",
       "4            1283.0       19500.00  "
      ]
     },
     "metadata": {},
     "output_type": "display_data"
    },
    {
     "data": {
      "text/html": [
       "<div>\n",
       "<style scoped>\n",
       "    .dataframe tbody tr th:only-of-type {\n",
       "        vertical-align: middle;\n",
       "    }\n",
       "\n",
       "    .dataframe tbody tr th {\n",
       "        vertical-align: top;\n",
       "    }\n",
       "\n",
       "    .dataframe thead th {\n",
       "        text-align: right;\n",
       "    }\n",
       "</style>\n",
       "<table border=\"1\" class=\"dataframe\">\n",
       "  <thead>\n",
       "    <tr style=\"text-align: right;\">\n",
       "      <th></th>\n",
       "      <th>ID</th>\n",
       "      <th>goal</th>\n",
       "      <th>pledged</th>\n",
       "      <th>backers</th>\n",
       "      <th>usd pledged</th>\n",
       "      <th>usd_pledged_real</th>\n",
       "      <th>usd_goal_real</th>\n",
       "    </tr>\n",
       "  </thead>\n",
       "  <tbody>\n",
       "    <tr>\n",
       "      <td>count</td>\n",
       "      <td>3.786610e+05</td>\n",
       "      <td>3.786610e+05</td>\n",
       "      <td>3.786610e+05</td>\n",
       "      <td>378661.000000</td>\n",
       "      <td>3.748640e+05</td>\n",
       "      <td>3.786610e+05</td>\n",
       "      <td>3.786610e+05</td>\n",
       "    </tr>\n",
       "    <tr>\n",
       "      <td>mean</td>\n",
       "      <td>1.074731e+09</td>\n",
       "      <td>4.908079e+04</td>\n",
       "      <td>9.682979e+03</td>\n",
       "      <td>105.617476</td>\n",
       "      <td>7.036729e+03</td>\n",
       "      <td>9.058924e+03</td>\n",
       "      <td>4.545440e+04</td>\n",
       "    </tr>\n",
       "    <tr>\n",
       "      <td>std</td>\n",
       "      <td>6.190862e+08</td>\n",
       "      <td>1.183391e+06</td>\n",
       "      <td>9.563601e+04</td>\n",
       "      <td>907.185035</td>\n",
       "      <td>7.863975e+04</td>\n",
       "      <td>9.097334e+04</td>\n",
       "      <td>1.152950e+06</td>\n",
       "    </tr>\n",
       "    <tr>\n",
       "      <td>min</td>\n",
       "      <td>5.971000e+03</td>\n",
       "      <td>1.000000e-02</td>\n",
       "      <td>0.000000e+00</td>\n",
       "      <td>0.000000</td>\n",
       "      <td>0.000000e+00</td>\n",
       "      <td>0.000000e+00</td>\n",
       "      <td>1.000000e-02</td>\n",
       "    </tr>\n",
       "    <tr>\n",
       "      <td>25%</td>\n",
       "      <td>5.382635e+08</td>\n",
       "      <td>2.000000e+03</td>\n",
       "      <td>3.000000e+01</td>\n",
       "      <td>2.000000</td>\n",
       "      <td>1.698000e+01</td>\n",
       "      <td>3.100000e+01</td>\n",
       "      <td>2.000000e+03</td>\n",
       "    </tr>\n",
       "    <tr>\n",
       "      <td>50%</td>\n",
       "      <td>1.075276e+09</td>\n",
       "      <td>5.200000e+03</td>\n",
       "      <td>6.200000e+02</td>\n",
       "      <td>12.000000</td>\n",
       "      <td>3.947200e+02</td>\n",
       "      <td>6.243300e+02</td>\n",
       "      <td>5.500000e+03</td>\n",
       "    </tr>\n",
       "    <tr>\n",
       "      <td>75%</td>\n",
       "      <td>1.610149e+09</td>\n",
       "      <td>1.600000e+04</td>\n",
       "      <td>4.076000e+03</td>\n",
       "      <td>56.000000</td>\n",
       "      <td>3.034090e+03</td>\n",
       "      <td>4.050000e+03</td>\n",
       "      <td>1.550000e+04</td>\n",
       "    </tr>\n",
       "    <tr>\n",
       "      <td>max</td>\n",
       "      <td>2.147476e+09</td>\n",
       "      <td>1.000000e+08</td>\n",
       "      <td>2.033899e+07</td>\n",
       "      <td>219382.000000</td>\n",
       "      <td>2.033899e+07</td>\n",
       "      <td>2.033899e+07</td>\n",
       "      <td>1.663614e+08</td>\n",
       "    </tr>\n",
       "  </tbody>\n",
       "</table>\n",
       "</div>"
      ],
      "text/plain": [
       "                 ID          goal       pledged        backers   usd pledged  \\\n",
       "count  3.786610e+05  3.786610e+05  3.786610e+05  378661.000000  3.748640e+05   \n",
       "mean   1.074731e+09  4.908079e+04  9.682979e+03     105.617476  7.036729e+03   \n",
       "std    6.190862e+08  1.183391e+06  9.563601e+04     907.185035  7.863975e+04   \n",
       "min    5.971000e+03  1.000000e-02  0.000000e+00       0.000000  0.000000e+00   \n",
       "25%    5.382635e+08  2.000000e+03  3.000000e+01       2.000000  1.698000e+01   \n",
       "50%    1.075276e+09  5.200000e+03  6.200000e+02      12.000000  3.947200e+02   \n",
       "75%    1.610149e+09  1.600000e+04  4.076000e+03      56.000000  3.034090e+03   \n",
       "max    2.147476e+09  1.000000e+08  2.033899e+07  219382.000000  2.033899e+07   \n",
       "\n",
       "       usd_pledged_real  usd_goal_real  \n",
       "count      3.786610e+05   3.786610e+05  \n",
       "mean       9.058924e+03   4.545440e+04  \n",
       "std        9.097334e+04   1.152950e+06  \n",
       "min        0.000000e+00   1.000000e-02  \n",
       "25%        3.100000e+01   2.000000e+03  \n",
       "50%        6.243300e+02   5.500000e+03  \n",
       "75%        4.050000e+03   1.550000e+04  \n",
       "max        2.033899e+07   1.663614e+08  "
      ]
     },
     "execution_count": 2,
     "metadata": {},
     "output_type": "execute_result"
    }
   ],
   "source": [
    "df_ks =  pd.read_csv('ks-projects-201801.csv') \n",
    "\n",
    "display(df_ks.head())\n",
    "df_ks.describe()"
   ]
  },
  {
   "cell_type": "code",
   "execution_count": 3,
   "metadata": {},
   "outputs": [
    {
     "name": "stdout",
     "output_type": "stream",
     "text": [
      "<class 'pandas.core.frame.DataFrame'>\n",
      "RangeIndex: 378661 entries, 0 to 378660\n",
      "Data columns (total 15 columns):\n",
      "ID                  378661 non-null int64\n",
      "name                378657 non-null object\n",
      "category            378661 non-null object\n",
      "main_category       378661 non-null object\n",
      "currency            378661 non-null object\n",
      "deadline            378661 non-null object\n",
      "goal                378661 non-null float64\n",
      "launched            378661 non-null object\n",
      "pledged             378661 non-null float64\n",
      "state               378661 non-null object\n",
      "backers             378661 non-null int64\n",
      "country             378661 non-null object\n",
      "usd pledged         374864 non-null float64\n",
      "usd_pledged_real    378661 non-null float64\n",
      "usd_goal_real       378661 non-null float64\n",
      "dtypes: float64(5), int64(2), object(8)\n",
      "memory usage: 43.3+ MB\n"
     ]
    }
   ],
   "source": [
    "df_ks.info()"
   ]
  },
  {
   "cell_type": "code",
   "execution_count": 4,
   "metadata": {},
   "outputs": [
    {
     "data": {
      "text/plain": [
       "ID                     0\n",
       "name                   4\n",
       "category               0\n",
       "main_category          0\n",
       "currency               0\n",
       "deadline               0\n",
       "goal                   0\n",
       "launched               0\n",
       "pledged                0\n",
       "state                  0\n",
       "backers                0\n",
       "country                0\n",
       "usd pledged         3797\n",
       "usd_pledged_real       0\n",
       "usd_goal_real          0\n",
       "dtype: int64"
      ]
     },
     "execution_count": 4,
     "metadata": {},
     "output_type": "execute_result"
    }
   ],
   "source": [
    "#欠損値の数\n",
    "df_ks.isnull().sum()"
   ]
  },
  {
   "cell_type": "code",
   "execution_count": 5,
   "metadata": {},
   "outputs": [
    {
     "data": {
      "text/plain": [
       "ID                  378661\n",
       "name                375764\n",
       "category               159\n",
       "main_category           15\n",
       "currency                14\n",
       "deadline              3164\n",
       "goal                  8353\n",
       "launched            378089\n",
       "pledged              62130\n",
       "state                    6\n",
       "backers               3963\n",
       "country                 23\n",
       "usd pledged          95455\n",
       "usd_pledged_real    106065\n",
       "usd_goal_real        50339\n",
       "dtype: int64"
      ]
     },
     "execution_count": 5,
     "metadata": {},
     "output_type": "execute_result"
    }
   ],
   "source": [
    "df_ks.nunique()"
   ]
  },
  {
   "cell_type": "markdown",
   "metadata": {},
   "source": [
    "### 目的変数 stateについて調べる"
   ]
  },
  {
   "cell_type": "code",
   "execution_count": 6,
   "metadata": {},
   "outputs": [
    {
     "data": {
      "text/plain": [
       "failed        197719\n",
       "successful    133956\n",
       "canceled       38779\n",
       "undefined       3562\n",
       "live            2799\n",
       "suspended       1846\n",
       "Name: state, dtype: int64"
      ]
     },
     "execution_count": 6,
     "metadata": {},
     "output_type": "execute_result"
    },
    {
     "data": {
      "image/png": "[encoded data removed]",
      "text/plain": [
       "<Figure size 432x288 with 1 Axes>"
      ]
     },
     "metadata": {},
     "output_type": "display_data"
    }
   ],
   "source": [
    "state_count = df_ks[\"state\"].value_counts()\n",
    "plt.pie(state_count, labels=state_count.index)\n",
    "state_count"
   ]
  },
  {
   "cell_type": "markdown",
   "metadata": {},
   "source": [
    "#### 今回は成功か失敗かを事前に予測するモデルの構築を目的とする。successful, failedのデータのみを扱うこととする。"
   ]
  },
  {
   "cell_type": "code",
   "execution_count": 7,
   "metadata": {},
   "outputs": [
    {
     "data": {
      "text/plain": [
       "failed        197719\n",
       "successful    133956\n",
       "Name: state, dtype: int64"
      ]
     },
     "execution_count": 7,
     "metadata": {},
     "output_type": "execute_result"
    }
   ],
   "source": [
    "#成功だけを抽出したDFと失敗だけを抽出したDF\n",
    "df_ks_success = df_ks[df_ks['state']=='successful']\n",
    "df_ks_failed =  df_ks[df_ks['state']=='failed']\n",
    "#両方を結合\n",
    "df_ks_2 = pd.concat([df_ks_success,df_ks_failed])\n",
    "#stateの要素の個数を数えてみる。\n",
    "df_ks_2['state'].value_counts()"
   ]
  },
  {
   "cell_type": "code",
   "execution_count": 8,
   "metadata": {},
   "outputs": [],
   "source": [
    "df_ks_2.loc[df_ks_2['state'] == \"successful\", 'state'] = 1\n",
    "df_ks_2.loc[df_ks_2['state'] == \"failed\", 'state'] = 0"
   ]
  },
  {
   "cell_type": "markdown",
   "metadata": {},
   "source": [
    "#### pledged, usd pledged, usd_pledged_realは実際の結果として集まった資金を表す値なので、事前予測においては使用不可と判断した。"
   ]
  },
  {
   "cell_type": "code",
   "execution_count": 9,
   "metadata": {},
   "outputs": [],
   "source": [
    "df_ks_2 = df_ks_2.drop([\"ID\", \"pledged\", \"usd pledged\", \"usd_pledged_real\"], axis=1)"
   ]
  },
  {
   "cell_type": "markdown",
   "metadata": {},
   "source": [
    "### 量的変数の可視化"
   ]
  },
  {
   "cell_type": "code",
   "execution_count": 10,
   "metadata": {},
   "outputs": [
    {
     "data": {
      "text/plain": [
       "<matplotlib.axes._subplots.AxesSubplot at 0x1922ea64fc8>"
      ]
     },
     "execution_count": 10,
     "metadata": {},
     "output_type": "execute_result"
    },
    {
     "data": {
      "image/png": "[encoded data removed]",
      "text/plain": [
       "<Figure size 432x288 with 1 Axes>"
      ]
     },
     "metadata": {
      "needs_background": "light"
     },
     "output_type": "display_data"
    }
   ],
   "source": [
    "sns.boxplot(df_ks_2[\"goal\"])"
   ]
  },
  {
   "cell_type": "code",
   "execution_count": 11,
   "metadata": {},
   "outputs": [
    {
     "data": {
      "text/plain": [
       "<matplotlib.axes._subplots.AxesSubplot at 0x1922eac4788>"
      ]
     },
     "execution_count": 11,
     "metadata": {},
     "output_type": "execute_result"
    },
    {
     "data": {
      "image/png": "[encoded data removed]",
      "text/plain": [
       "<Figure size 432x288 with 1 Axes>"
      ]
     },
     "metadata": {
      "needs_background": "light"
     },
     "output_type": "display_data"
    }
   ],
   "source": [
    "sns.boxplot(df_ks_2[\"usd_goal_real\"])"
   ]
  },
  {
   "cell_type": "code",
   "execution_count": 12,
   "metadata": {},
   "outputs": [
    {
     "data": {
      "text/plain": [
       "<matplotlib.axes._subplots.AxesSubplot at 0x1922eb63648>"
      ]
     },
     "execution_count": 12,
     "metadata": {},
     "output_type": "execute_result"
    },
    {
     "data": {
      "image/png": "[encoded data removed]",
      "text/plain": [
       "<Figure size 432x288 with 1 Axes>"
      ]
     },
     "metadata": {
      "needs_background": "light"
     },
     "output_type": "display_data"
    }
   ],
   "source": [
    "sns.boxplot(df_ks_2[\"backers\"])"
   ]
  },
  {
   "cell_type": "markdown",
   "metadata": {},
   "source": [
    "#### 両データとも値が0付近にかなり集中している。\n",
    "#### 以下では標準化を行っておく。"
   ]
  },
  {
   "cell_type": "code",
   "execution_count": 13,
   "metadata": {},
   "outputs": [],
   "source": [
    "# 標準化の例\n",
    "# 標準化とは、平均を引いて、標準偏差で割る操作\n",
    "from sklearn.preprocessing import StandardScaler\n",
    "stdsc = StandardScaler()\n",
    "df_ks_2[\"usd_goal_real_std\"]=stdsc.fit_transform(df_ks_2[[\"usd_goal_real\"]].values)\n",
    "df_ks_2[\"backers_std\"]=stdsc.fit_transform(df_ks_2[[\"backers\"]].values)\n"
   ]
  },
  {
   "cell_type": "markdown",
   "metadata": {},
   "source": [
    "### 期間について　\n",
    "#### launchからdeadlineまでの時間の長さを変数deltaとして新たに追加した。またlaunchされた年を変数yearとして追加した。　"
   ]
  },
  {
   "cell_type": "code",
   "execution_count": 14,
   "metadata": {},
   "outputs": [],
   "source": [
    "df_ks_2[\"launched\"]= pd.to_datetime(df_ks_2[\"launched\"])\n",
    "df_ks_2[\"deadline\"]= pd.to_datetime(df_ks_2[\"deadline\"])\n",
    "df_ks_2[\"delta\"]=(df_ks_2[\"deadline\"]-df_ks_2[\"launched\"]).dt.seconds\n"
   ]
  },
  {
   "cell_type": "code",
   "execution_count": 15,
   "metadata": {},
   "outputs": [
    {
     "data": {
      "text/plain": [
       "count    331675.000000\n",
       "mean      37538.779010\n",
       "std       27822.608677\n",
       "min           0.000000\n",
       "25%       13872.000000\n",
       "50%       27603.000000\n",
       "75%       65898.500000\n",
       "max       86399.000000\n",
       "Name: delta, dtype: float64"
      ]
     },
     "execution_count": 15,
     "metadata": {},
     "output_type": "execute_result"
    }
   ],
   "source": [
    "df_ks_2[\"delta\"].describe()"
   ]
  },
  {
   "cell_type": "code",
   "execution_count": 16,
   "metadata": {},
   "outputs": [],
   "source": [
    "df_ks_2[\"year\"]=df_ks_2[\"launched\"].dt.year"
   ]
  },
  {
   "cell_type": "code",
   "execution_count": 17,
   "metadata": {},
   "outputs": [
    {
     "name": "stdout",
     "output_type": "stream",
     "text": [
      "name                         object\n",
      "category                     object\n",
      "main_category                object\n",
      "currency                     object\n",
      "deadline             datetime64[ns]\n",
      "goal                        float64\n",
      "launched             datetime64[ns]\n",
      "state                         int64\n",
      "backers                       int64\n",
      "country                      object\n",
      "usd_goal_real               float64\n",
      "usd_goal_real_std           float64\n",
      "backers_std                 float64\n",
      "delta                         int64\n",
      "year                          int64\n",
      "dtype: object\n"
     ]
    },
    {
     "data": {
      "text/html": [
       "<div>\n",
       "<style scoped>\n",
       "    .dataframe tbody tr th:only-of-type {\n",
       "        vertical-align: middle;\n",
       "    }\n",
       "\n",
       "    .dataframe tbody tr th {\n",
       "        vertical-align: top;\n",
       "    }\n",
       "\n",
       "    .dataframe thead th {\n",
       "        text-align: right;\n",
       "    }\n",
       "</style>\n",
       "<table border=\"1\" class=\"dataframe\">\n",
       "  <thead>\n",
       "    <tr style=\"text-align: right;\">\n",
       "      <th></th>\n",
       "      <th>name</th>\n",
       "      <th>category</th>\n",
       "      <th>main_category</th>\n",
       "      <th>currency</th>\n",
       "      <th>deadline</th>\n",
       "      <th>goal</th>\n",
       "      <th>launched</th>\n",
       "      <th>state</th>\n",
       "      <th>backers</th>\n",
       "      <th>country</th>\n",
       "      <th>usd_goal_real</th>\n",
       "      <th>usd_goal_real_std</th>\n",
       "      <th>backers_std</th>\n",
       "      <th>delta</th>\n",
       "      <th>year</th>\n",
       "    </tr>\n",
       "  </thead>\n",
       "  <tbody>\n",
       "    <tr>\n",
       "      <td>5</td>\n",
       "      <td>Monarch Espresso Bar</td>\n",
       "      <td>Restaurants</td>\n",
       "      <td>Food</td>\n",
       "      <td>USD</td>\n",
       "      <td>2016-04-01</td>\n",
       "      <td>50000.0</td>\n",
       "      <td>2016-02-26 13:38:27</td>\n",
       "      <td>1</td>\n",
       "      <td>224</td>\n",
       "      <td>US</td>\n",
       "      <td>50000.00</td>\n",
       "      <td>0.007656</td>\n",
       "      <td>0.111472</td>\n",
       "      <td>37293</td>\n",
       "      <td>2016</td>\n",
       "    </tr>\n",
       "    <tr>\n",
       "      <td>6</td>\n",
       "      <td>Support Solar Roasted Coffee &amp; Green Energy!  ...</td>\n",
       "      <td>Food</td>\n",
       "      <td>Food</td>\n",
       "      <td>USD</td>\n",
       "      <td>2014-12-21</td>\n",
       "      <td>1000.0</td>\n",
       "      <td>2014-12-01 18:30:44</td>\n",
       "      <td>1</td>\n",
       "      <td>16</td>\n",
       "      <td>US</td>\n",
       "      <td>1000.00</td>\n",
       "      <td>-0.036531</td>\n",
       "      <td>-0.103976</td>\n",
       "      <td>19756</td>\n",
       "      <td>2014</td>\n",
       "    </tr>\n",
       "    <tr>\n",
       "      <td>11</td>\n",
       "      <td>Lisa Lim New CD!</td>\n",
       "      <td>Indie Rock</td>\n",
       "      <td>Music</td>\n",
       "      <td>USD</td>\n",
       "      <td>2013-04-08</td>\n",
       "      <td>12500.0</td>\n",
       "      <td>2013-03-09 06:42:58</td>\n",
       "      <td>1</td>\n",
       "      <td>100</td>\n",
       "      <td>US</td>\n",
       "      <td>12500.00</td>\n",
       "      <td>-0.026160</td>\n",
       "      <td>-0.016968</td>\n",
       "      <td>62222</td>\n",
       "      <td>2013</td>\n",
       "    </tr>\n",
       "    <tr>\n",
       "      <td>14</td>\n",
       "      <td>Tombstone: Old West tabletop game and miniatur...</td>\n",
       "      <td>Tabletop Games</td>\n",
       "      <td>Games</td>\n",
       "      <td>GBP</td>\n",
       "      <td>2017-05-03</td>\n",
       "      <td>5000.0</td>\n",
       "      <td>2017-04-05 19:44:18</td>\n",
       "      <td>1</td>\n",
       "      <td>761</td>\n",
       "      <td>GB</td>\n",
       "      <td>6469.73</td>\n",
       "      <td>-0.031598</td>\n",
       "      <td>0.667704</td>\n",
       "      <td>15342</td>\n",
       "      <td>2017</td>\n",
       "    </tr>\n",
       "    <tr>\n",
       "      <td>18</td>\n",
       "      <td>Mike Corey's Darkness &amp; Light Album</td>\n",
       "      <td>Music</td>\n",
       "      <td>Music</td>\n",
       "      <td>USD</td>\n",
       "      <td>2012-08-17</td>\n",
       "      <td>250.0</td>\n",
       "      <td>2012-08-02 14:11:32</td>\n",
       "      <td>1</td>\n",
       "      <td>7</td>\n",
       "      <td>US</td>\n",
       "      <td>250.00</td>\n",
       "      <td>-0.037207</td>\n",
       "      <td>-0.113299</td>\n",
       "      <td>35308</td>\n",
       "      <td>2012</td>\n",
       "    </tr>\n",
       "  </tbody>\n",
       "</table>\n",
       "</div>"
      ],
      "text/plain": [
       "                                                 name        category  \\\n",
       "5                                Monarch Espresso Bar     Restaurants   \n",
       "6   Support Solar Roasted Coffee & Green Energy!  ...            Food   \n",
       "11                                   Lisa Lim New CD!      Indie Rock   \n",
       "14  Tombstone: Old West tabletop game and miniatur...  Tabletop Games   \n",
       "18                Mike Corey's Darkness & Light Album           Music   \n",
       "\n",
       "   main_category currency   deadline     goal            launched  state  \\\n",
       "5           Food      USD 2016-04-01  50000.0 2016-02-26 13:38:27      1   \n",
       "6           Food      USD 2014-12-21   1000.0 2014-12-01 18:30:44      1   \n",
       "11         Music      USD 2013-04-08  12500.0 2013-03-09 06:42:58      1   \n",
       "14         Games      GBP 2017-05-03   5000.0 2017-04-05 19:44:18      1   \n",
       "18         Music      USD 2012-08-17    250.0 2012-08-02 14:11:32      1   \n",
       "\n",
       "    backers country  usd_goal_real  usd_goal_real_std  backers_std  delta  \\\n",
       "5       224      US       50000.00           0.007656     0.111472  37293   \n",
       "6        16      US        1000.00          -0.036531    -0.103976  19756   \n",
       "11      100      US       12500.00          -0.026160    -0.016968  62222   \n",
       "14      761      GB        6469.73          -0.031598     0.667704  15342   \n",
       "18        7      US         250.00          -0.037207    -0.113299  35308   \n",
       "\n",
       "    year  \n",
       "5   2016  \n",
       "6   2014  \n",
       "11  2013  \n",
       "14  2017  \n",
       "18  2012  "
      ]
     },
     "execution_count": 17,
     "metadata": {},
     "output_type": "execute_result"
    }
   ],
   "source": [
    "print(df_ks_2.dtypes)\n",
    "df_ks_2.head()"
   ]
  },
  {
   "cell_type": "code",
   "execution_count": 18,
   "metadata": {},
   "outputs": [
    {
     "data": {
      "text/plain": [
       "year  state\n",
       "2009  0          600\n",
       "      1          579\n",
       "2010  0         4984\n",
       "      1         4593\n",
       "2011  0        11878\n",
       "      1        12171\n",
       "2012  0        20588\n",
       "      1        17892\n",
       "2013  0        21686\n",
       "      1        19415\n",
       "2014  0        38199\n",
       "      1        21107\n",
       "2015  0        44301\n",
       "      1        20971\n",
       "2016  0        30526\n",
       "      1        18766\n",
       "2017  0        24957\n",
       "      1        18462\n",
       "Name: state, dtype: int64"
      ]
     },
     "metadata": {},
     "output_type": "display_data"
    },
    {
     "data": {
      "text/plain": [
       "year\n",
       "2009    0.491094\n",
       "2010    0.479587\n",
       "2011    0.506092\n",
       "2012    0.464969\n",
       "2013    0.472373\n",
       "2014    0.355900\n",
       "2015    0.321286\n",
       "2016    0.380711\n",
       "2017    0.425206\n",
       "Name: state, dtype: float64"
      ]
     },
     "execution_count": 18,
     "metadata": {},
     "output_type": "execute_result"
    },
    {
     "data": {
      "image/png": "[encoded data removed]",
      "text/plain": [
       "<Figure size 2160x720 with 1 Axes>"
      ]
     },
     "metadata": {
      "needs_background": "light"
     },
     "output_type": "display_data"
    }
   ],
   "source": [
    "data_count_year = df_ks_2.groupby([\"year\",\"state\"])[\"state\"].count()\n",
    "plt.figure(figsize=(30,10))\n",
    "g = sns.barplot(data_count_year.keys(), data_count_year.values)\n",
    "g.set_xticklabels(data_count_year.keys(),rotation=30)\n",
    "display(data_count_year)\n",
    "df_ks_2.groupby([\"year\"])[\"state\"].mean()\n"
   ]
  },
  {
   "cell_type": "code",
   "execution_count": 19,
   "metadata": {},
   "outputs": [
    {
     "data": {
      "image/png": "[encoded data removed]",
      "text/plain": [
       "<Figure size 432x288 with 2 Axes>"
      ]
     },
     "metadata": {
      "needs_background": "light"
     },
     "output_type": "display_data"
    }
   ],
   "source": [
    "# 相関係数をヒートマップにして可視化\n",
    "sns.heatmap(df_ks_2.corr(), annot=True)\n",
    "plt.ylim(8, 0)\n",
    "plt.show()"
   ]
  },
  {
   "cell_type": "code",
   "execution_count": 20,
   "metadata": {},
   "outputs": [
    {
     "data": {
      "image/png": "[encoded data removed]",
      "text/plain": [
       "<Figure size 720x720 with 64 Axes>"
      ]
     },
     "metadata": {},
     "output_type": "display_data"
    }
   ],
   "source": [
    "pd.plotting.scatter_matrix(df_ks_2, figsize=(10,10))\n",
    "plt.show()"
   ]
  },
  {
   "cell_type": "markdown",
   "metadata": {},
   "source": [
    "#### deltaはstateとの相関がほとんどなかった。期間が長くなるほど、成功する確率は高くなると考えたが、相関係数は負の値となっていた。プロジェクト開始年については、近年になるほど成功確率が下がっている傾向が見られる。\n",
    "\n",
    "#### その他ではbackersが比較的stateとの相関が大きかった。, goal, usd_goalもstateと関係していると考えられる、usd_goalはgoalの通貨を揃えたものであるから、予測においては、usd_goalの方のみを用いることが妥当であると判断した。\n"
   ]
  },
  {
   "cell_type": "markdown",
   "metadata": {},
   "source": [
    "### カテゴリーについて\n",
    "#### 各カテゴリーごとの成功確率を求める。"
   ]
  },
  {
   "cell_type": "code",
   "execution_count": 20,
   "metadata": {},
   "outputs": [
    {
     "data": {
      "text/plain": [
       "main_category  state\n",
       "Art            0        14131\n",
       "               1        11510\n",
       "Comics         0         4036\n",
       "               1         5842\n",
       "Crafts         0         5703\n",
       "               1         2115\n",
       "Dance          0         1235\n",
       "               1         2338\n",
       "Design         0        14814\n",
       "               1        10550\n",
       "Fashion        0        14182\n",
       "               1         5593\n",
       "Film & Video   0        32904\n",
       "               1        23623\n",
       "Food           0        15969\n",
       "               1         6085\n",
       "Games          0        16003\n",
       "               1        12518\n",
       "Journalism     0         3137\n",
       "               1         1012\n",
       "Music          0        21752\n",
       "               1        24197\n",
       "Photography    0         6384\n",
       "               1         3305\n",
       "Publishing     0        23145\n",
       "               1        12300\n",
       "Technology     0        20616\n",
       "               1         6434\n",
       "Theater        0         3708\n",
       "               1         6534\n",
       "Name: state, dtype: int64"
      ]
     },
     "metadata": {},
     "output_type": "display_data"
    },
    {
     "data": {
      "text/plain": [
       "main_category\n",
       "Art             0.448890\n",
       "Comics          0.591415\n",
       "Crafts          0.270530\n",
       "Dance           0.654352\n",
       "Design          0.415944\n",
       "Fashion         0.282832\n",
       "Film & Video    0.417906\n",
       "Food            0.275914\n",
       "Games           0.438905\n",
       "Journalism      0.243914\n",
       "Music           0.526606\n",
       "Photography     0.341108\n",
       "Publishing      0.347017\n",
       "Technology      0.237856\n",
       "Theater         0.637961\n",
       "Name: state, dtype: float64"
      ]
     },
     "execution_count": 20,
     "metadata": {},
     "output_type": "execute_result"
    },
    {
     "data": {
      "image/png": "[encoded data removed]",
      "text/plain": [
       "<Figure size 2160x720 with 1 Axes>"
      ]
     },
     "metadata": {
      "needs_background": "light"
     },
     "output_type": "display_data"
    }
   ],
   "source": [
    "data_count_main_category = df_ks_2.groupby([\"main_category\",\"state\"])[\"state\"].count()\n",
    "plt.figure(figsize=(30,10))\n",
    "g = sns.barplot(data_count_main_category.keys(), data_count_main_category.values)\n",
    "g.set_xticklabels(data_count_main_category.keys(),rotation=30)\n",
    "display(data_count_main_category)\n",
    "df_ks_2.groupby([\"main_category\"])[\"state\"].mean()\n"
   ]
  },
  {
   "cell_type": "code",
   "execution_count": 21,
   "metadata": {},
   "outputs": [
    {
     "data": {
      "text/plain": [
       "category     state\n",
       "3D Printing  0         326\n",
       "             1         242\n",
       "Academic     0         589\n",
       "             1         188\n",
       "Accessories  0        1667\n",
       "                      ... \n",
       "World Music  1         922\n",
       "Young Adult  0         538\n",
       "             1         172\n",
       "Zines        0         176\n",
       "             1         179\n",
       "Name: state, Length: 318, dtype: int64"
      ]
     },
     "metadata": {},
     "output_type": "display_data"
    },
    {
     "data": {
      "text/plain": [
       "category\n",
       "3D Printing    0.426056\n",
       "Academic       0.241956\n",
       "Accessories    0.391606\n",
       "Action         0.172303\n",
       "Animals        0.275109\n",
       "                 ...   \n",
       "Woodworking    0.275992\n",
       "Workshops      0.337838\n",
       "World Music    0.475258\n",
       "Young Adult    0.242254\n",
       "Zines          0.504225\n",
       "Name: state, Length: 159, dtype: float64"
      ]
     },
     "execution_count": 21,
     "metadata": {},
     "output_type": "execute_result"
    }
   ],
   "source": [
    "data_count_category = df_ks_2.groupby([\"category\",\"state\"])[\"state\"].count()\n",
    "display(data_count_category)\n",
    "df_ks_2.groupby([\"category\"])[\"state\"].mean()"
   ]
  },
  {
   "cell_type": "markdown",
   "metadata": {},
   "source": [
    "#### カテゴリーによって成功確率は異なっているように思われる。カテゴリーの種類が多いため、予測ではメインカテゴリーのみを扱うこととする。"
   ]
  },
  {
   "cell_type": "code",
   "execution_count": 22,
   "metadata": {},
   "outputs": [],
   "source": [
    "df_ks_2=pd.get_dummies(df_ks_2, columns=['main_category'])"
   ]
  },
  {
   "cell_type": "code",
   "execution_count": 23,
   "metadata": {},
   "outputs": [
    {
     "data": {
      "image/png": "[encoded data removed]",
      "text/plain": [
       "<Figure size 432x288 with 2 Axes>"
      ]
     },
     "metadata": {
      "needs_background": "light"
     },
     "output_type": "display_data"
    }
   ],
   "source": [
    "# 相関係数をヒートマップにして可視化\n",
    "sns.heatmap(df_ks_2.corr(), annot=False)\n",
    "plt.ylim(20, 0)\n",
    "plt.show()"
   ]
  },
  {
   "cell_type": "markdown",
   "metadata": {},
   "source": [
    "### currency, countrryについて"
   ]
  },
  {
   "cell_type": "code",
   "execution_count": 24,
   "metadata": {},
   "outputs": [
    {
     "data": {
      "text/plain": [
       "currency  state\n",
       "AUD       0          4610\n",
       "          1          2011\n",
       "CAD       0          8238\n",
       "          1          4137\n",
       "CHF       0           465\n",
       "          1           187\n",
       "DKK       0           567\n",
       "          1           362\n",
       "EUR       0         10496\n",
       "          1          3882\n",
       "GBP       0         17395\n",
       "          1         12081\n",
       "HKD       0           261\n",
       "          1           216\n",
       "JPY       0            16\n",
       "          1             7\n",
       "MXN       0          1015\n",
       "          1           396\n",
       "NOK       0           421\n",
       "          1           163\n",
       "NZD       0           826\n",
       "          1           448\n",
       "SEK       0          1001\n",
       "          1           509\n",
       "SGD       0           276\n",
       "          1           178\n",
       "USD       0        152132\n",
       "          1        109379\n",
       "Name: state, dtype: int64"
      ]
     },
     "metadata": {},
     "output_type": "display_data"
    },
    {
     "data": {
      "text/plain": [
       "currency\n",
       "AUD    0.303731\n",
       "CAD    0.334303\n",
       "CHF    0.286810\n",
       "DKK    0.389666\n",
       "EUR    0.269996\n",
       "GBP    0.409859\n",
       "HKD    0.452830\n",
       "JPY    0.304348\n",
       "MXN    0.280652\n",
       "NOK    0.279110\n",
       "NZD    0.351648\n",
       "SEK    0.337086\n",
       "SGD    0.392070\n",
       "USD    0.418258\n",
       "Name: state, dtype: float64"
      ]
     },
     "execution_count": 24,
     "metadata": {},
     "output_type": "execute_result"
    },
    {
     "data": {
      "image/png": "[encoded data removed]",
      "text/plain": [
       "<Figure size 2160x720 with 1 Axes>"
      ]
     },
     "metadata": {
      "needs_background": "light"
     },
     "output_type": "display_data"
    }
   ],
   "source": [
    "data_count_currency = df_ks_2.groupby([\"currency\",\"state\"])[\"state\"].count()\n",
    "plt.figure(figsize=(30,10))\n",
    "g = sns.barplot(data_count_currency.keys(),data_count_currency.values)\n",
    "g.set_xticklabels(data_count_currency.keys(),rotation=30)\n",
    "display(data_count_currency)\n",
    "df_ks_2.groupby([\"currency\"])[\"state\"].mean()\n"
   ]
  },
  {
   "cell_type": "code",
   "execution_count": 25,
   "metadata": {},
   "outputs": [
    {
     "data": {
      "text/plain": [
       "country  state\n",
       "AT       0           378\n",
       "         1           107\n",
       "AU       0          4606\n",
       "         1          2010\n",
       "BE       0           371\n",
       "         1           152\n",
       "CA       0          8236\n",
       "         1          4134\n",
       "CH       0           465\n",
       "         1           187\n",
       "DE       0          2499\n",
       "         1           937\n",
       "DK       0           566\n",
       "         1           360\n",
       "ES       0          1381\n",
       "         1           492\n",
       "FR       0          1612\n",
       "         1           908\n",
       "GB       0         17387\n",
       "         1         12067\n",
       "HK       0           261\n",
       "         1           216\n",
       "IE       0           476\n",
       "         1           207\n",
       "IT       0          1930\n",
       "         1           439\n",
       "JP       0            16\n",
       "         1             7\n",
       "LU       0            38\n",
       "         1            19\n",
       "MX       0          1015\n",
       "         1           396\n",
       "N,0\"     0           105\n",
       "         1           105\n",
       "NL       0          1794\n",
       "         1           617\n",
       "NO       0           420\n",
       "         1           162\n",
       "NZ       0           826\n",
       "         1           448\n",
       "SE       0          1000\n",
       "         1           509\n",
       "SG       0           276\n",
       "         1           178\n",
       "US       0        152061\n",
       "         1        109299\n",
       "Name: state, dtype: int64"
      ]
     },
     "metadata": {},
     "output_type": "display_data"
    },
    {
     "data": {
      "text/plain": [
       "country\n",
       "AT      0.220619\n",
       "AU      0.303809\n",
       "BE      0.290631\n",
       "CA      0.334196\n",
       "CH      0.286810\n",
       "DE      0.272701\n",
       "DK      0.388769\n",
       "ES      0.262680\n",
       "FR      0.360317\n",
       "GB      0.409690\n",
       "HK      0.452830\n",
       "IE      0.303075\n",
       "IT      0.185310\n",
       "JP      0.304348\n",
       "LU      0.333333\n",
       "MX      0.280652\n",
       "N,0\"    0.500000\n",
       "NL      0.255910\n",
       "NO      0.278351\n",
       "NZ      0.351648\n",
       "SE      0.337309\n",
       "SG      0.392070\n",
       "US      0.418193\n",
       "Name: state, dtype: float64"
      ]
     },
     "execution_count": 25,
     "metadata": {},
     "output_type": "execute_result"
    },
    {
     "data": {
      "image/png": "[encoded data removed]",
      "text/plain": [
       "<Figure size 2160x720 with 1 Axes>"
      ]
     },
     "metadata": {
      "needs_background": "light"
     },
     "output_type": "display_data"
    }
   ],
   "source": [
    "data_count_coutnry = df_ks_2.groupby([\"country\",\"state\"])[\"state\"].count()\n",
    "plt.figure(figsize=(30,10))\n",
    "g = sns.barplot(data_count_coutnry.keys(), data_count_coutnry.values)\n",
    "g.set_xticklabels(data_count_coutnry.keys(),rotation=30)\n",
    "display(data_count_coutnry)\n",
    "df_ks_2.groupby([\"country\"])[\"state\"].mean()"
   ]
  },
  {
   "cell_type": "markdown",
   "metadata": {},
   "source": [
    "#### 国、通貨による成功確率の違いは見られたが、データ数が少ない国が多く、信頼性が高くないと判断した。"
   ]
  },
  {
   "cell_type": "markdown",
   "metadata": {},
   "source": [
    "## 予測モデルの構築"
   ]
  },
  {
   "cell_type": "code",
   "execution_count": 26,
   "metadata": {},
   "outputs": [
    {
     "data": {
      "text/html": [
       "<div>\n",
       "<style scoped>\n",
       "    .dataframe tbody tr th:only-of-type {\n",
       "        vertical-align: middle;\n",
       "    }\n",
       "\n",
       "    .dataframe tbody tr th {\n",
       "        vertical-align: top;\n",
       "    }\n",
       "\n",
       "    .dataframe thead th {\n",
       "        text-align: right;\n",
       "    }\n",
       "</style>\n",
       "<table border=\"1\" class=\"dataframe\">\n",
       "  <thead>\n",
       "    <tr style=\"text-align: right;\">\n",
       "      <th></th>\n",
       "      <th>name</th>\n",
       "      <th>category</th>\n",
       "      <th>currency</th>\n",
       "      <th>deadline</th>\n",
       "      <th>goal</th>\n",
       "      <th>launched</th>\n",
       "      <th>state</th>\n",
       "      <th>backers</th>\n",
       "      <th>country</th>\n",
       "      <th>usd_goal_real</th>\n",
       "      <th>...</th>\n",
       "      <th>main_category_Fashion</th>\n",
       "      <th>main_category_Film &amp; Video</th>\n",
       "      <th>main_category_Food</th>\n",
       "      <th>main_category_Games</th>\n",
       "      <th>main_category_Journalism</th>\n",
       "      <th>main_category_Music</th>\n",
       "      <th>main_category_Photography</th>\n",
       "      <th>main_category_Publishing</th>\n",
       "      <th>main_category_Technology</th>\n",
       "      <th>main_category_Theater</th>\n",
       "    </tr>\n",
       "  </thead>\n",
       "  <tbody>\n",
       "    <tr>\n",
       "      <td>5</td>\n",
       "      <td>Monarch Espresso Bar</td>\n",
       "      <td>Restaurants</td>\n",
       "      <td>USD</td>\n",
       "      <td>2016-04-01</td>\n",
       "      <td>50000.0</td>\n",
       "      <td>2016-02-26 13:38:27</td>\n",
       "      <td>1</td>\n",
       "      <td>224</td>\n",
       "      <td>US</td>\n",
       "      <td>50000.00</td>\n",
       "      <td>...</td>\n",
       "      <td>0</td>\n",
       "      <td>0</td>\n",
       "      <td>1</td>\n",
       "      <td>0</td>\n",
       "      <td>0</td>\n",
       "      <td>0</td>\n",
       "      <td>0</td>\n",
       "      <td>0</td>\n",
       "      <td>0</td>\n",
       "      <td>0</td>\n",
       "    </tr>\n",
       "    <tr>\n",
       "      <td>6</td>\n",
       "      <td>Support Solar Roasted Coffee &amp; Green Energy!  ...</td>\n",
       "      <td>Food</td>\n",
       "      <td>USD</td>\n",
       "      <td>2014-12-21</td>\n",
       "      <td>1000.0</td>\n",
       "      <td>2014-12-01 18:30:44</td>\n",
       "      <td>1</td>\n",
       "      <td>16</td>\n",
       "      <td>US</td>\n",
       "      <td>1000.00</td>\n",
       "      <td>...</td>\n",
       "      <td>0</td>\n",
       "      <td>0</td>\n",
       "      <td>1</td>\n",
       "      <td>0</td>\n",
       "      <td>0</td>\n",
       "      <td>0</td>\n",
       "      <td>0</td>\n",
       "      <td>0</td>\n",
       "      <td>0</td>\n",
       "      <td>0</td>\n",
       "    </tr>\n",
       "    <tr>\n",
       "      <td>11</td>\n",
       "      <td>Lisa Lim New CD!</td>\n",
       "      <td>Indie Rock</td>\n",
       "      <td>USD</td>\n",
       "      <td>2013-04-08</td>\n",
       "      <td>12500.0</td>\n",
       "      <td>2013-03-09 06:42:58</td>\n",
       "      <td>1</td>\n",
       "      <td>100</td>\n",
       "      <td>US</td>\n",
       "      <td>12500.00</td>\n",
       "      <td>...</td>\n",
       "      <td>0</td>\n",
       "      <td>0</td>\n",
       "      <td>0</td>\n",
       "      <td>0</td>\n",
       "      <td>0</td>\n",
       "      <td>1</td>\n",
       "      <td>0</td>\n",
       "      <td>0</td>\n",
       "      <td>0</td>\n",
       "      <td>0</td>\n",
       "    </tr>\n",
       "    <tr>\n",
       "      <td>14</td>\n",
       "      <td>Tombstone: Old West tabletop game and miniatur...</td>\n",
       "      <td>Tabletop Games</td>\n",
       "      <td>GBP</td>\n",
       "      <td>2017-05-03</td>\n",
       "      <td>5000.0</td>\n",
       "      <td>2017-04-05 19:44:18</td>\n",
       "      <td>1</td>\n",
       "      <td>761</td>\n",
       "      <td>GB</td>\n",
       "      <td>6469.73</td>\n",
       "      <td>...</td>\n",
       "      <td>0</td>\n",
       "      <td>0</td>\n",
       "      <td>0</td>\n",
       "      <td>1</td>\n",
       "      <td>0</td>\n",
       "      <td>0</td>\n",
       "      <td>0</td>\n",
       "      <td>0</td>\n",
       "      <td>0</td>\n",
       "      <td>0</td>\n",
       "    </tr>\n",
       "    <tr>\n",
       "      <td>18</td>\n",
       "      <td>Mike Corey's Darkness &amp; Light Album</td>\n",
       "      <td>Music</td>\n",
       "      <td>USD</td>\n",
       "      <td>2012-08-17</td>\n",
       "      <td>250.0</td>\n",
       "      <td>2012-08-02 14:11:32</td>\n",
       "      <td>1</td>\n",
       "      <td>7</td>\n",
       "      <td>US</td>\n",
       "      <td>250.00</td>\n",
       "      <td>...</td>\n",
       "      <td>0</td>\n",
       "      <td>0</td>\n",
       "      <td>0</td>\n",
       "      <td>0</td>\n",
       "      <td>0</td>\n",
       "      <td>1</td>\n",
       "      <td>0</td>\n",
       "      <td>0</td>\n",
       "      <td>0</td>\n",
       "      <td>0</td>\n",
       "    </tr>\n",
       "  </tbody>\n",
       "</table>\n",
       "<p>5 rows × 29 columns</p>\n",
       "</div>"
      ],
      "text/plain": [
       "                                                 name        category  \\\n",
       "5                                Monarch Espresso Bar     Restaurants   \n",
       "6   Support Solar Roasted Coffee & Green Energy!  ...            Food   \n",
       "11                                   Lisa Lim New CD!      Indie Rock   \n",
       "14  Tombstone: Old West tabletop game and miniatur...  Tabletop Games   \n",
       "18                Mike Corey's Darkness & Light Album           Music   \n",
       "\n",
       "   currency   deadline     goal            launched  state  backers country  \\\n",
       "5       USD 2016-04-01  50000.0 2016-02-26 13:38:27      1      224      US   \n",
       "6       USD 2014-12-21   1000.0 2014-12-01 18:30:44      1       16      US   \n",
       "11      USD 2013-04-08  12500.0 2013-03-09 06:42:58      1      100      US   \n",
       "14      GBP 2017-05-03   5000.0 2017-04-05 19:44:18      1      761      GB   \n",
       "18      USD 2012-08-17    250.0 2012-08-02 14:11:32      1        7      US   \n",
       "\n",
       "    usd_goal_real  ...  main_category_Fashion  main_category_Film & Video  \\\n",
       "5        50000.00  ...                      0                           0   \n",
       "6         1000.00  ...                      0                           0   \n",
       "11       12500.00  ...                      0                           0   \n",
       "14        6469.73  ...                      0                           0   \n",
       "18         250.00  ...                      0                           0   \n",
       "\n",
       "    main_category_Food  main_category_Games  main_category_Journalism  \\\n",
       "5                    1                    0                         0   \n",
       "6                    1                    0                         0   \n",
       "11                   0                    0                         0   \n",
       "14                   0                    1                         0   \n",
       "18                   0                    0                         0   \n",
       "\n",
       "    main_category_Music  main_category_Photography  main_category_Publishing  \\\n",
       "5                     0                          0                         0   \n",
       "6                     0                          0                         0   \n",
       "11                    1                          0                         0   \n",
       "14                    0                          0                         0   \n",
       "18                    1                          0                         0   \n",
       "\n",
       "    main_category_Technology  main_category_Theater  \n",
       "5                          0                      0  \n",
       "6                          0                      0  \n",
       "11                         0                      0  \n",
       "14                         0                      0  \n",
       "18                         0                      0  \n",
       "\n",
       "[5 rows x 29 columns]"
      ]
     },
     "execution_count": 26,
     "metadata": {},
     "output_type": "execute_result"
    }
   ],
   "source": [
    "df_ks_2.head()"
   ]
  },
  {
   "cell_type": "markdown",
   "metadata": {},
   "source": [
    "#### nameは予測に関係していないと考えられるため、今回は除外した。これまでの考察から、まずは usd_goal_std, backers_std, main_categoryのダミー変数, yearで予測を行うこととした。"
   ]
  },
  {
   "cell_type": "code",
   "execution_count": 27,
   "metadata": {},
   "outputs": [
    {
     "data": {
      "text/html": [
       "<div>\n",
       "<style scoped>\n",
       "    .dataframe tbody tr th:only-of-type {\n",
       "        vertical-align: middle;\n",
       "    }\n",
       "\n",
       "    .dataframe tbody tr th {\n",
       "        vertical-align: top;\n",
       "    }\n",
       "\n",
       "    .dataframe thead th {\n",
       "        text-align: right;\n",
       "    }\n",
       "</style>\n",
       "<table border=\"1\" class=\"dataframe\">\n",
       "  <thead>\n",
       "    <tr style=\"text-align: right;\">\n",
       "      <th></th>\n",
       "      <th>usd_goal_real_std</th>\n",
       "      <th>backers_std</th>\n",
       "      <th>year</th>\n",
       "      <th>main_category_Art</th>\n",
       "      <th>main_category_Comics</th>\n",
       "      <th>main_category_Crafts</th>\n",
       "      <th>main_category_Dance</th>\n",
       "      <th>main_category_Design</th>\n",
       "      <th>main_category_Fashion</th>\n",
       "      <th>main_category_Film &amp; Video</th>\n",
       "      <th>main_category_Food</th>\n",
       "      <th>main_category_Games</th>\n",
       "      <th>main_category_Journalism</th>\n",
       "      <th>main_category_Music</th>\n",
       "      <th>main_category_Photography</th>\n",
       "      <th>main_category_Publishing</th>\n",
       "      <th>main_category_Technology</th>\n",
       "      <th>main_category_Theater</th>\n",
       "    </tr>\n",
       "  </thead>\n",
       "  <tbody>\n",
       "    <tr>\n",
       "      <td>5</td>\n",
       "      <td>0.007656</td>\n",
       "      <td>0.111472</td>\n",
       "      <td>2016</td>\n",
       "      <td>0</td>\n",
       "      <td>0</td>\n",
       "      <td>0</td>\n",
       "      <td>0</td>\n",
       "      <td>0</td>\n",
       "      <td>0</td>\n",
       "      <td>0</td>\n",
       "      <td>1</td>\n",
       "      <td>0</td>\n",
       "      <td>0</td>\n",
       "      <td>0</td>\n",
       "      <td>0</td>\n",
       "      <td>0</td>\n",
       "      <td>0</td>\n",
       "      <td>0</td>\n",
       "    </tr>\n",
       "    <tr>\n",
       "      <td>6</td>\n",
       "      <td>-0.036531</td>\n",
       "      <td>-0.103976</td>\n",
       "      <td>2014</td>\n",
       "      <td>0</td>\n",
       "      <td>0</td>\n",
       "      <td>0</td>\n",
       "      <td>0</td>\n",
       "      <td>0</td>\n",
       "      <td>0</td>\n",
       "      <td>0</td>\n",
       "      <td>1</td>\n",
       "      <td>0</td>\n",
       "      <td>0</td>\n",
       "      <td>0</td>\n",
       "      <td>0</td>\n",
       "      <td>0</td>\n",
       "      <td>0</td>\n",
       "      <td>0</td>\n",
       "    </tr>\n",
       "    <tr>\n",
       "      <td>11</td>\n",
       "      <td>-0.026160</td>\n",
       "      <td>-0.016968</td>\n",
       "      <td>2013</td>\n",
       "      <td>0</td>\n",
       "      <td>0</td>\n",
       "      <td>0</td>\n",
       "      <td>0</td>\n",
       "      <td>0</td>\n",
       "      <td>0</td>\n",
       "      <td>0</td>\n",
       "      <td>0</td>\n",
       "      <td>0</td>\n",
       "      <td>0</td>\n",
       "      <td>1</td>\n",
       "      <td>0</td>\n",
       "      <td>0</td>\n",
       "      <td>0</td>\n",
       "      <td>0</td>\n",
       "    </tr>\n",
       "    <tr>\n",
       "      <td>14</td>\n",
       "      <td>-0.031598</td>\n",
       "      <td>0.667704</td>\n",
       "      <td>2017</td>\n",
       "      <td>0</td>\n",
       "      <td>0</td>\n",
       "      <td>0</td>\n",
       "      <td>0</td>\n",
       "      <td>0</td>\n",
       "      <td>0</td>\n",
       "      <td>0</td>\n",
       "      <td>0</td>\n",
       "      <td>1</td>\n",
       "      <td>0</td>\n",
       "      <td>0</td>\n",
       "      <td>0</td>\n",
       "      <td>0</td>\n",
       "      <td>0</td>\n",
       "      <td>0</td>\n",
       "    </tr>\n",
       "    <tr>\n",
       "      <td>18</td>\n",
       "      <td>-0.037207</td>\n",
       "      <td>-0.113299</td>\n",
       "      <td>2012</td>\n",
       "      <td>0</td>\n",
       "      <td>0</td>\n",
       "      <td>0</td>\n",
       "      <td>0</td>\n",
       "      <td>0</td>\n",
       "      <td>0</td>\n",
       "      <td>0</td>\n",
       "      <td>0</td>\n",
       "      <td>0</td>\n",
       "      <td>0</td>\n",
       "      <td>1</td>\n",
       "      <td>0</td>\n",
       "      <td>0</td>\n",
       "      <td>0</td>\n",
       "      <td>0</td>\n",
       "    </tr>\n",
       "  </tbody>\n",
       "</table>\n",
       "</div>"
      ],
      "text/plain": [
       "    usd_goal_real_std  backers_std  year  main_category_Art  \\\n",
       "5            0.007656     0.111472  2016                  0   \n",
       "6           -0.036531    -0.103976  2014                  0   \n",
       "11          -0.026160    -0.016968  2013                  0   \n",
       "14          -0.031598     0.667704  2017                  0   \n",
       "18          -0.037207    -0.113299  2012                  0   \n",
       "\n",
       "    main_category_Comics  main_category_Crafts  main_category_Dance  \\\n",
       "5                      0                     0                    0   \n",
       "6                      0                     0                    0   \n",
       "11                     0                     0                    0   \n",
       "14                     0                     0                    0   \n",
       "18                     0                     0                    0   \n",
       "\n",
       "    main_category_Design  main_category_Fashion  main_category_Film & Video  \\\n",
       "5                      0                      0                           0   \n",
       "6                      0                      0                           0   \n",
       "11                     0                      0                           0   \n",
       "14                     0                      0                           0   \n",
       "18                     0                      0                           0   \n",
       "\n",
       "    main_category_Food  main_category_Games  main_category_Journalism  \\\n",
       "5                    1                    0                         0   \n",
       "6                    1                    0                         0   \n",
       "11                   0                    0                         0   \n",
       "14                   0                    1                         0   \n",
       "18                   0                    0                         0   \n",
       "\n",
       "    main_category_Music  main_category_Photography  main_category_Publishing  \\\n",
       "5                     0                          0                         0   \n",
       "6                     0                          0                         0   \n",
       "11                    1                          0                         0   \n",
       "14                    0                          0                         0   \n",
       "18                    1                          0                         0   \n",
       "\n",
       "    main_category_Technology  main_category_Theater  \n",
       "5                          0                      0  \n",
       "6                          0                      0  \n",
       "11                         0                      0  \n",
       "14                         0                      0  \n",
       "18                         0                      0  "
      ]
     },
     "execution_count": 27,
     "metadata": {},
     "output_type": "execute_result"
    }
   ],
   "source": [
    "X = df_ks_2.drop([\"state\", \"launched\", \"country\", \"usd_goal_real\", \"backers\", \"name\", \"category\", \"currency\", \"deadline\", \"goal\", \"delta\"], axis=1)\n",
    "y = df_ks_2[\"state\"]\n",
    "X.head()"
   ]
  },
  {
   "cell_type": "markdown",
   "metadata": {},
   "source": [
    "#### ロジスティック回帰で予測"
   ]
  },
  {
   "cell_type": "code",
   "execution_count": 28,
   "metadata": {},
   "outputs": [],
   "source": [
    "from sklearn.linear_model import SGDClassifier\n",
    "from sklearn.metrics import log_loss, accuracy_score, confusion_matrix\n",
    "from sklearn.preprocessing import StandardScaler\n",
    "from  sklearn.metrics import accuracy_score, precision_recall_fscore_support, confusion_matrix "
   ]
  },
  {
   "cell_type": "code",
   "execution_count": 29,
   "metadata": {},
   "outputs": [
    {
     "name": "stdout",
     "output_type": "stream",
     "text": [
      "2.8646894724085463\n",
      "[[-7.00409826e+02  5.02826387e+03  1.81865909e-01  2.32669049e+02\n",
      "   3.49492572e+02 -1.89691331e+02  3.05202146e+02  5.39141413e+00\n",
      "  -3.34609056e+02  1.65635953e+02 -4.02694405e+02  1.41308451e+01\n",
      "  -1.25724983e+02  2.31231170e+02  5.02493530e+00  4.33451138e+01\n",
      "  -8.91915126e+02  5.95376393e+02]]\n"
     ]
    }
   ],
   "source": [
    "clf = SGDClassifier(loss='log', penalty='none', max_iter=10000, fit_intercept=True, random_state=1234, tol=1e-3, )\n",
    "clf.fit(X, y)\n",
    "\n",
    "# 重みを取得して表示\n",
    "w0 = clf.intercept_[0]\n",
    "w = clf.coef_\n",
    "\n",
    "print(w0)\n",
    "print(w)"
   ]
  },
  {
   "cell_type": "markdown",
   "metadata": {},
   "source": [
    "#### 結果の表示"
   ]
  },
  {
   "cell_type": "code",
   "execution_count": 30,
   "metadata": {},
   "outputs": [
    {
     "name": "stdout",
     "output_type": "stream",
     "text": [
      "対数尤度 = -2462083.130\n",
      "正答率 = 75.394%\n",
      "適合率（Precision） = 65.064%\n",
      "再現率（Recall） = 84.386%\n",
      "F1値（F1-score） = 73.476%\n"
     ]
    }
   ],
   "source": [
    "# ラベルを予測\n",
    "y_est = clf.predict(X)\n",
    "\n",
    "# 確率値を得る\n",
    "y_est_proba = clf.predict_proba(X)\n",
    "\n",
    "# 対数尤度を表示\n",
    "print('対数尤度 = {:.3f}'.format(- log_loss(y, y_est_proba, normalize=False))) \n",
    "\n",
    "# 正答率を表示\n",
    "print('正答率 = {:.3f}%'.format(100 * accuracy_score(y, y_est)))\n",
    "\n",
    "# Precision, Recall, F1-scoreを計算\n",
    "precision, recall, f1_score, _ = precision_recall_fscore_support(y, y_est)\n",
    "\n",
    "print('適合率（Precision） = {:.3f}%'.format(100 * precision[1]))\n",
    "print('再現率（Recall） = {:.3f}%'.format(100 * recall[1]))\n",
    "print('F1値（F1-score） = {:.3f}%'.format(100 * f1_score[1]))"
   ]
  },
  {
   "cell_type": "code",
   "execution_count": 31,
   "metadata": {},
   "outputs": [
    {
     "data": {
      "text/html": [
       "<div>\n",
       "<style scoped>\n",
       "    .dataframe tbody tr th:only-of-type {\n",
       "        vertical-align: middle;\n",
       "    }\n",
       "\n",
       "    .dataframe tbody tr th {\n",
       "        vertical-align: top;\n",
       "    }\n",
       "\n",
       "    .dataframe thead th {\n",
       "        text-align: right;\n",
       "    }\n",
       "</style>\n",
       "<table border=\"1\" class=\"dataframe\">\n",
       "  <thead>\n",
       "    <tr style=\"text-align: right;\">\n",
       "      <th></th>\n",
       "      <th>予測 = failed</th>\n",
       "      <th>予測 = successful</th>\n",
       "    </tr>\n",
       "  </thead>\n",
       "  <tbody>\n",
       "    <tr>\n",
       "      <td>正解 = failed</td>\n",
       "      <td>137022</td>\n",
       "      <td>60697</td>\n",
       "    </tr>\n",
       "    <tr>\n",
       "      <td>正解 = successful</td>\n",
       "      <td>20916</td>\n",
       "      <td>113040</td>\n",
       "    </tr>\n",
       "  </tbody>\n",
       "</table>\n",
       "</div>"
      ],
      "text/plain": [
       "                 予測 = failed  予測 = successful\n",
       "正解 = failed           137022            60697\n",
       "正解 = successful        20916           113040"
      ]
     },
     "execution_count": 31,
     "metadata": {},
     "output_type": "execute_result"
    }
   ],
   "source": [
    "# 予測値と正解のクロス集計\n",
    "conf_mat = pd.DataFrame(confusion_matrix(y, y_est), \n",
    "                        index=['正解 = failed', '正解 = successful'], \n",
    "                        columns=['予測 = failed', '予測 = successful'])\n",
    "\n",
    "conf_mat"
   ]
  },
  {
   "cell_type": "markdown",
   "metadata": {},
   "source": [
    "#### 予測モデルの構築が完了した。テストデータに対して、適合率は高いが、再現率は低いという結果であった。他の説明変数の組み合わせも試す。"
   ]
  },
  {
   "cell_type": "code",
   "execution_count": 32,
   "metadata": {},
   "outputs": [
    {
     "data": {
      "text/html": [
       "<div>\n",
       "<style scoped>\n",
       "    .dataframe tbody tr th:only-of-type {\n",
       "        vertical-align: middle;\n",
       "    }\n",
       "\n",
       "    .dataframe tbody tr th {\n",
       "        vertical-align: top;\n",
       "    }\n",
       "\n",
       "    .dataframe thead th {\n",
       "        text-align: right;\n",
       "    }\n",
       "</style>\n",
       "<table border=\"1\" class=\"dataframe\">\n",
       "  <thead>\n",
       "    <tr style=\"text-align: right;\">\n",
       "      <th></th>\n",
       "      <th>usd_goal_real_std</th>\n",
       "      <th>backers_std</th>\n",
       "    </tr>\n",
       "  </thead>\n",
       "  <tbody>\n",
       "    <tr>\n",
       "      <td>5</td>\n",
       "      <td>0.007656</td>\n",
       "      <td>0.111472</td>\n",
       "    </tr>\n",
       "    <tr>\n",
       "      <td>6</td>\n",
       "      <td>-0.036531</td>\n",
       "      <td>-0.103976</td>\n",
       "    </tr>\n",
       "    <tr>\n",
       "      <td>11</td>\n",
       "      <td>-0.026160</td>\n",
       "      <td>-0.016968</td>\n",
       "    </tr>\n",
       "    <tr>\n",
       "      <td>14</td>\n",
       "      <td>-0.031598</td>\n",
       "      <td>0.667704</td>\n",
       "    </tr>\n",
       "    <tr>\n",
       "      <td>18</td>\n",
       "      <td>-0.037207</td>\n",
       "      <td>-0.113299</td>\n",
       "    </tr>\n",
       "  </tbody>\n",
       "</table>\n",
       "</div>"
      ],
      "text/plain": [
       "    usd_goal_real_std  backers_std\n",
       "5            0.007656     0.111472\n",
       "6           -0.036531    -0.103976\n",
       "11          -0.026160    -0.016968\n",
       "14          -0.031598     0.667704\n",
       "18          -0.037207    -0.113299"
      ]
     },
     "execution_count": 32,
     "metadata": {},
     "output_type": "execute_result"
    }
   ],
   "source": [
    "X2 = df_ks_2[[\"usd_goal_real_std\", \"backers_std\"]]\n",
    "y = df_ks_2[\"state\"]\n",
    "X2.head()"
   ]
  },
  {
   "cell_type": "code",
   "execution_count": 33,
   "metadata": {},
   "outputs": [
    {
     "name": "stdout",
     "output_type": "stream",
     "text": [
      "-0.45152865536592185\n",
      "[[-91.55555349  32.98273605]]\n",
      "対数尤度 = -120617.571\n",
      "正答率 = 85.924%\n",
      "適合率（Precision） = 91.578%\n",
      "再現率（Recall） = 71.747%\n",
      "F1値（F1-score） = 80.459%\n"
     ]
    },
    {
     "data": {
      "text/html": [
       "<div>\n",
       "<style scoped>\n",
       "    .dataframe tbody tr th:only-of-type {\n",
       "        vertical-align: middle;\n",
       "    }\n",
       "\n",
       "    .dataframe tbody tr th {\n",
       "        vertical-align: top;\n",
       "    }\n",
       "\n",
       "    .dataframe thead th {\n",
       "        text-align: right;\n",
       "    }\n",
       "</style>\n",
       "<table border=\"1\" class=\"dataframe\">\n",
       "  <thead>\n",
       "    <tr style=\"text-align: right;\">\n",
       "      <th></th>\n",
       "      <th>予測 = failed</th>\n",
       "      <th>予測 = successful</th>\n",
       "    </tr>\n",
       "  </thead>\n",
       "  <tbody>\n",
       "    <tr>\n",
       "      <td>正解 = failed</td>\n",
       "      <td>188880</td>\n",
       "      <td>8839</td>\n",
       "    </tr>\n",
       "    <tr>\n",
       "      <td>正解 = successful</td>\n",
       "      <td>37846</td>\n",
       "      <td>96110</td>\n",
       "    </tr>\n",
       "  </tbody>\n",
       "</table>\n",
       "</div>"
      ],
      "text/plain": [
       "                 予測 = failed  予測 = successful\n",
       "正解 = failed           188880             8839\n",
       "正解 = successful        37846            96110"
      ]
     },
     "execution_count": 33,
     "metadata": {},
     "output_type": "execute_result"
    }
   ],
   "source": [
    "clf = SGDClassifier(loss='log', penalty='none', max_iter=10000, fit_intercept=True, random_state=1234, tol=1e-3, )\n",
    "clf.fit(X2, y)\n",
    "\n",
    "# 重みを取得して表示\n",
    "w0 = clf.intercept_[0]\n",
    "w = clf.coef_\n",
    "\n",
    "print(w0)\n",
    "print(w)\n",
    "\n",
    "# ラベルを予測\n",
    "y_est = clf.predict(X2)\n",
    "\n",
    "# 確率値を得る\n",
    "y_est_proba = clf.predict_proba(X2)\n",
    "\n",
    "# 対数尤度を表示\n",
    "print('対数尤度 = {:.3f}'.format(- log_loss(y, y_est_proba, normalize=False))) \n",
    "\n",
    "# 正答率を表示\n",
    "print('正答率 = {:.3f}%'.format(100 * accuracy_score(y, y_est)))\n",
    "\n",
    "# Precision, Recall, F1-scoreを計算\n",
    "precision, recall, f1_score, _ = precision_recall_fscore_support(y, y_est)\n",
    "\n",
    "print('適合率（Precision） = {:.3f}%'.format(100 * precision[1]))\n",
    "print('再現率（Recall） = {:.3f}%'.format(100 * recall[1]))\n",
    "print('F1値（F1-score） = {:.3f}%'.format(100 * f1_score[1]))\n",
    "\n",
    "# 予測値と正解のクロス集計\n",
    "conf_mat = pd.DataFrame(confusion_matrix(y, y_est), \n",
    "                        index=['正解 = failed', '正解 = successful'], \n",
    "                        columns=['予測 = failed', '予測 = successful'])\n",
    "\n",
    "conf_mat"
   ]
  },
  {
   "cell_type": "markdown",
   "metadata": {},
   "source": [
    "#### usd_goal_std backers_stdのみを用いた方がテストデータに対する精度は高いように思われる。他のモデルでも検証していきたい。\n",
    "#### usd_goal_std backers_stdのみを用いたモデルについて、予測値の境界線を図示する。"
   ]
  },
  {
   "cell_type": "code",
   "execution_count": 34,
   "metadata": {},
   "outputs": [
    {
     "data": {
      "image/png": "[encoded data removed]",
      "text/plain": [
       "<Figure size 432x288 with 1 Axes>"
      ]
     },
     "metadata": {
      "needs_background": "light"
     },
     "output_type": "display_data"
    }
   ],
   "source": [
    "# データをプロット\n",
    "df_success_2 = df_ks_2[df_ks_2['state']==1]\n",
    "df_fail_2 = df_ks_2[df_ks_2['state']==0]\n",
    "\n",
    "plt.grid(which='major',color='black',linestyle=':')\n",
    "plt.grid(which='minor',color='black',linestyle=':')\n",
    "plt.scatter(df_fail_2['usd_goal_real_std'], df_fail_2['backers_std'], color='b', label='failed')\n",
    "plt.scatter(df_success_2['usd_goal_real_std'], df_success_2['backers_std'], color='orange', label='successful')\n",
    "\n",
    "# 境界線をプロットして表示\n",
    "x = df_ks_2['usd_goal_real_std']\n",
    "line_x = np.arange(np.min(x) - 1, np.max(x) + 1)\n",
    "line_y = - line_x * w[0, 0] / w[0, 1] - w0 / w[0, 1]\n",
    "plt.plot(line_x, line_y, linestyle='-.', linewidth=3, color='purple', label='Threshold')\n",
    "plt.legend(loc='best')\n",
    "plt.show()\n"
   ]
  },
  {
   "cell_type": "code",
   "execution_count": 35,
   "metadata": {},
   "outputs": [
    {
     "data": {
      "image/png": "[encoded data removed]",
      "text/plain": [
       "<Figure size 432x288 with 1 Axes>"
      ]
     },
     "metadata": {
      "needs_background": "light"
     },
     "output_type": "display_data"
    }
   ],
   "source": [
    "# データをプロット\n",
    "df_success_2 = df_ks_2[df_ks_2['state']==1]\n",
    "df_fail_2 = df_ks_2[df_ks_2['state']==0]\n",
    "\n",
    "plt.grid(which='major',color='black',linestyle=':')\n",
    "plt.grid(which='minor',color='black',linestyle=':')\n",
    "plt.scatter(df_fail_2['usd_goal_real_std'], df_fail_2['backers_std'], color='b', label='failed')\n",
    "plt.scatter(df_success_2['usd_goal_real_std'], df_success_2['backers_std'], color='orange', label='successful')\n",
    "\n",
    "# 境界線をプロットして表示\n",
    "x = df_ks_2['usd_goal_real_std']\n",
    "line_x = np.arange(np.min(x) - 1, np.max(x) + 1)\n",
    "line_y = - line_x * w[0, 0] / w[0, 1] - w0 / w[0, 1]\n",
    "plt.plot(line_x, line_y, linestyle='-.', linewidth=3, color='purple', label='Threshold')\n",
    "plt.xlim([0,2])\n",
    "plt.ylim([0,20])\n",
    "plt.legend(loc='best')\n",
    "plt.show()\n"
   ]
  },
  {
   "cell_type": "markdown",
   "metadata": {},
   "source": [
    "#### usd_goal_std backers_stdのみを用いた予測モデルは、両者の値が小さい部分で当てはまりが悪くなっており、改善の余地がある。\n",
    "#### usd_goal_std backers_stdにmain_categoryのみを加えた場合にどうなるかも検証した。"
   ]
  },
  {
   "cell_type": "code",
   "execution_count": 36,
   "metadata": {},
   "outputs": [
    {
     "data": {
      "text/html": [
       "<div>\n",
       "<style scoped>\n",
       "    .dataframe tbody tr th:only-of-type {\n",
       "        vertical-align: middle;\n",
       "    }\n",
       "\n",
       "    .dataframe tbody tr th {\n",
       "        vertical-align: top;\n",
       "    }\n",
       "\n",
       "    .dataframe thead th {\n",
       "        text-align: right;\n",
       "    }\n",
       "</style>\n",
       "<table border=\"1\" class=\"dataframe\">\n",
       "  <thead>\n",
       "    <tr style=\"text-align: right;\">\n",
       "      <th></th>\n",
       "      <th>usd_goal_real_std</th>\n",
       "      <th>backers_std</th>\n",
       "      <th>year</th>\n",
       "      <th>main_category_Art</th>\n",
       "      <th>main_category_Comics</th>\n",
       "      <th>main_category_Crafts</th>\n",
       "      <th>main_category_Dance</th>\n",
       "      <th>main_category_Design</th>\n",
       "      <th>main_category_Fashion</th>\n",
       "      <th>main_category_Film &amp; Video</th>\n",
       "      <th>main_category_Food</th>\n",
       "      <th>main_category_Games</th>\n",
       "      <th>main_category_Journalism</th>\n",
       "      <th>main_category_Music</th>\n",
       "      <th>main_category_Photography</th>\n",
       "      <th>main_category_Publishing</th>\n",
       "      <th>main_category_Technology</th>\n",
       "      <th>main_category_Theater</th>\n",
       "    </tr>\n",
       "  </thead>\n",
       "  <tbody>\n",
       "    <tr>\n",
       "      <td>5</td>\n",
       "      <td>0.007656</td>\n",
       "      <td>0.111472</td>\n",
       "      <td>2016</td>\n",
       "      <td>0</td>\n",
       "      <td>0</td>\n",
       "      <td>0</td>\n",
       "      <td>0</td>\n",
       "      <td>0</td>\n",
       "      <td>0</td>\n",
       "      <td>0</td>\n",
       "      <td>1</td>\n",
       "      <td>0</td>\n",
       "      <td>0</td>\n",
       "      <td>0</td>\n",
       "      <td>0</td>\n",
       "      <td>0</td>\n",
       "      <td>0</td>\n",
       "      <td>0</td>\n",
       "    </tr>\n",
       "    <tr>\n",
       "      <td>6</td>\n",
       "      <td>-0.036531</td>\n",
       "      <td>-0.103976</td>\n",
       "      <td>2014</td>\n",
       "      <td>0</td>\n",
       "      <td>0</td>\n",
       "      <td>0</td>\n",
       "      <td>0</td>\n",
       "      <td>0</td>\n",
       "      <td>0</td>\n",
       "      <td>0</td>\n",
       "      <td>1</td>\n",
       "      <td>0</td>\n",
       "      <td>0</td>\n",
       "      <td>0</td>\n",
       "      <td>0</td>\n",
       "      <td>0</td>\n",
       "      <td>0</td>\n",
       "      <td>0</td>\n",
       "    </tr>\n",
       "    <tr>\n",
       "      <td>11</td>\n",
       "      <td>-0.026160</td>\n",
       "      <td>-0.016968</td>\n",
       "      <td>2013</td>\n",
       "      <td>0</td>\n",
       "      <td>0</td>\n",
       "      <td>0</td>\n",
       "      <td>0</td>\n",
       "      <td>0</td>\n",
       "      <td>0</td>\n",
       "      <td>0</td>\n",
       "      <td>0</td>\n",
       "      <td>0</td>\n",
       "      <td>0</td>\n",
       "      <td>1</td>\n",
       "      <td>0</td>\n",
       "      <td>0</td>\n",
       "      <td>0</td>\n",
       "      <td>0</td>\n",
       "    </tr>\n",
       "    <tr>\n",
       "      <td>14</td>\n",
       "      <td>-0.031598</td>\n",
       "      <td>0.667704</td>\n",
       "      <td>2017</td>\n",
       "      <td>0</td>\n",
       "      <td>0</td>\n",
       "      <td>0</td>\n",
       "      <td>0</td>\n",
       "      <td>0</td>\n",
       "      <td>0</td>\n",
       "      <td>0</td>\n",
       "      <td>0</td>\n",
       "      <td>1</td>\n",
       "      <td>0</td>\n",
       "      <td>0</td>\n",
       "      <td>0</td>\n",
       "      <td>0</td>\n",
       "      <td>0</td>\n",
       "      <td>0</td>\n",
       "    </tr>\n",
       "    <tr>\n",
       "      <td>18</td>\n",
       "      <td>-0.037207</td>\n",
       "      <td>-0.113299</td>\n",
       "      <td>2012</td>\n",
       "      <td>0</td>\n",
       "      <td>0</td>\n",
       "      <td>0</td>\n",
       "      <td>0</td>\n",
       "      <td>0</td>\n",
       "      <td>0</td>\n",
       "      <td>0</td>\n",
       "      <td>0</td>\n",
       "      <td>0</td>\n",
       "      <td>0</td>\n",
       "      <td>1</td>\n",
       "      <td>0</td>\n",
       "      <td>0</td>\n",
       "      <td>0</td>\n",
       "      <td>0</td>\n",
       "    </tr>\n",
       "  </tbody>\n",
       "</table>\n",
       "</div>"
      ],
      "text/plain": [
       "    usd_goal_real_std  backers_std  year  main_category_Art  \\\n",
       "5            0.007656     0.111472  2016                  0   \n",
       "6           -0.036531    -0.103976  2014                  0   \n",
       "11          -0.026160    -0.016968  2013                  0   \n",
       "14          -0.031598     0.667704  2017                  0   \n",
       "18          -0.037207    -0.113299  2012                  0   \n",
       "\n",
       "    main_category_Comics  main_category_Crafts  main_category_Dance  \\\n",
       "5                      0                     0                    0   \n",
       "6                      0                     0                    0   \n",
       "11                     0                     0                    0   \n",
       "14                     0                     0                    0   \n",
       "18                     0                     0                    0   \n",
       "\n",
       "    main_category_Design  main_category_Fashion  main_category_Film & Video  \\\n",
       "5                      0                      0                           0   \n",
       "6                      0                      0                           0   \n",
       "11                     0                      0                           0   \n",
       "14                     0                      0                           0   \n",
       "18                     0                      0                           0   \n",
       "\n",
       "    main_category_Food  main_category_Games  main_category_Journalism  \\\n",
       "5                    1                    0                         0   \n",
       "6                    1                    0                         0   \n",
       "11                   0                    0                         0   \n",
       "14                   0                    1                         0   \n",
       "18                   0                    0                         0   \n",
       "\n",
       "    main_category_Music  main_category_Photography  main_category_Publishing  \\\n",
       "5                     0                          0                         0   \n",
       "6                     0                          0                         0   \n",
       "11                    1                          0                         0   \n",
       "14                    0                          0                         0   \n",
       "18                    1                          0                         0   \n",
       "\n",
       "    main_category_Technology  main_category_Theater  \n",
       "5                          0                      0  \n",
       "6                          0                      0  \n",
       "11                         0                      0  \n",
       "14                         0                      0  \n",
       "18                         0                      0  "
      ]
     },
     "execution_count": 36,
     "metadata": {},
     "output_type": "execute_result"
    }
   ],
   "source": [
    "X3 = df_ks_2.drop([\"state\", \"launched\", \"country\", \"usd_goal_real\", \"backers\", \"name\", \"category\", \"currency\", \"deadline\", \"goal\", \"delta\", \"year\"], axis=1)\n",
    "X.head()"
   ]
  },
  {
   "cell_type": "code",
   "execution_count": 37,
   "metadata": {},
   "outputs": [
    {
     "name": "stdout",
     "output_type": "stream",
     "text": [
      "-0.3189897637710689\n",
      "[[-8.53106763e+01  3.32350429e+01  4.31030357e-01  1.12291838e-01\n",
      "  -2.87361592e-01  1.12353032e+00 -5.73212581e-01 -3.48821350e-01\n",
      "   3.20799454e-01 -3.86668616e-01 -9.69848541e-01 -3.72033307e-01\n",
      "   5.00578257e-01 -4.44479314e-02 -1.65921905e-01 -7.22506350e-01\n",
      "   1.06360218e+00]]\n",
      "対数尤度 = -116044.150\n",
      "正答率 = 87.255%\n",
      "適合率（Precision） = 91.733%\n",
      "再現率（Recall） = 75.222%\n",
      "F1値（F1-score） = 82.661%\n"
     ]
    },
    {
     "data": {
      "text/html": [
       "<div>\n",
       "<style scoped>\n",
       "    .dataframe tbody tr th:only-of-type {\n",
       "        vertical-align: middle;\n",
       "    }\n",
       "\n",
       "    .dataframe tbody tr th {\n",
       "        vertical-align: top;\n",
       "    }\n",
       "\n",
       "    .dataframe thead th {\n",
       "        text-align: right;\n",
       "    }\n",
       "</style>\n",
       "<table border=\"1\" class=\"dataframe\">\n",
       "  <thead>\n",
       "    <tr style=\"text-align: right;\">\n",
       "      <th></th>\n",
       "      <th>予測 = failed</th>\n",
       "      <th>予測 = successful</th>\n",
       "    </tr>\n",
       "  </thead>\n",
       "  <tbody>\n",
       "    <tr>\n",
       "      <td>正解 = failed</td>\n",
       "      <td>188638</td>\n",
       "      <td>9081</td>\n",
       "    </tr>\n",
       "    <tr>\n",
       "      <td>正解 = successful</td>\n",
       "      <td>33191</td>\n",
       "      <td>100765</td>\n",
       "    </tr>\n",
       "  </tbody>\n",
       "</table>\n",
       "</div>"
      ],
      "text/plain": [
       "                 予測 = failed  予測 = successful\n",
       "正解 = failed           188638             9081\n",
       "正解 = successful        33191           100765"
      ]
     },
     "execution_count": 37,
     "metadata": {},
     "output_type": "execute_result"
    }
   ],
   "source": [
    "clf = SGDClassifier(loss='log', penalty='none', max_iter=10000, fit_intercept=True, random_state=1234, tol=1e-3, )\n",
    "clf.fit(X3, y)\n",
    "\n",
    "# 重みを取得して表示\n",
    "w0 = clf.intercept_[0]\n",
    "w = clf.coef_\n",
    "\n",
    "print(w0)\n",
    "print(w)\n",
    "\n",
    "# ラベルを予測\n",
    "y_est = clf.predict(X3)\n",
    "\n",
    "# 確率値を得る\n",
    "y_est_proba = clf.predict_proba(X3)\n",
    "\n",
    "# 対数尤度を表示\n",
    "print('対数尤度 = {:.3f}'.format(- log_loss(y, y_est_proba, normalize=False))) \n",
    "\n",
    "# 正答率を表示\n",
    "print('正答率 = {:.3f}%'.format(100 * accuracy_score(y, y_est)))\n",
    "\n",
    "# Precision, Recall, F1-scoreを計算\n",
    "precision, recall, f1_score, _ = precision_recall_fscore_support(y, y_est)\n",
    "\n",
    "print('適合率（Precision） = {:.3f}%'.format(100 * precision[1]))\n",
    "print('再現率（Recall） = {:.3f}%'.format(100 * recall[1]))\n",
    "print('F1値（F1-score） = {:.3f}%'.format(100 * f1_score[1]))\n",
    "\n",
    "# 予測値と正解のクロス集計\n",
    "conf_mat = pd.DataFrame(confusion_matrix(y, y_est), \n",
    "                        index=['正解 = failed', '正解 = successful'], \n",
    "                        columns=['予測 = failed', '予測 = successful'])\n",
    "\n",
    "conf_mat"
   ]
  },
  {
   "cell_type": "markdown",
   "metadata": {},
   "source": [
    "#### 説明変数の追加により、精度の向上したモデルが得られた。yearについては説明変数に含めると精度が悪くなってしまうため、説明変数として不適切か、使用方法が悪い可能性がある。またモデルが過学習しているかどうかも現状では不明である。"
   ]
  },
  {
   "cell_type": "code",
   "execution_count": null,
   "metadata": {},
   "outputs": [],
   "source": []
  }
 ],
 "metadata": {
  "kernelspec": {
   "display_name": "Python 3",
   "language": "python",
   "name": "python3"
  },
  "language_info": {
   "codemirror_mode": {
    "name": "ipython",
    "version": 3
   },
   "file_extension": ".py",
   "mimetype": "text/x-python",
   "name": "python",
   "nbconvert_exporter": "python",
   "pygments_lexer": "ipython3",
   "version": "3.7.4"
  }
 },
 "nbformat": 4,
 "nbformat_minor": 2
}
