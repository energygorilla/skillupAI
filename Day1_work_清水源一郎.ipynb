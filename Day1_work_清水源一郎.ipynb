{
 "cells": [
  {
   "cell_type": "markdown",
   "metadata": {},
   "source": [
    "# 課題①　あるクラウドファンディングが成功するかを事前に予測する"
   ]
  },
  {
   "cell_type": "markdown",
   "metadata": {},
   "source": [
    "#### 必要なライブラリのインポート"
   ]
  },
  {
   "cell_type": "code",
   "execution_count": 39,
   "metadata": {},
   "outputs": [],
   "source": [
    "%matplotlib inline\n",
    "import pandas as pd\n",
    "import numpy as np\n",
    "import matplotlib.pyplot as plt\n",
    "import seaborn as sns\n",
    "from sklearn.linear_model import SGDClassifier\n",
    "from sklearn.metrics import log_loss, accuracy_score, confusion_matrix\n",
    "from sklearn.preprocessing import StandardScaler"
   ]
  },
  {
   "cell_type": "markdown",
   "metadata": {},
   "source": [
    "#### データの読み込み、確認\n"
   ]
  },
  {
   "cell_type": "code",
   "execution_count": 40,
   "metadata": {},
   "outputs": [
    {
     "data": {
      "text/html": [
       "<div>\n",
       "<style scoped>\n",
       "    .dataframe tbody tr th:only-of-type {\n",
       "        vertical-align: middle;\n",
       "    }\n",
       "\n",
       "    .dataframe tbody tr th {\n",
       "        vertical-align: top;\n",
       "    }\n",
       "\n",
       "    .dataframe thead th {\n",
       "        text-align: right;\n",
       "    }\n",
       "</style>\n",
       "<table border=\"1\" class=\"dataframe\">\n",
       "  <thead>\n",
       "    <tr style=\"text-align: right;\">\n",
       "      <th></th>\n",
       "      <th>ID</th>\n",
       "      <th>name</th>\n",
       "      <th>category</th>\n",
       "      <th>main_category</th>\n",
       "      <th>currency</th>\n",
       "      <th>deadline</th>\n",
       "      <th>goal</th>\n",
       "      <th>launched</th>\n",
       "      <th>pledged</th>\n",
       "      <th>state</th>\n",
       "      <th>backers</th>\n",
       "      <th>country</th>\n",
       "      <th>usd pledged</th>\n",
       "      <th>usd_pledged_real</th>\n",
       "      <th>usd_goal_real</th>\n",
       "    </tr>\n",
       "  </thead>\n",
       "  <tbody>\n",
       "    <tr>\n",
       "      <td>0</td>\n",
       "      <td>1000002330</td>\n",
       "      <td>The Songs of Adelaide &amp; Abullah</td>\n",
       "      <td>Poetry</td>\n",
       "      <td>Publishing</td>\n",
       "      <td>GBP</td>\n",
       "      <td>2015-10-09</td>\n",
       "      <td>1000.0</td>\n",
       "      <td>2015-08-11 12:12:28</td>\n",
       "      <td>0.0</td>\n",
       "      <td>failed</td>\n",
       "      <td>0</td>\n",
       "      <td>GB</td>\n",
       "      <td>0.0</td>\n",
       "      <td>0.0</td>\n",
       "      <td>1533.95</td>\n",
       "    </tr>\n",
       "    <tr>\n",
       "      <td>1</td>\n",
       "      <td>1000003930</td>\n",
       "      <td>Greeting From Earth: ZGAC Arts Capsule For ET</td>\n",
       "      <td>Narrative Film</td>\n",
       "      <td>Film &amp; Video</td>\n",
       "      <td>USD</td>\n",
       "      <td>2017-11-01</td>\n",
       "      <td>30000.0</td>\n",
       "      <td>2017-09-02 04:43:57</td>\n",
       "      <td>2421.0</td>\n",
       "      <td>failed</td>\n",
       "      <td>15</td>\n",
       "      <td>US</td>\n",
       "      <td>100.0</td>\n",
       "      <td>2421.0</td>\n",
       "      <td>30000.00</td>\n",
       "    </tr>\n",
       "    <tr>\n",
       "      <td>2</td>\n",
       "      <td>1000004038</td>\n",
       "      <td>Where is Hank?</td>\n",
       "      <td>Narrative Film</td>\n",
       "      <td>Film &amp; Video</td>\n",
       "      <td>USD</td>\n",
       "      <td>2013-02-26</td>\n",
       "      <td>45000.0</td>\n",
       "      <td>2013-01-12 00:20:50</td>\n",
       "      <td>220.0</td>\n",
       "      <td>failed</td>\n",
       "      <td>3</td>\n",
       "      <td>US</td>\n",
       "      <td>220.0</td>\n",
       "      <td>220.0</td>\n",
       "      <td>45000.00</td>\n",
       "    </tr>\n",
       "    <tr>\n",
       "      <td>3</td>\n",
       "      <td>1000007540</td>\n",
       "      <td>ToshiCapital Rekordz Needs Help to Complete Album</td>\n",
       "      <td>Music</td>\n",
       "      <td>Music</td>\n",
       "      <td>USD</td>\n",
       "      <td>2012-04-16</td>\n",
       "      <td>5000.0</td>\n",
       "      <td>2012-03-17 03:24:11</td>\n",
       "      <td>1.0</td>\n",
       "      <td>failed</td>\n",
       "      <td>1</td>\n",
       "      <td>US</td>\n",
       "      <td>1.0</td>\n",
       "      <td>1.0</td>\n",
       "      <td>5000.00</td>\n",
       "    </tr>\n",
       "    <tr>\n",
       "      <td>4</td>\n",
       "      <td>1000011046</td>\n",
       "      <td>Community Film Project: The Art of Neighborhoo...</td>\n",
       "      <td>Film &amp; Video</td>\n",
       "      <td>Film &amp; Video</td>\n",
       "      <td>USD</td>\n",
       "      <td>2015-08-29</td>\n",
       "      <td>19500.0</td>\n",
       "      <td>2015-07-04 08:35:03</td>\n",
       "      <td>1283.0</td>\n",
       "      <td>canceled</td>\n",
       "      <td>14</td>\n",
       "      <td>US</td>\n",
       "      <td>1283.0</td>\n",
       "      <td>1283.0</td>\n",
       "      <td>19500.00</td>\n",
       "    </tr>\n",
       "  </tbody>\n",
       "</table>\n",
       "</div>"
      ],
      "text/plain": [
       "           ID                                               name  \\\n",
       "0  1000002330                    The Songs of Adelaide & Abullah   \n",
       "1  1000003930      Greeting From Earth: ZGAC Arts Capsule For ET   \n",
       "2  1000004038                                     Where is Hank?   \n",
       "3  1000007540  ToshiCapital Rekordz Needs Help to Complete Album   \n",
       "4  1000011046  Community Film Project: The Art of Neighborhoo...   \n",
       "\n",
       "         category main_category currency    deadline     goal  \\\n",
       "0          Poetry    Publishing      GBP  2015-10-09   1000.0   \n",
       "1  Narrative Film  Film & Video      USD  2017-11-01  30000.0   \n",
       "2  Narrative Film  Film & Video      USD  2013-02-26  45000.0   \n",
       "3           Music         Music      USD  2012-04-16   5000.0   \n",
       "4    Film & Video  Film & Video      USD  2015-08-29  19500.0   \n",
       "\n",
       "              launched  pledged     state  backers country  usd pledged  \\\n",
       "0  2015-08-11 12:12:28      0.0    failed        0      GB          0.0   \n",
       "1  2017-09-02 04:43:57   2421.0    failed       15      US        100.0   \n",
       "2  2013-01-12 00:20:50    220.0    failed        3      US        220.0   \n",
       "3  2012-03-17 03:24:11      1.0    failed        1      US          1.0   \n",
       "4  2015-07-04 08:35:03   1283.0  canceled       14      US       1283.0   \n",
       "\n",
       "   usd_pledged_real  usd_goal_real  \n",
       "0               0.0        1533.95  \n",
       "1            2421.0       30000.00  \n",
       "2             220.0       45000.00  \n",
       "3               1.0        5000.00  \n",
       "4            1283.0       19500.00  "
      ]
     },
     "metadata": {},
     "output_type": "display_data"
    },
    {
     "data": {
      "text/html": [
       "<div>\n",
       "<style scoped>\n",
       "    .dataframe tbody tr th:only-of-type {\n",
       "        vertical-align: middle;\n",
       "    }\n",
       "\n",
       "    .dataframe tbody tr th {\n",
       "        vertical-align: top;\n",
       "    }\n",
       "\n",
       "    .dataframe thead th {\n",
       "        text-align: right;\n",
       "    }\n",
       "</style>\n",
       "<table border=\"1\" class=\"dataframe\">\n",
       "  <thead>\n",
       "    <tr style=\"text-align: right;\">\n",
       "      <th></th>\n",
       "      <th>ID</th>\n",
       "      <th>goal</th>\n",
       "      <th>pledged</th>\n",
       "      <th>backers</th>\n",
       "      <th>usd pledged</th>\n",
       "      <th>usd_pledged_real</th>\n",
       "      <th>usd_goal_real</th>\n",
       "    </tr>\n",
       "  </thead>\n",
       "  <tbody>\n",
       "    <tr>\n",
       "      <td>count</td>\n",
       "      <td>3.786610e+05</td>\n",
       "      <td>3.786610e+05</td>\n",
       "      <td>3.786610e+05</td>\n",
       "      <td>378661.000000</td>\n",
       "      <td>3.748640e+05</td>\n",
       "      <td>3.786610e+05</td>\n",
       "      <td>3.786610e+05</td>\n",
       "    </tr>\n",
       "    <tr>\n",
       "      <td>mean</td>\n",
       "      <td>1.074731e+09</td>\n",
       "      <td>4.908079e+04</td>\n",
       "      <td>9.682979e+03</td>\n",
       "      <td>105.617476</td>\n",
       "      <td>7.036729e+03</td>\n",
       "      <td>9.058924e+03</td>\n",
       "      <td>4.545440e+04</td>\n",
       "    </tr>\n",
       "    <tr>\n",
       "      <td>std</td>\n",
       "      <td>6.190862e+08</td>\n",
       "      <td>1.183391e+06</td>\n",
       "      <td>9.563601e+04</td>\n",
       "      <td>907.185035</td>\n",
       "      <td>7.863975e+04</td>\n",
       "      <td>9.097334e+04</td>\n",
       "      <td>1.152950e+06</td>\n",
       "    </tr>\n",
       "    <tr>\n",
       "      <td>min</td>\n",
       "      <td>5.971000e+03</td>\n",
       "      <td>1.000000e-02</td>\n",
       "      <td>0.000000e+00</td>\n",
       "      <td>0.000000</td>\n",
       "      <td>0.000000e+00</td>\n",
       "      <td>0.000000e+00</td>\n",
       "      <td>1.000000e-02</td>\n",
       "    </tr>\n",
       "    <tr>\n",
       "      <td>25%</td>\n",
       "      <td>5.382635e+08</td>\n",
       "      <td>2.000000e+03</td>\n",
       "      <td>3.000000e+01</td>\n",
       "      <td>2.000000</td>\n",
       "      <td>1.698000e+01</td>\n",
       "      <td>3.100000e+01</td>\n",
       "      <td>2.000000e+03</td>\n",
       "    </tr>\n",
       "    <tr>\n",
       "      <td>50%</td>\n",
       "      <td>1.075276e+09</td>\n",
       "      <td>5.200000e+03</td>\n",
       "      <td>6.200000e+02</td>\n",
       "      <td>12.000000</td>\n",
       "      <td>3.947200e+02</td>\n",
       "      <td>6.243300e+02</td>\n",
       "      <td>5.500000e+03</td>\n",
       "    </tr>\n",
       "    <tr>\n",
       "      <td>75%</td>\n",
       "      <td>1.610149e+09</td>\n",
       "      <td>1.600000e+04</td>\n",
       "      <td>4.076000e+03</td>\n",
       "      <td>56.000000</td>\n",
       "      <td>3.034090e+03</td>\n",
       "      <td>4.050000e+03</td>\n",
       "      <td>1.550000e+04</td>\n",
       "    </tr>\n",
       "    <tr>\n",
       "      <td>max</td>\n",
       "      <td>2.147476e+09</td>\n",
       "      <td>1.000000e+08</td>\n",
       "      <td>2.033899e+07</td>\n",
       "      <td>219382.000000</td>\n",
       "      <td>2.033899e+07</td>\n",
       "      <td>2.033899e+07</td>\n",
       "      <td>1.663614e+08</td>\n",
       "    </tr>\n",
       "  </tbody>\n",
       "</table>\n",
       "</div>"
      ],
      "text/plain": [
       "                 ID          goal       pledged        backers   usd pledged  \\\n",
       "count  3.786610e+05  3.786610e+05  3.786610e+05  378661.000000  3.748640e+05   \n",
       "mean   1.074731e+09  4.908079e+04  9.682979e+03     105.617476  7.036729e+03   \n",
       "std    6.190862e+08  1.183391e+06  9.563601e+04     907.185035  7.863975e+04   \n",
       "min    5.971000e+03  1.000000e-02  0.000000e+00       0.000000  0.000000e+00   \n",
       "25%    5.382635e+08  2.000000e+03  3.000000e+01       2.000000  1.698000e+01   \n",
       "50%    1.075276e+09  5.200000e+03  6.200000e+02      12.000000  3.947200e+02   \n",
       "75%    1.610149e+09  1.600000e+04  4.076000e+03      56.000000  3.034090e+03   \n",
       "max    2.147476e+09  1.000000e+08  2.033899e+07  219382.000000  2.033899e+07   \n",
       "\n",
       "       usd_pledged_real  usd_goal_real  \n",
       "count      3.786610e+05   3.786610e+05  \n",
       "mean       9.058924e+03   4.545440e+04  \n",
       "std        9.097334e+04   1.152950e+06  \n",
       "min        0.000000e+00   1.000000e-02  \n",
       "25%        3.100000e+01   2.000000e+03  \n",
       "50%        6.243300e+02   5.500000e+03  \n",
       "75%        4.050000e+03   1.550000e+04  \n",
       "max        2.033899e+07   1.663614e+08  "
      ]
     },
     "execution_count": 40,
     "metadata": {},
     "output_type": "execute_result"
    }
   ],
   "source": [
    "df_ks =  pd.read_csv('ks-projects-201801.csv') \n",
    "\n",
    "display(df_ks.head())\n",
    "df_ks.describe()"
   ]
  },
  {
   "cell_type": "code",
   "execution_count": 41,
   "metadata": {},
   "outputs": [
    {
     "name": "stdout",
     "output_type": "stream",
     "text": [
      "<class 'pandas.core.frame.DataFrame'>\n",
      "RangeIndex: 378661 entries, 0 to 378660\n",
      "Data columns (total 15 columns):\n",
      "ID                  378661 non-null int64\n",
      "name                378657 non-null object\n",
      "category            378661 non-null object\n",
      "main_category       378661 non-null object\n",
      "currency            378661 non-null object\n",
      "deadline            378661 non-null object\n",
      "goal                378661 non-null float64\n",
      "launched            378661 non-null object\n",
      "pledged             378661 non-null float64\n",
      "state               378661 non-null object\n",
      "backers             378661 non-null int64\n",
      "country             378661 non-null object\n",
      "usd pledged         374864 non-null float64\n",
      "usd_pledged_real    378661 non-null float64\n",
      "usd_goal_real       378661 non-null float64\n",
      "dtypes: float64(5), int64(2), object(8)\n",
      "memory usage: 43.3+ MB\n"
     ]
    }
   ],
   "source": [
    "df_ks.info()"
   ]
  },
  {
   "cell_type": "code",
   "execution_count": 42,
   "metadata": {},
   "outputs": [
    {
     "data": {
      "text/plain": [
       "ID                     0\n",
       "name                   4\n",
       "category               0\n",
       "main_category          0\n",
       "currency               0\n",
       "deadline               0\n",
       "goal                   0\n",
       "launched               0\n",
       "pledged                0\n",
       "state                  0\n",
       "backers                0\n",
       "country                0\n",
       "usd pledged         3797\n",
       "usd_pledged_real       0\n",
       "usd_goal_real          0\n",
       "dtype: int64"
      ]
     },
     "execution_count": 42,
     "metadata": {},
     "output_type": "execute_result"
    }
   ],
   "source": [
    "#欠損値の数\n",
    "df_ks.isnull().sum()"
   ]
  },
  {
   "cell_type": "code",
   "execution_count": 43,
   "metadata": {},
   "outputs": [
    {
     "data": {
      "text/plain": [
       "ID                  378661\n",
       "name                375764\n",
       "category               159\n",
       "main_category           15\n",
       "currency                14\n",
       "deadline              3164\n",
       "goal                  8353\n",
       "launched            378089\n",
       "pledged              62130\n",
       "state                    6\n",
       "backers               3963\n",
       "country                 23\n",
       "usd pledged          95455\n",
       "usd_pledged_real    106065\n",
       "usd_goal_real        50339\n",
       "dtype: int64"
      ]
     },
     "execution_count": 43,
     "metadata": {},
     "output_type": "execute_result"
    }
   ],
   "source": [
    "#ユニークな値の数を表示\n",
    "df_ks.nunique()"
   ]
  },
  {
   "cell_type": "markdown",
   "metadata": {},
   "source": [
    "### 目的変数 stateについて調べる"
   ]
  },
  {
   "cell_type": "code",
   "execution_count": 44,
   "metadata": {},
   "outputs": [
    {
     "data": {
      "text/plain": [
       "failed        197719\n",
       "successful    133956\n",
       "canceled       38779\n",
       "undefined       3562\n",
       "live            2799\n",
       "suspended       1846\n",
       "Name: state, dtype: int64"
      ]
     },
     "execution_count": 44,
     "metadata": {},
     "output_type": "execute_result"
    },
    {
     "data": {
      "image/png": "[encoded data removed]",
      "text/plain": [
       "<Figure size 432x288 with 1 Axes>"
      ]
     },
     "metadata": {},
     "output_type": "display_data"
    }
   ],
   "source": [
    "state_count = df_ks[\"state\"].value_counts()\n",
    "plt.pie(state_count, labels=state_count.index)\n",
    "state_count"
   ]
  },
  {
   "cell_type": "markdown",
   "metadata": {},
   "source": [
    "#### 今回は成功か失敗かを事前に予測するモデルの構築を目的とする。successful, failedのデータのみを扱うこととする。"
   ]
  },
  {
   "cell_type": "code",
   "execution_count": 45,
   "metadata": {},
   "outputs": [
    {
     "data": {
      "text/plain": [
       "failed        197719\n",
       "successful    133956\n",
       "Name: state, dtype: int64"
      ]
     },
     "execution_count": 45,
     "metadata": {},
     "output_type": "execute_result"
    }
   ],
   "source": [
    "#成功だけを抽出したDFと失敗だけを抽出したDF\n",
    "df_ks_success = df_ks[df_ks['state']=='successful']\n",
    "df_ks_failed =  df_ks[df_ks['state']=='failed']\n",
    "#両方を結合\n",
    "df_ks_2 = pd.concat([df_ks_success,df_ks_failed])\n",
    "#再度stateの要素の個数を数える。\n",
    "df_ks_2['state'].value_counts()"
   ]
  },
  {
   "cell_type": "code",
   "execution_count": 46,
   "metadata": {},
   "outputs": [],
   "source": [
    "df_ks_2.loc[df_ks_2['state'] == \"successful\", 'state'] = 1\n",
    "df_ks_2.loc[df_ks_2['state'] == \"failed\", 'state'] = 0"
   ]
  },
  {
   "cell_type": "markdown",
   "metadata": {},
   "source": [
    "backers, pledged, usd pledged, usd_pledged_realは実際の結果として集まった資金を表す値なので、事前予測においては使用不可と判断した。また、IDについては不要な情報であると判断した。"
   ]
  },
  {
   "cell_type": "code",
   "execution_count": 47,
   "metadata": {},
   "outputs": [],
   "source": [
    "df_ks_2 = df_ks_2.drop([\"ID\", \"pledged\", \"usd pledged\", \"usd_pledged_real\", \"backers\"], axis=1)"
   ]
  },
  {
   "cell_type": "markdown",
   "metadata": {},
   "source": [
    "### 量的変数の可視化"
   ]
  },
  {
   "cell_type": "code",
   "execution_count": 48,
   "metadata": {},
   "outputs": [
    {
     "data": {
      "text/plain": [
       "<matplotlib.axes._subplots.AxesSubplot at 0x23bb006f708>"
      ]
     },
     "execution_count": 48,
     "metadata": {},
     "output_type": "execute_result"
    },
    {
     "data": {
      "image/png": "[encoded data removed]",
      "text/plain": [
       "<Figure size 432x288 with 1 Axes>"
      ]
     },
     "metadata": {
      "needs_background": "light"
     },
     "output_type": "display_data"
    }
   ],
   "source": [
    "sns.boxplot(df_ks_2[\"goal\"])"
   ]
  },
  {
   "cell_type": "code",
   "execution_count": 49,
   "metadata": {},
   "outputs": [
    {
     "data": {
      "text/plain": [
       "<matplotlib.axes._subplots.AxesSubplot at 0x23baf508b08>"
      ]
     },
     "execution_count": 49,
     "metadata": {},
     "output_type": "execute_result"
    },
    {
     "data": {
      "image/png": "[encoded data removed]",
      "text/plain": [
       "<Figure size 432x288 with 1 Axes>"
      ]
     },
     "metadata": {
      "needs_background": "light"
     },
     "output_type": "display_data"
    }
   ],
   "source": [
    "sns.boxplot(df_ks_2[\"usd_goal_real\"])"
   ]
  },
  {
   "cell_type": "markdown",
   "metadata": {},
   "source": [
    "両データともに0付近にデータが集中している。外れ値について検証する。goalの1.0e08付近に値が集中しているように思われるため、その部分を検証する。"
   ]
  },
  {
   "cell_type": "code",
   "execution_count": 50,
   "metadata": {},
   "outputs": [
    {
     "data": {
      "text/plain": [
       "23469     100000000.0\n",
       "33084     100000000.0\n",
       "47803      99000000.0\n",
       "55009     100000000.0\n",
       "72775     100000000.0\n",
       "72990     100000000.0\n",
       "77676     100000000.0\n",
       "95513     100000000.0\n",
       "118402    100000000.0\n",
       "128835    100000000.0\n",
       "141884    100000000.0\n",
       "158459    100000000.0\n",
       "160291    100000000.0\n",
       "196531    100000000.0\n",
       "211026    100000000.0\n",
       "212541    100000000.0\n",
       "213340    100000000.0\n",
       "214787    100000000.0\n",
       "222208    100000000.0\n",
       "226161    100000000.0\n",
       "243435    100000000.0\n",
       "257518    100000000.0\n",
       "259186    100000000.0\n",
       "281020    100000000.0\n",
       "338492    100000000.0\n",
       "348139    100000000.0\n",
       "367253    100000000.0\n",
       "367928    100000000.0\n",
       "369688    100000000.0\n",
       "371478    100000000.0\n",
       "Name: goal, dtype: float64"
      ]
     },
     "execution_count": 50,
     "metadata": {},
     "output_type": "execute_result"
    }
   ],
   "source": [
    "df_goal_max = df_ks_2['goal'][df_ks_2['goal']>0.8*(10**8)] \n",
    "df_goal_max"
   ]
  },
  {
   "cell_type": "markdown",
   "metadata": {},
   "source": [
    "これらは正常な値である可能性もあるが、設定された上限の値を超えていて、便宜的に100000000.0となっている可能性がある。そのためgoalがこれらの値となっているデータについては除外することとする。"
   ]
  },
  {
   "cell_type": "code",
   "execution_count": 51,
   "metadata": {},
   "outputs": [
    {
     "data": {
      "text/plain": [
       "<matplotlib.axes._subplots.AxesSubplot at 0x23bae184208>"
      ]
     },
     "execution_count": 51,
     "metadata": {},
     "output_type": "execute_result"
    },
    {
     "data": {
      "image/png": "[encoded data removed]",
      "text/plain": [
       "<Figure size 432x288 with 1 Axes>"
      ]
     },
     "metadata": {
      "needs_background": "light"
     },
     "output_type": "display_data"
    }
   ],
   "source": [
    "df_ks_2 = df_ks_2[df_ks_2['goal']<100000000]\n",
    "sns.boxplot(df_ks_2[\"goal\"])"
   ]
  },
  {
   "cell_type": "markdown",
   "metadata": {},
   "source": [
    "usd-goal-realはgoalの通貨をそろえたものであるから、usd-goal-realを用いる方が適切であると考えられる。以下で標準化を行い、標準化したusd_goal_stdを予測に用いることとする。"
   ]
  },
  {
   "cell_type": "code",
   "execution_count": 52,
   "metadata": {},
   "outputs": [],
   "source": [
    "from sklearn.preprocessing import StandardScaler\n",
    "stdsc = StandardScaler()\n",
    "df_ks_2[\"usd_goal_real_std\"]=stdsc.fit_transform(df_ks_2[[\"usd_goal_real\"]].values)\n"
   ]
  },
  {
   "cell_type": "markdown",
   "metadata": {},
   "source": [
    "### 期間について　\n",
    "#### launchからdeadlineまでの日数を変数deltaとして新たに追加した。こちらも標準化を行ったものを予測に用いる。"
   ]
  },
  {
   "cell_type": "code",
   "execution_count": 53,
   "metadata": {},
   "outputs": [],
   "source": [
    "df_ks_2[\"launched\"]= pd.to_datetime(df_ks_2[\"launched\"])\n",
    "df_ks_2[\"deadline\"]= pd.to_datetime(df_ks_2[\"deadline\"])\n",
    "df_ks_2[\"delta\"]=(df_ks_2[\"deadline\"]-df_ks_2[\"launched\"]).dt.days\n"
   ]
  },
  {
   "cell_type": "code",
   "execution_count": 54,
   "metadata": {},
   "outputs": [
    {
     "data": {
      "text/plain": [
       "count    331646.000000\n",
       "mean         32.953821\n",
       "std          12.712159\n",
       "min           0.000000\n",
       "25%          29.000000\n",
       "50%          29.000000\n",
       "75%          35.000000\n",
       "max          91.000000\n",
       "Name: delta, dtype: float64"
      ]
     },
     "execution_count": 54,
     "metadata": {},
     "output_type": "execute_result"
    }
   ],
   "source": [
    "df_ks_2[\"delta\"].describe()"
   ]
  },
  {
   "cell_type": "code",
   "execution_count": 55,
   "metadata": {},
   "outputs": [
    {
     "name": "stdout",
     "output_type": "stream",
     "text": [
      "name                         object\n",
      "category                     object\n",
      "main_category                object\n",
      "currency                     object\n",
      "deadline             datetime64[ns]\n",
      "goal                        float64\n",
      "launched             datetime64[ns]\n",
      "state                         int64\n",
      "country                      object\n",
      "usd_goal_real               float64\n",
      "usd_goal_real_std           float64\n",
      "delta                         int64\n",
      "dtype: object\n"
     ]
    },
    {
     "data": {
      "text/html": [
       "<div>\n",
       "<style scoped>\n",
       "    .dataframe tbody tr th:only-of-type {\n",
       "        vertical-align: middle;\n",
       "    }\n",
       "\n",
       "    .dataframe tbody tr th {\n",
       "        vertical-align: top;\n",
       "    }\n",
       "\n",
       "    .dataframe thead th {\n",
       "        text-align: right;\n",
       "    }\n",
       "</style>\n",
       "<table border=\"1\" class=\"dataframe\">\n",
       "  <thead>\n",
       "    <tr style=\"text-align: right;\">\n",
       "      <th></th>\n",
       "      <th>name</th>\n",
       "      <th>category</th>\n",
       "      <th>main_category</th>\n",
       "      <th>currency</th>\n",
       "      <th>deadline</th>\n",
       "      <th>goal</th>\n",
       "      <th>launched</th>\n",
       "      <th>state</th>\n",
       "      <th>country</th>\n",
       "      <th>usd_goal_real</th>\n",
       "      <th>usd_goal_real_std</th>\n",
       "      <th>delta</th>\n",
       "    </tr>\n",
       "  </thead>\n",
       "  <tbody>\n",
       "    <tr>\n",
       "      <td>5</td>\n",
       "      <td>Monarch Espresso Bar</td>\n",
       "      <td>Restaurants</td>\n",
       "      <td>Food</td>\n",
       "      <td>USD</td>\n",
       "      <td>2016-04-01</td>\n",
       "      <td>50000.0</td>\n",
       "      <td>2016-02-26 13:38:27</td>\n",
       "      <td>1</td>\n",
       "      <td>US</td>\n",
       "      <td>50000.00</td>\n",
       "      <td>0.025405</td>\n",
       "      <td>34</td>\n",
       "    </tr>\n",
       "    <tr>\n",
       "      <td>6</td>\n",
       "      <td>Support Solar Roasted Coffee &amp; Green Energy!  ...</td>\n",
       "      <td>Food</td>\n",
       "      <td>Food</td>\n",
       "      <td>USD</td>\n",
       "      <td>2014-12-21</td>\n",
       "      <td>1000.0</td>\n",
       "      <td>2014-12-01 18:30:44</td>\n",
       "      <td>1</td>\n",
       "      <td>US</td>\n",
       "      <td>1000.00</td>\n",
       "      <td>-0.050121</td>\n",
       "      <td>19</td>\n",
       "    </tr>\n",
       "    <tr>\n",
       "      <td>11</td>\n",
       "      <td>Lisa Lim New CD!</td>\n",
       "      <td>Indie Rock</td>\n",
       "      <td>Music</td>\n",
       "      <td>USD</td>\n",
       "      <td>2013-04-08</td>\n",
       "      <td>12500.0</td>\n",
       "      <td>2013-03-09 06:42:58</td>\n",
       "      <td>1</td>\n",
       "      <td>US</td>\n",
       "      <td>12500.00</td>\n",
       "      <td>-0.032395</td>\n",
       "      <td>29</td>\n",
       "    </tr>\n",
       "    <tr>\n",
       "      <td>14</td>\n",
       "      <td>Tombstone: Old West tabletop game and miniatur...</td>\n",
       "      <td>Tabletop Games</td>\n",
       "      <td>Games</td>\n",
       "      <td>GBP</td>\n",
       "      <td>2017-05-03</td>\n",
       "      <td>5000.0</td>\n",
       "      <td>2017-04-05 19:44:18</td>\n",
       "      <td>1</td>\n",
       "      <td>GB</td>\n",
       "      <td>6469.73</td>\n",
       "      <td>-0.041690</td>\n",
       "      <td>27</td>\n",
       "    </tr>\n",
       "    <tr>\n",
       "      <td>18</td>\n",
       "      <td>Mike Corey's Darkness &amp; Light Album</td>\n",
       "      <td>Music</td>\n",
       "      <td>Music</td>\n",
       "      <td>USD</td>\n",
       "      <td>2012-08-17</td>\n",
       "      <td>250.0</td>\n",
       "      <td>2012-08-02 14:11:32</td>\n",
       "      <td>1</td>\n",
       "      <td>US</td>\n",
       "      <td>250.00</td>\n",
       "      <td>-0.051277</td>\n",
       "      <td>14</td>\n",
       "    </tr>\n",
       "  </tbody>\n",
       "</table>\n",
       "</div>"
      ],
      "text/plain": [
       "                                                 name        category  \\\n",
       "5                                Monarch Espresso Bar     Restaurants   \n",
       "6   Support Solar Roasted Coffee & Green Energy!  ...            Food   \n",
       "11                                   Lisa Lim New CD!      Indie Rock   \n",
       "14  Tombstone: Old West tabletop game and miniatur...  Tabletop Games   \n",
       "18                Mike Corey's Darkness & Light Album           Music   \n",
       "\n",
       "   main_category currency   deadline     goal            launched  state  \\\n",
       "5           Food      USD 2016-04-01  50000.0 2016-02-26 13:38:27      1   \n",
       "6           Food      USD 2014-12-21   1000.0 2014-12-01 18:30:44      1   \n",
       "11         Music      USD 2013-04-08  12500.0 2013-03-09 06:42:58      1   \n",
       "14         Games      GBP 2017-05-03   5000.0 2017-04-05 19:44:18      1   \n",
       "18         Music      USD 2012-08-17    250.0 2012-08-02 14:11:32      1   \n",
       "\n",
       "   country  usd_goal_real  usd_goal_real_std  delta  \n",
       "5       US       50000.00           0.025405     34  \n",
       "6       US        1000.00          -0.050121     19  \n",
       "11      US       12500.00          -0.032395     29  \n",
       "14      GB        6469.73          -0.041690     27  \n",
       "18      US         250.00          -0.051277     14  "
      ]
     },
     "execution_count": 55,
     "metadata": {},
     "output_type": "execute_result"
    }
   ],
   "source": [
    "print(df_ks_2.dtypes)\n",
    "df_ks_2.head()"
   ]
  },
  {
   "cell_type": "markdown",
   "metadata": {},
   "source": [
    "#### deltaの分布、外れ値について検証する"
   ]
  },
  {
   "cell_type": "code",
   "execution_count": 56,
   "metadata": {},
   "outputs": [
    {
     "data": {
      "text/plain": [
       "<matplotlib.axes._subplots.AxesSubplot at 0x23babdca808>"
      ]
     },
     "execution_count": 56,
     "metadata": {},
     "output_type": "execute_result"
    },
    {
     "data": {
      "image/png": "[encoded data removed]",
      "text/plain": [
       "<Figure size 432x288 with 1 Axes>"
      ]
     },
     "metadata": {
      "needs_background": "light"
     },
     "output_type": "display_data"
    }
   ],
   "source": [
    "sns.distplot(df_ks_2['delta'], bins=25, kde=False,rug=False)"
   ]
  },
  {
   "cell_type": "code",
   "execution_count": 57,
   "metadata": {},
   "outputs": [
    {
     "data": {
      "text/html": [
       "<div>\n",
       "<style scoped>\n",
       "    .dataframe tbody tr th:only-of-type {\n",
       "        vertical-align: middle;\n",
       "    }\n",
       "\n",
       "    .dataframe tbody tr th {\n",
       "        vertical-align: top;\n",
       "    }\n",
       "\n",
       "    .dataframe thead th {\n",
       "        text-align: right;\n",
       "    }\n",
       "</style>\n",
       "<table border=\"1\" class=\"dataframe\">\n",
       "  <thead>\n",
       "    <tr style=\"text-align: right;\">\n",
       "      <th></th>\n",
       "      <th>name</th>\n",
       "      <th>category</th>\n",
       "      <th>main_category</th>\n",
       "      <th>currency</th>\n",
       "      <th>deadline</th>\n",
       "      <th>goal</th>\n",
       "      <th>launched</th>\n",
       "      <th>state</th>\n",
       "      <th>country</th>\n",
       "      <th>usd_goal_real</th>\n",
       "      <th>usd_goal_real_std</th>\n",
       "      <th>delta</th>\n",
       "    </tr>\n",
       "  </thead>\n",
       "  <tbody>\n",
       "    <tr>\n",
       "      <td>12494</td>\n",
       "      <td>Interior Garden (1978)</td>\n",
       "      <td>Film &amp; Video</td>\n",
       "      <td>Film &amp; Video</td>\n",
       "      <td>GBP</td>\n",
       "      <td>2016-06-15</td>\n",
       "      <td>130.0</td>\n",
       "      <td>2016-06-14 02:24:00</td>\n",
       "      <td>1</td>\n",
       "      <td>GB</td>\n",
       "      <td>185.73</td>\n",
       "      <td>-0.051376</td>\n",
       "      <td>0</td>\n",
       "    </tr>\n",
       "    <tr>\n",
       "      <td>23300</td>\n",
       "      <td>Poster:  All 3D Printers Made</td>\n",
       "      <td>Art</td>\n",
       "      <td>Art</td>\n",
       "      <td>USD</td>\n",
       "      <td>2014-07-16</td>\n",
       "      <td>20.0</td>\n",
       "      <td>2014-07-15 15:20:08</td>\n",
       "      <td>1</td>\n",
       "      <td>US</td>\n",
       "      <td>20.00</td>\n",
       "      <td>-0.051631</td>\n",
       "      <td>0</td>\n",
       "    </tr>\n",
       "    <tr>\n",
       "      <td>34578</td>\n",
       "      <td>Björk Swan Dress T-Shirt</td>\n",
       "      <td>Conceptual Art</td>\n",
       "      <td>Art</td>\n",
       "      <td>USD</td>\n",
       "      <td>2012-02-17</td>\n",
       "      <td>180.0</td>\n",
       "      <td>2012-02-16 17:56:27</td>\n",
       "      <td>1</td>\n",
       "      <td>US</td>\n",
       "      <td>180.00</td>\n",
       "      <td>-0.051384</td>\n",
       "      <td>0</td>\n",
       "    </tr>\n",
       "    <tr>\n",
       "      <td>65731</td>\n",
       "      <td>Freshman Survival Guide</td>\n",
       "      <td>Publishing</td>\n",
       "      <td>Publishing</td>\n",
       "      <td>USD</td>\n",
       "      <td>2012-03-31</td>\n",
       "      <td>50.0</td>\n",
       "      <td>2012-03-30 22:11:20</td>\n",
       "      <td>1</td>\n",
       "      <td>US</td>\n",
       "      <td>50.00</td>\n",
       "      <td>-0.051585</td>\n",
       "      <td>0</td>\n",
       "    </tr>\n",
       "    <tr>\n",
       "      <td>70685</td>\n",
       "      <td>\"Insert Title Here\" a 24 hour comic day comic</td>\n",
       "      <td>Comics</td>\n",
       "      <td>Comics</td>\n",
       "      <td>USD</td>\n",
       "      <td>2016-10-02</td>\n",
       "      <td>20.0</td>\n",
       "      <td>2016-10-01 00:28:42</td>\n",
       "      <td>1</td>\n",
       "      <td>US</td>\n",
       "      <td>20.00</td>\n",
       "      <td>-0.051631</td>\n",
       "      <td>0</td>\n",
       "    </tr>\n",
       "    <tr>\n",
       "      <td>...</td>\n",
       "      <td>...</td>\n",
       "      <td>...</td>\n",
       "      <td>...</td>\n",
       "      <td>...</td>\n",
       "      <td>...</td>\n",
       "      <td>...</td>\n",
       "      <td>...</td>\n",
       "      <td>...</td>\n",
       "      <td>...</td>\n",
       "      <td>...</td>\n",
       "      <td>...</td>\n",
       "      <td>...</td>\n",
       "    </tr>\n",
       "    <tr>\n",
       "      <td>322948</td>\n",
       "      <td>[GLMG]Server Community</td>\n",
       "      <td>Video Games</td>\n",
       "      <td>Games</td>\n",
       "      <td>GBP</td>\n",
       "      <td>2014-10-02</td>\n",
       "      <td>4700.0</td>\n",
       "      <td>2014-10-01 19:59:35</td>\n",
       "      <td>0</td>\n",
       "      <td>GB</td>\n",
       "      <td>7551.17</td>\n",
       "      <td>-0.040023</td>\n",
       "      <td>0</td>\n",
       "    </tr>\n",
       "    <tr>\n",
       "      <td>352818</td>\n",
       "      <td>The ADHD Adventures of Jacob Book</td>\n",
       "      <td>Children's Books</td>\n",
       "      <td>Publishing</td>\n",
       "      <td>USD</td>\n",
       "      <td>2015-04-04</td>\n",
       "      <td>3500.0</td>\n",
       "      <td>2015-04-03 01:00:43</td>\n",
       "      <td>0</td>\n",
       "      <td>US</td>\n",
       "      <td>3500.00</td>\n",
       "      <td>-0.046267</td>\n",
       "      <td>0</td>\n",
       "    </tr>\n",
       "    <tr>\n",
       "      <td>357036</td>\n",
       "      <td>Recording New Composition in Ireland</td>\n",
       "      <td>Classical Music</td>\n",
       "      <td>Music</td>\n",
       "      <td>USD</td>\n",
       "      <td>2017-06-22</td>\n",
       "      <td>1500.0</td>\n",
       "      <td>2017-06-21 18:59:18</td>\n",
       "      <td>0</td>\n",
       "      <td>US</td>\n",
       "      <td>1500.00</td>\n",
       "      <td>-0.049350</td>\n",
       "      <td>0</td>\n",
       "    </tr>\n",
       "    <tr>\n",
       "      <td>360244</td>\n",
       "      <td>Getting down to earth! Project 1 - ESCAPING FE...</td>\n",
       "      <td>Fine Art</td>\n",
       "      <td>Photography</td>\n",
       "      <td>USD</td>\n",
       "      <td>2014-06-13</td>\n",
       "      <td>5550.0</td>\n",
       "      <td>2014-06-12 01:48:03</td>\n",
       "      <td>0</td>\n",
       "      <td>US</td>\n",
       "      <td>5550.00</td>\n",
       "      <td>-0.043107</td>\n",
       "      <td>0</td>\n",
       "    </tr>\n",
       "    <tr>\n",
       "      <td>363529</td>\n",
       "      <td>The Kale Effect</td>\n",
       "      <td>Publishing</td>\n",
       "      <td>Publishing</td>\n",
       "      <td>USD</td>\n",
       "      <td>2012-11-26</td>\n",
       "      <td>500.0</td>\n",
       "      <td>2012-11-25 18:05:51</td>\n",
       "      <td>0</td>\n",
       "      <td>US</td>\n",
       "      <td>500.00</td>\n",
       "      <td>-0.050891</td>\n",
       "      <td>0</td>\n",
       "    </tr>\n",
       "  </tbody>\n",
       "</table>\n",
       "<p>91 rows × 12 columns</p>\n",
       "</div>"
      ],
      "text/plain": [
       "                                                     name          category  \\\n",
       "12494                              Interior Garden (1978)      Film & Video   \n",
       "23300                       Poster:  All 3D Printers Made               Art   \n",
       "34578                            Björk Swan Dress T-Shirt    Conceptual Art   \n",
       "65731                             Freshman Survival Guide        Publishing   \n",
       "70685       \"Insert Title Here\" a 24 hour comic day comic            Comics   \n",
       "...                                                   ...               ...   \n",
       "322948                             [GLMG]Server Community       Video Games   \n",
       "352818                  The ADHD Adventures of Jacob Book  Children's Books   \n",
       "357036               Recording New Composition in Ireland   Classical Music   \n",
       "360244  Getting down to earth! Project 1 - ESCAPING FE...          Fine Art   \n",
       "363529                                    The Kale Effect        Publishing   \n",
       "\n",
       "       main_category currency   deadline    goal            launched  state  \\\n",
       "12494   Film & Video      GBP 2016-06-15   130.0 2016-06-14 02:24:00      1   \n",
       "23300            Art      USD 2014-07-16    20.0 2014-07-15 15:20:08      1   \n",
       "34578            Art      USD 2012-02-17   180.0 2012-02-16 17:56:27      1   \n",
       "65731     Publishing      USD 2012-03-31    50.0 2012-03-30 22:11:20      1   \n",
       "70685         Comics      USD 2016-10-02    20.0 2016-10-01 00:28:42      1   \n",
       "...              ...      ...        ...     ...                 ...    ...   \n",
       "322948         Games      GBP 2014-10-02  4700.0 2014-10-01 19:59:35      0   \n",
       "352818    Publishing      USD 2015-04-04  3500.0 2015-04-03 01:00:43      0   \n",
       "357036         Music      USD 2017-06-22  1500.0 2017-06-21 18:59:18      0   \n",
       "360244   Photography      USD 2014-06-13  5550.0 2014-06-12 01:48:03      0   \n",
       "363529    Publishing      USD 2012-11-26   500.0 2012-11-25 18:05:51      0   \n",
       "\n",
       "       country  usd_goal_real  usd_goal_real_std  delta  \n",
       "12494       GB         185.73          -0.051376      0  \n",
       "23300       US          20.00          -0.051631      0  \n",
       "34578       US         180.00          -0.051384      0  \n",
       "65731       US          50.00          -0.051585      0  \n",
       "70685       US          20.00          -0.051631      0  \n",
       "...        ...            ...                ...    ...  \n",
       "322948      GB        7551.17          -0.040023      0  \n",
       "352818      US        3500.00          -0.046267      0  \n",
       "357036      US        1500.00          -0.049350      0  \n",
       "360244      US        5550.00          -0.043107      0  \n",
       "363529      US         500.00          -0.050891      0  \n",
       "\n",
       "[91 rows x 12 columns]"
      ]
     },
     "execution_count": 57,
     "metadata": {},
     "output_type": "execute_result"
    }
   ],
   "source": [
    "df_ks_2[df_ks_2[\"delta\"]==0]"
   ]
  },
  {
   "cell_type": "code",
   "execution_count": 58,
   "metadata": {},
   "outputs": [
    {
     "data": {
      "text/html": [
       "<div>\n",
       "<style scoped>\n",
       "    .dataframe tbody tr th:only-of-type {\n",
       "        vertical-align: middle;\n",
       "    }\n",
       "\n",
       "    .dataframe tbody tr th {\n",
       "        vertical-align: top;\n",
       "    }\n",
       "\n",
       "    .dataframe thead th {\n",
       "        text-align: right;\n",
       "    }\n",
       "</style>\n",
       "<table border=\"1\" class=\"dataframe\">\n",
       "  <thead>\n",
       "    <tr style=\"text-align: right;\">\n",
       "      <th></th>\n",
       "      <th>name</th>\n",
       "      <th>category</th>\n",
       "      <th>main_category</th>\n",
       "      <th>currency</th>\n",
       "      <th>deadline</th>\n",
       "      <th>goal</th>\n",
       "      <th>launched</th>\n",
       "      <th>state</th>\n",
       "      <th>country</th>\n",
       "      <th>usd_goal_real</th>\n",
       "      <th>usd_goal_real_std</th>\n",
       "      <th>delta</th>\n",
       "    </tr>\n",
       "  </thead>\n",
       "  <tbody>\n",
       "    <tr>\n",
       "      <td>85716</td>\n",
       "      <td>CanStar LLC Kickstarts Fundraising for 'Vincen...</td>\n",
       "      <td>Theater</td>\n",
       "      <td>Theater</td>\n",
       "      <td>USD</td>\n",
       "      <td>2011-04-02</td>\n",
       "      <td>7000.0</td>\n",
       "      <td>2010-12-31 18:12:36</td>\n",
       "      <td>1</td>\n",
       "      <td>US</td>\n",
       "      <td>7000.0</td>\n",
       "      <td>-0.040872</td>\n",
       "      <td>91</td>\n",
       "    </tr>\n",
       "    <tr>\n",
       "      <td>88090</td>\n",
       "      <td>Traditions Build Winners as the Snipe Class tu...</td>\n",
       "      <td>Documentary</td>\n",
       "      <td>Film &amp; Video</td>\n",
       "      <td>USD</td>\n",
       "      <td>2011-03-31</td>\n",
       "      <td>7500.0</td>\n",
       "      <td>2010-12-29 23:22:08</td>\n",
       "      <td>1</td>\n",
       "      <td>US</td>\n",
       "      <td>7500.0</td>\n",
       "      <td>-0.040102</td>\n",
       "      <td>91</td>\n",
       "    </tr>\n",
       "    <tr>\n",
       "      <td>150277</td>\n",
       "      <td>Misisipi Mike Wolf's 2nd Album - Enjoy Irrespo...</td>\n",
       "      <td>Country &amp; Folk</td>\n",
       "      <td>Music</td>\n",
       "      <td>USD</td>\n",
       "      <td>2011-04-02</td>\n",
       "      <td>1500.0</td>\n",
       "      <td>2010-12-31 10:05:54</td>\n",
       "      <td>1</td>\n",
       "      <td>US</td>\n",
       "      <td>1500.0</td>\n",
       "      <td>-0.049350</td>\n",
       "      <td>91</td>\n",
       "    </tr>\n",
       "    <tr>\n",
       "      <td>170950</td>\n",
       "      <td>Cinema41</td>\n",
       "      <td>Film &amp; Video</td>\n",
       "      <td>Film &amp; Video</td>\n",
       "      <td>USD</td>\n",
       "      <td>2011-06-22</td>\n",
       "      <td>500.0</td>\n",
       "      <td>2011-03-22 23:58:12</td>\n",
       "      <td>1</td>\n",
       "      <td>US</td>\n",
       "      <td>500.0</td>\n",
       "      <td>-0.050891</td>\n",
       "      <td>91</td>\n",
       "    </tr>\n",
       "    <tr>\n",
       "      <td>243386</td>\n",
       "      <td>Angie McClure's new album</td>\n",
       "      <td>Indie Rock</td>\n",
       "      <td>Music</td>\n",
       "      <td>USD</td>\n",
       "      <td>2011-04-04</td>\n",
       "      <td>5000.0</td>\n",
       "      <td>2011-01-02 07:39:52</td>\n",
       "      <td>1</td>\n",
       "      <td>US</td>\n",
       "      <td>5000.0</td>\n",
       "      <td>-0.043955</td>\n",
       "      <td>91</td>\n",
       "    </tr>\n",
       "    <tr>\n",
       "      <td>22618</td>\n",
       "      <td>Fair Trade Fashion by SET Boutique</td>\n",
       "      <td>Fashion</td>\n",
       "      <td>Fashion</td>\n",
       "      <td>USD</td>\n",
       "      <td>2011-04-04</td>\n",
       "      <td>7000.0</td>\n",
       "      <td>2011-01-02 20:21:23</td>\n",
       "      <td>0</td>\n",
       "      <td>US</td>\n",
       "      <td>7000.0</td>\n",
       "      <td>-0.040872</td>\n",
       "      <td>91</td>\n",
       "    </tr>\n",
       "    <tr>\n",
       "      <td>38476</td>\n",
       "      <td>TRI TOUCH MUSIC KIOSK</td>\n",
       "      <td>Technology</td>\n",
       "      <td>Technology</td>\n",
       "      <td>USD</td>\n",
       "      <td>2011-06-15</td>\n",
       "      <td>65000.0</td>\n",
       "      <td>2011-03-15 23:40:04</td>\n",
       "      <td>0</td>\n",
       "      <td>US</td>\n",
       "      <td>65000.0</td>\n",
       "      <td>0.048526</td>\n",
       "      <td>91</td>\n",
       "    </tr>\n",
       "    <tr>\n",
       "      <td>61014</td>\n",
       "      <td>A Somewhat Secret Place: Disability and Art</td>\n",
       "      <td>Art</td>\n",
       "      <td>Art</td>\n",
       "      <td>USD</td>\n",
       "      <td>2011-06-21</td>\n",
       "      <td>10000.0</td>\n",
       "      <td>2011-03-21 23:49:31</td>\n",
       "      <td>0</td>\n",
       "      <td>US</td>\n",
       "      <td>10000.0</td>\n",
       "      <td>-0.036248</td>\n",
       "      <td>91</td>\n",
       "    </tr>\n",
       "    <tr>\n",
       "      <td>67868</td>\n",
       "      <td>Men Who Dance With Men, Photographic Documentary</td>\n",
       "      <td>Photography</td>\n",
       "      <td>Photography</td>\n",
       "      <td>USD</td>\n",
       "      <td>2011-04-03</td>\n",
       "      <td>12000.0</td>\n",
       "      <td>2011-01-01 15:02:54</td>\n",
       "      <td>0</td>\n",
       "      <td>US</td>\n",
       "      <td>12000.0</td>\n",
       "      <td>-0.033166</td>\n",
       "      <td>91</td>\n",
       "    </tr>\n",
       "    <tr>\n",
       "      <td>74196</td>\n",
       "      <td>SmoothnFusion Jazz Comedy Album</td>\n",
       "      <td>Jazz</td>\n",
       "      <td>Music</td>\n",
       "      <td>USD</td>\n",
       "      <td>2011-04-01</td>\n",
       "      <td>12500.0</td>\n",
       "      <td>2010-12-30 00:53:47</td>\n",
       "      <td>0</td>\n",
       "      <td>US</td>\n",
       "      <td>12500.0</td>\n",
       "      <td>-0.032395</td>\n",
       "      <td>91</td>\n",
       "    </tr>\n",
       "    <tr>\n",
       "      <td>98785</td>\n",
       "      <td>\"Distribution Point\" Demo Shoot</td>\n",
       "      <td>Documentary</td>\n",
       "      <td>Film &amp; Video</td>\n",
       "      <td>USD</td>\n",
       "      <td>2011-04-03</td>\n",
       "      <td>5000.0</td>\n",
       "      <td>2011-01-01 10:00:56</td>\n",
       "      <td>0</td>\n",
       "      <td>US</td>\n",
       "      <td>5000.0</td>\n",
       "      <td>-0.043955</td>\n",
       "      <td>91</td>\n",
       "    </tr>\n",
       "    <tr>\n",
       "      <td>135100</td>\n",
       "      <td>Send Up For Nothing across the country!!</td>\n",
       "      <td>Pop</td>\n",
       "      <td>Music</td>\n",
       "      <td>USD</td>\n",
       "      <td>2011-04-01</td>\n",
       "      <td>10000.0</td>\n",
       "      <td>2010-12-30 05:00:03</td>\n",
       "      <td>0</td>\n",
       "      <td>US</td>\n",
       "      <td>10000.0</td>\n",
       "      <td>-0.036248</td>\n",
       "      <td>91</td>\n",
       "    </tr>\n",
       "    <tr>\n",
       "      <td>151836</td>\n",
       "      <td>STAINED GLASS a feature film by Rich Owens</td>\n",
       "      <td>Film &amp; Video</td>\n",
       "      <td>Film &amp; Video</td>\n",
       "      <td>USD</td>\n",
       "      <td>2011-06-24</td>\n",
       "      <td>50000.0</td>\n",
       "      <td>2011-03-24 23:44:10</td>\n",
       "      <td>0</td>\n",
       "      <td>US</td>\n",
       "      <td>50000.0</td>\n",
       "      <td>0.025405</td>\n",
       "      <td>91</td>\n",
       "    </tr>\n",
       "    <tr>\n",
       "      <td>153557</td>\n",
       "      <td>Legend of the Peach Girl</td>\n",
       "      <td>Video Games</td>\n",
       "      <td>Games</td>\n",
       "      <td>USD</td>\n",
       "      <td>2011-06-20</td>\n",
       "      <td>1000.0</td>\n",
       "      <td>2011-03-20 23:12:26</td>\n",
       "      <td>0</td>\n",
       "      <td>US</td>\n",
       "      <td>1000.0</td>\n",
       "      <td>-0.050121</td>\n",
       "      <td>91</td>\n",
       "    </tr>\n",
       "    <tr>\n",
       "      <td>173919</td>\n",
       "      <td>Uptown Praise Band 2nd Recording Project</td>\n",
       "      <td>Hip-Hop</td>\n",
       "      <td>Music</td>\n",
       "      <td>USD</td>\n",
       "      <td>2011-04-02</td>\n",
       "      <td>3800.0</td>\n",
       "      <td>2010-12-31 19:38:44</td>\n",
       "      <td>0</td>\n",
       "      <td>US</td>\n",
       "      <td>3800.0</td>\n",
       "      <td>-0.045805</td>\n",
       "      <td>91</td>\n",
       "    </tr>\n",
       "    <tr>\n",
       "      <td>200310</td>\n",
       "      <td>We Were Vampire</td>\n",
       "      <td>Film &amp; Video</td>\n",
       "      <td>Film &amp; Video</td>\n",
       "      <td>USD</td>\n",
       "      <td>2011-04-04</td>\n",
       "      <td>250000.0</td>\n",
       "      <td>2011-01-02 01:34:48</td>\n",
       "      <td>0</td>\n",
       "      <td>US</td>\n",
       "      <td>250000.0</td>\n",
       "      <td>0.333674</td>\n",
       "      <td>91</td>\n",
       "    </tr>\n",
       "    <tr>\n",
       "      <td>206611</td>\n",
       "      <td>Dark Timber Feature Film</td>\n",
       "      <td>Shorts</td>\n",
       "      <td>Film &amp; Video</td>\n",
       "      <td>USD</td>\n",
       "      <td>2011-04-01</td>\n",
       "      <td>5000.0</td>\n",
       "      <td>2010-12-30 04:11:49</td>\n",
       "      <td>0</td>\n",
       "      <td>US</td>\n",
       "      <td>5000.0</td>\n",
       "      <td>-0.043955</td>\n",
       "      <td>91</td>\n",
       "    </tr>\n",
       "    <tr>\n",
       "      <td>226191</td>\n",
       "      <td>Wales &amp; The Welsh - the shaping of a people an...</td>\n",
       "      <td>Documentary</td>\n",
       "      <td>Film &amp; Video</td>\n",
       "      <td>USD</td>\n",
       "      <td>2011-04-02</td>\n",
       "      <td>5900.0</td>\n",
       "      <td>2010-12-31 19:01:33</td>\n",
       "      <td>0</td>\n",
       "      <td>US</td>\n",
       "      <td>5900.0</td>\n",
       "      <td>-0.042568</td>\n",
       "      <td>91</td>\n",
       "    </tr>\n",
       "    <tr>\n",
       "      <td>226361</td>\n",
       "      <td>The new album by TA-80: Will Bury You!!</td>\n",
       "      <td>Rock</td>\n",
       "      <td>Music</td>\n",
       "      <td>USD</td>\n",
       "      <td>2011-04-04</td>\n",
       "      <td>500.0</td>\n",
       "      <td>2011-01-02 10:52:58</td>\n",
       "      <td>0</td>\n",
       "      <td>US</td>\n",
       "      <td>500.0</td>\n",
       "      <td>-0.050891</td>\n",
       "      <td>91</td>\n",
       "    </tr>\n",
       "    <tr>\n",
       "      <td>238380</td>\n",
       "      <td>'Do What You Love'   Live your Dreams - a P. J...</td>\n",
       "      <td>Documentary</td>\n",
       "      <td>Film &amp; Video</td>\n",
       "      <td>USD</td>\n",
       "      <td>2011-04-04</td>\n",
       "      <td>12977.0</td>\n",
       "      <td>2011-01-02 07:16:22</td>\n",
       "      <td>0</td>\n",
       "      <td>US</td>\n",
       "      <td>12977.0</td>\n",
       "      <td>-0.031660</td>\n",
       "      <td>91</td>\n",
       "    </tr>\n",
       "    <tr>\n",
       "      <td>275427</td>\n",
       "      <td>The Secrets To Life</td>\n",
       "      <td>Rock</td>\n",
       "      <td>Music</td>\n",
       "      <td>USD</td>\n",
       "      <td>2011-04-01</td>\n",
       "      <td>3000.0</td>\n",
       "      <td>2010-12-30 10:01:11</td>\n",
       "      <td>0</td>\n",
       "      <td>US</td>\n",
       "      <td>3000.0</td>\n",
       "      <td>-0.047038</td>\n",
       "      <td>91</td>\n",
       "    </tr>\n",
       "    <tr>\n",
       "      <td>305126</td>\n",
       "      <td>once upon a mountain</td>\n",
       "      <td>Documentary</td>\n",
       "      <td>Film &amp; Video</td>\n",
       "      <td>USD</td>\n",
       "      <td>2011-04-04</td>\n",
       "      <td>20000.0</td>\n",
       "      <td>2011-01-02 02:35:59</td>\n",
       "      <td>0</td>\n",
       "      <td>US</td>\n",
       "      <td>20000.0</td>\n",
       "      <td>-0.020835</td>\n",
       "      <td>91</td>\n",
       "    </tr>\n",
       "  </tbody>\n",
       "</table>\n",
       "</div>"
      ],
      "text/plain": [
       "                                                     name        category  \\\n",
       "85716   CanStar LLC Kickstarts Fundraising for 'Vincen...         Theater   \n",
       "88090   Traditions Build Winners as the Snipe Class tu...     Documentary   \n",
       "150277  Misisipi Mike Wolf's 2nd Album - Enjoy Irrespo...  Country & Folk   \n",
       "170950                                           Cinema41    Film & Video   \n",
       "243386                          Angie McClure's new album      Indie Rock   \n",
       "22618                  Fair Trade Fashion by SET Boutique         Fashion   \n",
       "38476                               TRI TOUCH MUSIC KIOSK      Technology   \n",
       "61014         A Somewhat Secret Place: Disability and Art             Art   \n",
       "67868   Men Who Dance With Men, Photographic Documentary      Photography   \n",
       "74196                     SmoothnFusion Jazz Comedy Album            Jazz   \n",
       "98785                    \"Distribution Point\" Demo Shoot      Documentary   \n",
       "135100           Send Up For Nothing across the country!!             Pop   \n",
       "151836         STAINED GLASS a feature film by Rich Owens    Film & Video   \n",
       "153557                           Legend of the Peach Girl     Video Games   \n",
       "173919           Uptown Praise Band 2nd Recording Project         Hip-Hop   \n",
       "200310                                    We Were Vampire    Film & Video   \n",
       "206611                           Dark Timber Feature Film          Shorts   \n",
       "226191  Wales & The Welsh - the shaping of a people an...     Documentary   \n",
       "226361            The new album by TA-80: Will Bury You!!            Rock   \n",
       "238380  'Do What You Love'   Live your Dreams - a P. J...     Documentary   \n",
       "275427                                The Secrets To Life            Rock   \n",
       "305126                               once upon a mountain     Documentary   \n",
       "\n",
       "       main_category currency   deadline      goal            launched  state  \\\n",
       "85716        Theater      USD 2011-04-02    7000.0 2010-12-31 18:12:36      1   \n",
       "88090   Film & Video      USD 2011-03-31    7500.0 2010-12-29 23:22:08      1   \n",
       "150277         Music      USD 2011-04-02    1500.0 2010-12-31 10:05:54      1   \n",
       "170950  Film & Video      USD 2011-06-22     500.0 2011-03-22 23:58:12      1   \n",
       "243386         Music      USD 2011-04-04    5000.0 2011-01-02 07:39:52      1   \n",
       "22618        Fashion      USD 2011-04-04    7000.0 2011-01-02 20:21:23      0   \n",
       "38476     Technology      USD 2011-06-15   65000.0 2011-03-15 23:40:04      0   \n",
       "61014            Art      USD 2011-06-21   10000.0 2011-03-21 23:49:31      0   \n",
       "67868    Photography      USD 2011-04-03   12000.0 2011-01-01 15:02:54      0   \n",
       "74196          Music      USD 2011-04-01   12500.0 2010-12-30 00:53:47      0   \n",
       "98785   Film & Video      USD 2011-04-03    5000.0 2011-01-01 10:00:56      0   \n",
       "135100         Music      USD 2011-04-01   10000.0 2010-12-30 05:00:03      0   \n",
       "151836  Film & Video      USD 2011-06-24   50000.0 2011-03-24 23:44:10      0   \n",
       "153557         Games      USD 2011-06-20    1000.0 2011-03-20 23:12:26      0   \n",
       "173919         Music      USD 2011-04-02    3800.0 2010-12-31 19:38:44      0   \n",
       "200310  Film & Video      USD 2011-04-04  250000.0 2011-01-02 01:34:48      0   \n",
       "206611  Film & Video      USD 2011-04-01    5000.0 2010-12-30 04:11:49      0   \n",
       "226191  Film & Video      USD 2011-04-02    5900.0 2010-12-31 19:01:33      0   \n",
       "226361         Music      USD 2011-04-04     500.0 2011-01-02 10:52:58      0   \n",
       "238380  Film & Video      USD 2011-04-04   12977.0 2011-01-02 07:16:22      0   \n",
       "275427         Music      USD 2011-04-01    3000.0 2010-12-30 10:01:11      0   \n",
       "305126  Film & Video      USD 2011-04-04   20000.0 2011-01-02 02:35:59      0   \n",
       "\n",
       "       country  usd_goal_real  usd_goal_real_std  delta  \n",
       "85716       US         7000.0          -0.040872     91  \n",
       "88090       US         7500.0          -0.040102     91  \n",
       "150277      US         1500.0          -0.049350     91  \n",
       "170950      US          500.0          -0.050891     91  \n",
       "243386      US         5000.0          -0.043955     91  \n",
       "22618       US         7000.0          -0.040872     91  \n",
       "38476       US        65000.0           0.048526     91  \n",
       "61014       US        10000.0          -0.036248     91  \n",
       "67868       US        12000.0          -0.033166     91  \n",
       "74196       US        12500.0          -0.032395     91  \n",
       "98785       US         5000.0          -0.043955     91  \n",
       "135100      US        10000.0          -0.036248     91  \n",
       "151836      US        50000.0           0.025405     91  \n",
       "153557      US         1000.0          -0.050121     91  \n",
       "173919      US         3800.0          -0.045805     91  \n",
       "200310      US       250000.0           0.333674     91  \n",
       "206611      US         5000.0          -0.043955     91  \n",
       "226191      US         5900.0          -0.042568     91  \n",
       "226361      US          500.0          -0.050891     91  \n",
       "238380      US        12977.0          -0.031660     91  \n",
       "275427      US         3000.0          -0.047038     91  \n",
       "305126      US        20000.0          -0.020835     91  "
      ]
     },
     "execution_count": 58,
     "metadata": {},
     "output_type": "execute_result"
    }
   ],
   "source": [
    "df_ks_2[df_ks_2[\"delta\"]==df_ks_2[\"delta\"].max()]"
   ]
  },
  {
   "cell_type": "markdown",
   "metadata": {},
   "source": [
    "#### delta=0となっているデータについて実際に期間が一日未満であったことを確認した。deltaの最大値が91日となっているデータが多いが、クラウドファンディングの期間の最大が30日間であったと思われ、問題ないと判断した。\n",
    "#### 以下標準化を行う。"
   ]
  },
  {
   "cell_type": "code",
   "execution_count": 59,
   "metadata": {},
   "outputs": [],
   "source": [
    "from sklearn.preprocessing import StandardScaler\n",
    "stdsc = StandardScaler()\n",
    "df_ks_2[\"delta_std\"]=stdsc.fit_transform(df_ks_2[[\"delta\"]].values)"
   ]
  },
  {
   "cell_type": "markdown",
   "metadata": {},
   "source": [
    "#### ここまでの処理を行ったデータについて一旦変数の相関係数を調べる"
   ]
  },
  {
   "cell_type": "code",
   "execution_count": 60,
   "metadata": {},
   "outputs": [
    {
     "data": {
      "image/png": "[encoded data removed]",
      "text/plain": [
       "<Figure size 432x288 with 2 Axes>"
      ]
     },
     "metadata": {
      "needs_background": "light"
     },
     "output_type": "display_data"
    }
   ],
   "source": [
    "sns.heatmap(df_ks_2.corr(), annot=True)\n",
    "plt.ylim(6, 0)\n",
    "plt.show()"
   ]
  },
  {
   "cell_type": "code",
   "execution_count": 61,
   "metadata": {},
   "outputs": [
    {
     "data": {
      "image/png": "[encoded data removed]",
      "text/plain": [
       "<Figure size 720x720 with 9 Axes>"
      ]
     },
     "metadata": {
      "needs_background": "light"
     },
     "output_type": "display_data"
    }
   ],
   "source": [
    "pd.plotting.scatter_matrix(df_ks_2[['state', 'usd_goal_real_std', 'delta_std']], figsize=(10,10))\n",
    "plt.show()"
   ]
  },
  {
   "cell_type": "markdown",
   "metadata": {},
   "source": [
    "goal, deltaともに目的変数stateと関係があるように思われるが、相関係数の値には表れていないようである。\n"
   ]
  },
  {
   "cell_type": "markdown",
   "metadata": {},
   "source": [
    "### カテゴリーについて\n",
    "#### 各カテゴリーごとの成功確率を求める。"
   ]
  },
  {
   "cell_type": "code",
   "execution_count": 62,
   "metadata": {},
   "outputs": [
    {
     "data": {
      "text/plain": [
       "main_category  state\n",
       "Art            0        14128\n",
       "               1        11510\n",
       "Comics         0         4035\n",
       "               1         5842\n",
       "Crafts         0         5703\n",
       "               1         2115\n",
       "Dance          0         1235\n",
       "               1         2338\n",
       "Design         0        14814\n",
       "               1        10550\n",
       "Fashion        0        14181\n",
       "               1         5593\n",
       "Film & Video   0        32892\n",
       "               1        23623\n",
       "Food           0        15968\n",
       "               1         6085\n",
       "Games          0        16001\n",
       "               1        12518\n",
       "Journalism     0         3136\n",
       "               1         1012\n",
       "Music          0        21752\n",
       "               1        24197\n",
       "Photography    0         6384\n",
       "               1         3305\n",
       "Publishing     0        23144\n",
       "               1        12300\n",
       "Technology     0        20609\n",
       "               1         6434\n",
       "Theater        0         3708\n",
       "               1         6534\n",
       "Name: state, dtype: int64"
      ]
     },
     "metadata": {},
     "output_type": "display_data"
    },
    {
     "data": {
      "text/plain": [
       "main_category\n",
       "Art             0.448943\n",
       "Comics          0.591475\n",
       "Crafts          0.270530\n",
       "Dance           0.654352\n",
       "Design          0.415944\n",
       "Fashion         0.282846\n",
       "Film & Video    0.417995\n",
       "Food            0.275926\n",
       "Games           0.438935\n",
       "Journalism      0.243973\n",
       "Music           0.526606\n",
       "Photography     0.341108\n",
       "Publishing      0.347026\n",
       "Technology      0.237917\n",
       "Theater         0.637961\n",
       "Name: state, dtype: float64"
      ]
     },
     "execution_count": 62,
     "metadata": {},
     "output_type": "execute_result"
    },
    {
     "data": {
      "image/png": "[encoded data removed]",
      "text/plain": [
       "<Figure size 2160x720 with 1 Axes>"
      ]
     },
     "metadata": {
      "needs_background": "light"
     },
     "output_type": "display_data"
    }
   ],
   "source": [
    "data_count_main_category = df_ks_2.groupby([\"main_category\",\"state\"])[\"state\"].count()\n",
    "plt.figure(figsize=(30,10))\n",
    "g = sns.barplot(data_count_main_category.keys(), data_count_main_category.values)\n",
    "g.set_xticklabels(data_count_main_category.keys(),rotation=30)\n",
    "display(data_count_main_category)\n",
    "df_ks_2.groupby([\"main_category\"])[\"state\"].mean()\n"
   ]
  },
  {
   "cell_type": "code",
   "execution_count": 63,
   "metadata": {},
   "outputs": [
    {
     "data": {
      "text/plain": [
       "category     state\n",
       "3D Printing  0         326\n",
       "             1         242\n",
       "Academic     0         589\n",
       "             1         188\n",
       "Accessories  0        1667\n",
       "                      ... \n",
       "World Music  1         922\n",
       "Young Adult  0         538\n",
       "             1         172\n",
       "Zines        0         176\n",
       "             1         179\n",
       "Name: state, Length: 318, dtype: int64"
      ]
     },
     "metadata": {},
     "output_type": "display_data"
    },
    {
     "data": {
      "text/plain": [
       "category\n",
       "3D Printing    0.426056\n",
       "Academic       0.241956\n",
       "Accessories    0.391606\n",
       "Action         0.172581\n",
       "Animals        0.275109\n",
       "                 ...   \n",
       "Woodworking    0.275992\n",
       "Workshops      0.337838\n",
       "World Music    0.475258\n",
       "Young Adult    0.242254\n",
       "Zines          0.504225\n",
       "Name: state, Length: 159, dtype: float64"
      ]
     },
     "execution_count": 63,
     "metadata": {},
     "output_type": "execute_result"
    }
   ],
   "source": [
    "data_count_category = df_ks_2.groupby([\"category\",\"state\"])[\"state\"].count()\n",
    "display(data_count_category)\n",
    "df_ks_2.groupby([\"category\"])[\"state\"].mean()"
   ]
  },
  {
   "cell_type": "markdown",
   "metadata": {},
   "source": [
    "#### カテゴリーによって成功確率は異なっているように思われる。カテゴリーの種類が多いため、予測ではメインカテゴリーのみを扱うこととする。"
   ]
  },
  {
   "cell_type": "code",
   "execution_count": 64,
   "metadata": {},
   "outputs": [],
   "source": [
    "df_ks_2=pd.get_dummies(df_ks_2, columns=['main_category'])"
   ]
  },
  {
   "cell_type": "code",
   "execution_count": 65,
   "metadata": {},
   "outputs": [
    {
     "data": {
      "image/png": "[encoded data removed]",
      "text/plain": [
       "<Figure size 432x288 with 2 Axes>"
      ]
     },
     "metadata": {
      "needs_background": "light"
     },
     "output_type": "display_data"
    }
   ],
   "source": [
    "# 相関係数をヒートマップにして可視化\n",
    "sns.heatmap(df_ks_2.corr(), annot=False)\n",
    "plt.show()"
   ]
  },
  {
   "cell_type": "markdown",
   "metadata": {},
   "source": [
    "## currency, countrryについて"
   ]
  },
  {
   "cell_type": "code",
   "execution_count": 66,
   "metadata": {},
   "outputs": [
    {
     "data": {
      "text/plain": [
       "currency  state\n",
       "AUD       0          4609\n",
       "          1          2011\n",
       "CAD       0          8236\n",
       "          1          4137\n",
       "CHF       0           464\n",
       "          1           187\n",
       "DKK       0           567\n",
       "          1           362\n",
       "EUR       0         10494\n",
       "          1          3882\n",
       "GBP       0         17394\n",
       "          1         12081\n",
       "HKD       0           261\n",
       "          1           216\n",
       "JPY       0            16\n",
       "          1             7\n",
       "MXN       0          1014\n",
       "          1           396\n",
       "NOK       0           420\n",
       "          1           163\n",
       "NZD       0           826\n",
       "          1           448\n",
       "SEK       0          1000\n",
       "          1           509\n",
       "SGD       0           276\n",
       "          1           178\n",
       "USD       0        152113\n",
       "          1        109379\n",
       "Name: state, dtype: int64"
      ]
     },
     "metadata": {},
     "output_type": "display_data"
    },
    {
     "data": {
      "text/plain": [
       "currency\n",
       "AUD    0.303776\n",
       "CAD    0.334357\n",
       "CHF    0.287250\n",
       "DKK    0.389666\n",
       "EUR    0.270033\n",
       "GBP    0.409873\n",
       "HKD    0.452830\n",
       "JPY    0.304348\n",
       "MXN    0.280851\n",
       "NOK    0.279588\n",
       "NZD    0.351648\n",
       "SEK    0.337309\n",
       "SGD    0.392070\n",
       "USD    0.418288\n",
       "Name: state, dtype: float64"
      ]
     },
     "execution_count": 66,
     "metadata": {},
     "output_type": "execute_result"
    },
    {
     "data": {
      "image/png": "[encoded data removed]",
      "text/plain": [
       "<Figure size 2160x720 with 1 Axes>"
      ]
     },
     "metadata": {
      "needs_background": "light"
     },
     "output_type": "display_data"
    }
   ],
   "source": [
    "data_count_currency = df_ks_2.groupby([\"currency\",\"state\"])[\"state\"].count()\n",
    "plt.figure(figsize=(30,10))\n",
    "g = sns.barplot(data_count_currency.keys(),data_count_currency.values)\n",
    "g.set_xticklabels(data_count_currency.keys(),rotation=30)\n",
    "display(data_count_currency)\n",
    "df_ks_2.groupby([\"currency\"])[\"state\"].mean()\n"
   ]
  },
  {
   "cell_type": "markdown",
   "metadata": {},
   "source": [
    "#### 通貨による違いが見られるため、ダミー変数を追加する。"
   ]
  },
  {
   "cell_type": "code",
   "execution_count": 67,
   "metadata": {},
   "outputs": [],
   "source": [
    "df_ks_2=pd.get_dummies(df_ks_2, columns=['currency'])"
   ]
  },
  {
   "cell_type": "code",
   "execution_count": 68,
   "metadata": {},
   "outputs": [
    {
     "data": {
      "text/plain": [
       "country  state\n",
       "AT       0           378\n",
       "         1           107\n",
       "AU       0          4605\n",
       "         1          2010\n",
       "BE       0           371\n",
       "         1           152\n",
       "CA       0          8234\n",
       "         1          4134\n",
       "CH       0           464\n",
       "         1           187\n",
       "DE       0          2498\n",
       "         1           937\n",
       "DK       0           566\n",
       "         1           360\n",
       "ES       0          1381\n",
       "         1           492\n",
       "FR       0          1611\n",
       "         1           908\n",
       "GB       0         17386\n",
       "         1         12067\n",
       "HK       0           261\n",
       "         1           216\n",
       "IE       0           476\n",
       "         1           207\n",
       "IT       0          1930\n",
       "         1           439\n",
       "JP       0            16\n",
       "         1             7\n",
       "LU       0            38\n",
       "         1            19\n",
       "MX       0          1014\n",
       "         1           396\n",
       "N,0\"     0           105\n",
       "         1           105\n",
       "NL       0          1794\n",
       "         1           617\n",
       "NO       0           419\n",
       "         1           162\n",
       "NZ       0           826\n",
       "         1           448\n",
       "SE       0           999\n",
       "         1           509\n",
       "SG       0           276\n",
       "         1           178\n",
       "US       0        152042\n",
       "         1        109299\n",
       "Name: state, dtype: int64"
      ]
     },
     "metadata": {},
     "output_type": "display_data"
    },
    {
     "data": {
      "text/plain": [
       "country\n",
       "AT      0.220619\n",
       "AU      0.303855\n",
       "BE      0.290631\n",
       "CA      0.334250\n",
       "CH      0.287250\n",
       "DE      0.272780\n",
       "DK      0.388769\n",
       "ES      0.262680\n",
       "FR      0.360461\n",
       "GB      0.409704\n",
       "HK      0.452830\n",
       "IE      0.303075\n",
       "IT      0.185310\n",
       "JP      0.304348\n",
       "LU      0.333333\n",
       "MX      0.280851\n",
       "N,0\"    0.500000\n",
       "NL      0.255910\n",
       "NO      0.278830\n",
       "NZ      0.351648\n",
       "SE      0.337533\n",
       "SG      0.392070\n",
       "US      0.418224\n",
       "Name: state, dtype: float64"
      ]
     },
     "execution_count": 68,
     "metadata": {},
     "output_type": "execute_result"
    },
    {
     "data": {
      "image/png": "[encoded data removed]",
      "text/plain": [
       "<Figure size 2160x720 with 1 Axes>"
      ]
     },
     "metadata": {
      "needs_background": "light"
     },
     "output_type": "display_data"
    }
   ],
   "source": [
    "data_count_coutnry = df_ks_2.groupby([\"country\",\"state\"])[\"state\"].count()\n",
    "plt.figure(figsize=(30,10))\n",
    "g = sns.barplot(data_count_coutnry.keys(), data_count_coutnry.values)\n",
    "g.set_xticklabels(data_count_coutnry.keys(),rotation=30)\n",
    "display(data_count_coutnry)\n",
    "df_ks_2.groupby([\"country\"])[\"state\"].mean()"
   ]
  },
  {
   "cell_type": "markdown",
   "metadata": {},
   "source": [
    " 国、通貨による成功確率の違いは見られたが、データ数が少ない国が多く、信頼性が高くないと判断した。"
   ]
  },
  {
   "cell_type": "code",
   "execution_count": 69,
   "metadata": {},
   "outputs": [
    {
     "data": {
      "image/png": "[encoded data removed]",
      "text/plain": [
       "<Figure size 432x288 with 2 Axes>"
      ]
     },
     "metadata": {
      "needs_background": "light"
     },
     "output_type": "display_data"
    }
   ],
   "source": [
    "# 相関係数をヒートマップにして可視化\n",
    "sns.heatmap(df_ks_2.corr(), annot=False)\n",
    "plt.show()"
   ]
  },
  {
   "cell_type": "markdown",
   "metadata": {},
   "source": [
    "## 予測モデルの構築"
   ]
  },
  {
   "cell_type": "code",
   "execution_count": 70,
   "metadata": {},
   "outputs": [
    {
     "data": {
      "text/html": [
       "<div>\n",
       "<style scoped>\n",
       "    .dataframe tbody tr th:only-of-type {\n",
       "        vertical-align: middle;\n",
       "    }\n",
       "\n",
       "    .dataframe tbody tr th {\n",
       "        vertical-align: top;\n",
       "    }\n",
       "\n",
       "    .dataframe thead th {\n",
       "        text-align: right;\n",
       "    }\n",
       "</style>\n",
       "<table border=\"1\" class=\"dataframe\">\n",
       "  <thead>\n",
       "    <tr style=\"text-align: right;\">\n",
       "      <th></th>\n",
       "      <th>name</th>\n",
       "      <th>category</th>\n",
       "      <th>deadline</th>\n",
       "      <th>goal</th>\n",
       "      <th>launched</th>\n",
       "      <th>state</th>\n",
       "      <th>country</th>\n",
       "      <th>usd_goal_real</th>\n",
       "      <th>usd_goal_real_std</th>\n",
       "      <th>delta</th>\n",
       "      <th>...</th>\n",
       "      <th>currency_EUR</th>\n",
       "      <th>currency_GBP</th>\n",
       "      <th>currency_HKD</th>\n",
       "      <th>currency_JPY</th>\n",
       "      <th>currency_MXN</th>\n",
       "      <th>currency_NOK</th>\n",
       "      <th>currency_NZD</th>\n",
       "      <th>currency_SEK</th>\n",
       "      <th>currency_SGD</th>\n",
       "      <th>currency_USD</th>\n",
       "    </tr>\n",
       "  </thead>\n",
       "  <tbody>\n",
       "    <tr>\n",
       "      <td>5</td>\n",
       "      <td>Monarch Espresso Bar</td>\n",
       "      <td>Restaurants</td>\n",
       "      <td>2016-04-01</td>\n",
       "      <td>50000.0</td>\n",
       "      <td>2016-02-26 13:38:27</td>\n",
       "      <td>1</td>\n",
       "      <td>US</td>\n",
       "      <td>50000.00</td>\n",
       "      <td>0.025405</td>\n",
       "      <td>34</td>\n",
       "      <td>...</td>\n",
       "      <td>0</td>\n",
       "      <td>0</td>\n",
       "      <td>0</td>\n",
       "      <td>0</td>\n",
       "      <td>0</td>\n",
       "      <td>0</td>\n",
       "      <td>0</td>\n",
       "      <td>0</td>\n",
       "      <td>0</td>\n",
       "      <td>1</td>\n",
       "    </tr>\n",
       "    <tr>\n",
       "      <td>6</td>\n",
       "      <td>Support Solar Roasted Coffee &amp; Green Energy!  ...</td>\n",
       "      <td>Food</td>\n",
       "      <td>2014-12-21</td>\n",
       "      <td>1000.0</td>\n",
       "      <td>2014-12-01 18:30:44</td>\n",
       "      <td>1</td>\n",
       "      <td>US</td>\n",
       "      <td>1000.00</td>\n",
       "      <td>-0.050121</td>\n",
       "      <td>19</td>\n",
       "      <td>...</td>\n",
       "      <td>0</td>\n",
       "      <td>0</td>\n",
       "      <td>0</td>\n",
       "      <td>0</td>\n",
       "      <td>0</td>\n",
       "      <td>0</td>\n",
       "      <td>0</td>\n",
       "      <td>0</td>\n",
       "      <td>0</td>\n",
       "      <td>1</td>\n",
       "    </tr>\n",
       "    <tr>\n",
       "      <td>11</td>\n",
       "      <td>Lisa Lim New CD!</td>\n",
       "      <td>Indie Rock</td>\n",
       "      <td>2013-04-08</td>\n",
       "      <td>12500.0</td>\n",
       "      <td>2013-03-09 06:42:58</td>\n",
       "      <td>1</td>\n",
       "      <td>US</td>\n",
       "      <td>12500.00</td>\n",
       "      <td>-0.032395</td>\n",
       "      <td>29</td>\n",
       "      <td>...</td>\n",
       "      <td>0</td>\n",
       "      <td>0</td>\n",
       "      <td>0</td>\n",
       "      <td>0</td>\n",
       "      <td>0</td>\n",
       "      <td>0</td>\n",
       "      <td>0</td>\n",
       "      <td>0</td>\n",
       "      <td>0</td>\n",
       "      <td>1</td>\n",
       "    </tr>\n",
       "    <tr>\n",
       "      <td>14</td>\n",
       "      <td>Tombstone: Old West tabletop game and miniatur...</td>\n",
       "      <td>Tabletop Games</td>\n",
       "      <td>2017-05-03</td>\n",
       "      <td>5000.0</td>\n",
       "      <td>2017-04-05 19:44:18</td>\n",
       "      <td>1</td>\n",
       "      <td>GB</td>\n",
       "      <td>6469.73</td>\n",
       "      <td>-0.041690</td>\n",
       "      <td>27</td>\n",
       "      <td>...</td>\n",
       "      <td>0</td>\n",
       "      <td>1</td>\n",
       "      <td>0</td>\n",
       "      <td>0</td>\n",
       "      <td>0</td>\n",
       "      <td>0</td>\n",
       "      <td>0</td>\n",
       "      <td>0</td>\n",
       "      <td>0</td>\n",
       "      <td>0</td>\n",
       "    </tr>\n",
       "    <tr>\n",
       "      <td>18</td>\n",
       "      <td>Mike Corey's Darkness &amp; Light Album</td>\n",
       "      <td>Music</td>\n",
       "      <td>2012-08-17</td>\n",
       "      <td>250.0</td>\n",
       "      <td>2012-08-02 14:11:32</td>\n",
       "      <td>1</td>\n",
       "      <td>US</td>\n",
       "      <td>250.00</td>\n",
       "      <td>-0.051277</td>\n",
       "      <td>14</td>\n",
       "      <td>...</td>\n",
       "      <td>0</td>\n",
       "      <td>0</td>\n",
       "      <td>0</td>\n",
       "      <td>0</td>\n",
       "      <td>0</td>\n",
       "      <td>0</td>\n",
       "      <td>0</td>\n",
       "      <td>0</td>\n",
       "      <td>0</td>\n",
       "      <td>1</td>\n",
       "    </tr>\n",
       "  </tbody>\n",
       "</table>\n",
       "<p>5 rows × 40 columns</p>\n",
       "</div>"
      ],
      "text/plain": [
       "                                                 name        category  \\\n",
       "5                                Monarch Espresso Bar     Restaurants   \n",
       "6   Support Solar Roasted Coffee & Green Energy!  ...            Food   \n",
       "11                                   Lisa Lim New CD!      Indie Rock   \n",
       "14  Tombstone: Old West tabletop game and miniatur...  Tabletop Games   \n",
       "18                Mike Corey's Darkness & Light Album           Music   \n",
       "\n",
       "     deadline     goal            launched  state country  usd_goal_real  \\\n",
       "5  2016-04-01  50000.0 2016-02-26 13:38:27      1      US       50000.00   \n",
       "6  2014-12-21   1000.0 2014-12-01 18:30:44      1      US        1000.00   \n",
       "11 2013-04-08  12500.0 2013-03-09 06:42:58      1      US       12500.00   \n",
       "14 2017-05-03   5000.0 2017-04-05 19:44:18      1      GB        6469.73   \n",
       "18 2012-08-17    250.0 2012-08-02 14:11:32      1      US         250.00   \n",
       "\n",
       "    usd_goal_real_std  delta  ...  currency_EUR  currency_GBP  currency_HKD  \\\n",
       "5            0.025405     34  ...             0             0             0   \n",
       "6           -0.050121     19  ...             0             0             0   \n",
       "11          -0.032395     29  ...             0             0             0   \n",
       "14          -0.041690     27  ...             0             1             0   \n",
       "18          -0.051277     14  ...             0             0             0   \n",
       "\n",
       "    currency_JPY  currency_MXN  currency_NOK  currency_NZD  currency_SEK  \\\n",
       "5              0             0             0             0             0   \n",
       "6              0             0             0             0             0   \n",
       "11             0             0             0             0             0   \n",
       "14             0             0             0             0             0   \n",
       "18             0             0             0             0             0   \n",
       "\n",
       "    currency_SGD  currency_USD  \n",
       "5              0             1  \n",
       "6              0             1  \n",
       "11             0             1  \n",
       "14             0             0  \n",
       "18             0             1  \n",
       "\n",
       "[5 rows x 40 columns]"
      ]
     },
     "execution_count": 70,
     "metadata": {},
     "output_type": "execute_result"
    }
   ],
   "source": [
    "df_ks_2.head()"
   ]
  },
  {
   "cell_type": "markdown",
   "metadata": {},
   "source": [
    "#### nameは予測に大きく関係していないと考えられるため、今回は除外した。これまでの考察から、まずは usd_goal_std, currencyおよび main_categoryのダミー変数, delta_std, で予測を行うこととした。"
   ]
  },
  {
   "cell_type": "code",
   "execution_count": 71,
   "metadata": {},
   "outputs": [
    {
     "data": {
      "text/html": [
       "<div>\n",
       "<style scoped>\n",
       "    .dataframe tbody tr th:only-of-type {\n",
       "        vertical-align: middle;\n",
       "    }\n",
       "\n",
       "    .dataframe tbody tr th {\n",
       "        vertical-align: top;\n",
       "    }\n",
       "\n",
       "    .dataframe thead th {\n",
       "        text-align: right;\n",
       "    }\n",
       "</style>\n",
       "<table border=\"1\" class=\"dataframe\">\n",
       "  <thead>\n",
       "    <tr style=\"text-align: right;\">\n",
       "      <th></th>\n",
       "      <th>usd_goal_real_std</th>\n",
       "      <th>delta_std</th>\n",
       "      <th>main_category_Art</th>\n",
       "      <th>main_category_Comics</th>\n",
       "      <th>main_category_Crafts</th>\n",
       "      <th>main_category_Dance</th>\n",
       "      <th>main_category_Design</th>\n",
       "      <th>main_category_Fashion</th>\n",
       "      <th>main_category_Film &amp; Video</th>\n",
       "      <th>main_category_Food</th>\n",
       "      <th>...</th>\n",
       "      <th>currency_EUR</th>\n",
       "      <th>currency_GBP</th>\n",
       "      <th>currency_HKD</th>\n",
       "      <th>currency_JPY</th>\n",
       "      <th>currency_MXN</th>\n",
       "      <th>currency_NOK</th>\n",
       "      <th>currency_NZD</th>\n",
       "      <th>currency_SEK</th>\n",
       "      <th>currency_SGD</th>\n",
       "      <th>currency_USD</th>\n",
       "    </tr>\n",
       "  </thead>\n",
       "  <tbody>\n",
       "    <tr>\n",
       "      <td>5</td>\n",
       "      <td>0.025405</td>\n",
       "      <td>0.082298</td>\n",
       "      <td>0</td>\n",
       "      <td>0</td>\n",
       "      <td>0</td>\n",
       "      <td>0</td>\n",
       "      <td>0</td>\n",
       "      <td>0</td>\n",
       "      <td>0</td>\n",
       "      <td>1</td>\n",
       "      <td>...</td>\n",
       "      <td>0</td>\n",
       "      <td>0</td>\n",
       "      <td>0</td>\n",
       "      <td>0</td>\n",
       "      <td>0</td>\n",
       "      <td>0</td>\n",
       "      <td>0</td>\n",
       "      <td>0</td>\n",
       "      <td>0</td>\n",
       "      <td>1</td>\n",
       "    </tr>\n",
       "    <tr>\n",
       "      <td>6</td>\n",
       "      <td>-0.050121</td>\n",
       "      <td>-1.097677</td>\n",
       "      <td>0</td>\n",
       "      <td>0</td>\n",
       "      <td>0</td>\n",
       "      <td>0</td>\n",
       "      <td>0</td>\n",
       "      <td>0</td>\n",
       "      <td>0</td>\n",
       "      <td>1</td>\n",
       "      <td>...</td>\n",
       "      <td>0</td>\n",
       "      <td>0</td>\n",
       "      <td>0</td>\n",
       "      <td>0</td>\n",
       "      <td>0</td>\n",
       "      <td>0</td>\n",
       "      <td>0</td>\n",
       "      <td>0</td>\n",
       "      <td>0</td>\n",
       "      <td>1</td>\n",
       "    </tr>\n",
       "    <tr>\n",
       "      <td>11</td>\n",
       "      <td>-0.032395</td>\n",
       "      <td>-0.311027</td>\n",
       "      <td>0</td>\n",
       "      <td>0</td>\n",
       "      <td>0</td>\n",
       "      <td>0</td>\n",
       "      <td>0</td>\n",
       "      <td>0</td>\n",
       "      <td>0</td>\n",
       "      <td>0</td>\n",
       "      <td>...</td>\n",
       "      <td>0</td>\n",
       "      <td>0</td>\n",
       "      <td>0</td>\n",
       "      <td>0</td>\n",
       "      <td>0</td>\n",
       "      <td>0</td>\n",
       "      <td>0</td>\n",
       "      <td>0</td>\n",
       "      <td>0</td>\n",
       "      <td>1</td>\n",
       "    </tr>\n",
       "    <tr>\n",
       "      <td>14</td>\n",
       "      <td>-0.041690</td>\n",
       "      <td>-0.468357</td>\n",
       "      <td>0</td>\n",
       "      <td>0</td>\n",
       "      <td>0</td>\n",
       "      <td>0</td>\n",
       "      <td>0</td>\n",
       "      <td>0</td>\n",
       "      <td>0</td>\n",
       "      <td>0</td>\n",
       "      <td>...</td>\n",
       "      <td>0</td>\n",
       "      <td>1</td>\n",
       "      <td>0</td>\n",
       "      <td>0</td>\n",
       "      <td>0</td>\n",
       "      <td>0</td>\n",
       "      <td>0</td>\n",
       "      <td>0</td>\n",
       "      <td>0</td>\n",
       "      <td>0</td>\n",
       "    </tr>\n",
       "    <tr>\n",
       "      <td>18</td>\n",
       "      <td>-0.051277</td>\n",
       "      <td>-1.491002</td>\n",
       "      <td>0</td>\n",
       "      <td>0</td>\n",
       "      <td>0</td>\n",
       "      <td>0</td>\n",
       "      <td>0</td>\n",
       "      <td>0</td>\n",
       "      <td>0</td>\n",
       "      <td>0</td>\n",
       "      <td>...</td>\n",
       "      <td>0</td>\n",
       "      <td>0</td>\n",
       "      <td>0</td>\n",
       "      <td>0</td>\n",
       "      <td>0</td>\n",
       "      <td>0</td>\n",
       "      <td>0</td>\n",
       "      <td>0</td>\n",
       "      <td>0</td>\n",
       "      <td>1</td>\n",
       "    </tr>\n",
       "  </tbody>\n",
       "</table>\n",
       "<p>5 rows × 31 columns</p>\n",
       "</div>"
      ],
      "text/plain": [
       "    usd_goal_real_std  delta_std  main_category_Art  main_category_Comics  \\\n",
       "5            0.025405   0.082298                  0                     0   \n",
       "6           -0.050121  -1.097677                  0                     0   \n",
       "11          -0.032395  -0.311027                  0                     0   \n",
       "14          -0.041690  -0.468357                  0                     0   \n",
       "18          -0.051277  -1.491002                  0                     0   \n",
       "\n",
       "    main_category_Crafts  main_category_Dance  main_category_Design  \\\n",
       "5                      0                    0                     0   \n",
       "6                      0                    0                     0   \n",
       "11                     0                    0                     0   \n",
       "14                     0                    0                     0   \n",
       "18                     0                    0                     0   \n",
       "\n",
       "    main_category_Fashion  main_category_Film & Video  main_category_Food  \\\n",
       "5                       0                           0                   1   \n",
       "6                       0                           0                   1   \n",
       "11                      0                           0                   0   \n",
       "14                      0                           0                   0   \n",
       "18                      0                           0                   0   \n",
       "\n",
       "    ...  currency_EUR  currency_GBP  currency_HKD  currency_JPY  currency_MXN  \\\n",
       "5   ...             0             0             0             0             0   \n",
       "6   ...             0             0             0             0             0   \n",
       "11  ...             0             0             0             0             0   \n",
       "14  ...             0             1             0             0             0   \n",
       "18  ...             0             0             0             0             0   \n",
       "\n",
       "    currency_NOK  currency_NZD  currency_SEK  currency_SGD  currency_USD  \n",
       "5              0             0             0             0             1  \n",
       "6              0             0             0             0             1  \n",
       "11             0             0             0             0             1  \n",
       "14             0             0             0             0             0  \n",
       "18             0             0             0             0             1  \n",
       "\n",
       "[5 rows x 31 columns]"
      ]
     },
     "execution_count": 71,
     "metadata": {},
     "output_type": "execute_result"
    }
   ],
   "source": [
    "X = df_ks_2.drop([\"state\", \"launched\", \"country\", \"usd_goal_real\", \"name\", \"category\", \"deadline\", \"goal\",\"delta\"], axis=1)\n",
    "y = df_ks_2[\"state\"]\n",
    "X.head()"
   ]
  },
  {
   "cell_type": "markdown",
   "metadata": {},
   "source": [
    "#### ロジスティック回帰で予測"
   ]
  },
  {
   "cell_type": "code",
   "execution_count": 72,
   "metadata": {},
   "outputs": [],
   "source": [
    "from sklearn.linear_model import SGDClassifier\n",
    "from sklearn.metrics import log_loss, accuracy_score, confusion_matrix\n",
    "from sklearn.preprocessing import StandardScaler\n",
    "from sklearn.metrics import accuracy_score, precision_recall_fscore_support, confusion_matrix "
   ]
  },
  {
   "cell_type": "code",
   "execution_count": 73,
   "metadata": {},
   "outputs": [
    {
     "name": "stdout",
     "output_type": "stream",
     "text": [
      "-0.7911444395968981\n",
      "[[-9.36169194 -0.1724347   0.05283223  0.66784664 -0.82273296  0.93405156\n",
      "   0.07856073 -0.62141084  0.10405136 -0.57951174  0.11167127 -0.76256111\n",
      "   0.36447128 -0.32092407 -0.40994077 -0.42816875  0.84062073 -0.26570295\n",
      "  -0.11236926 -0.0636167   0.12985211 -0.21715004  0.14217398  0.51593587\n",
      "  -0.31763854 -0.50624405 -0.35325699 -0.04794968 -0.12087606  0.20784985\n",
      "   0.21784802]]\n"
     ]
    }
   ],
   "source": [
    "clf = SGDClassifier(loss='log', penalty='none', max_iter=10000, fit_intercept=True, random_state=1234, tol=1e-3, )\n",
    "clf.fit(X, y)\n",
    "\n",
    "# 重みを取得して表示\n",
    "w0 = clf.intercept_[0]\n",
    "w = clf.coef_\n",
    "\n",
    "print(w0)\n",
    "print(w)"
   ]
  },
  {
   "cell_type": "markdown",
   "metadata": {},
   "source": [
    "#### 結果の表示"
   ]
  },
  {
   "cell_type": "code",
   "execution_count": 74,
   "metadata": {
    "scrolled": true
   },
   "outputs": [
    {
     "name": "stdout",
     "output_type": "stream",
     "text": [
      "対数尤度 = -208320.657\n",
      "正答率 = 64.681%\n",
      "適合率（Precision） = 59.223%\n",
      "再現率（Recall） = 40.315%\n",
      "F1値（F1-score） = 47.974%\n"
     ]
    }
   ],
   "source": [
    "# ラベルを予測\n",
    "y_est = clf.predict(X)\n",
    "\n",
    "# 確率値を得る\n",
    "y_est_proba = clf.predict_proba(X)\n",
    "\n",
    "# 対数尤度を表示\n",
    "print('対数尤度 = {:.3f}'.format(- log_loss(y, y_est_proba, normalize=False))) \n",
    "\n",
    "# 正答率を表示\n",
    "print('正答率 = {:.3f}%'.format(100 * accuracy_score(y, y_est)))\n",
    "\n",
    "# Precision, Recall, F1-scoreを計算\n",
    "precision, recall, f1_score, _ = precision_recall_fscore_support(y, y_est)\n",
    "\n",
    "print('適合率（Precision） = {:.3f}%'.format(100 * precision[1]))\n",
    "print('再現率（Recall） = {:.3f}%'.format(100 * recall[1]))\n",
    "print('F1値（F1-score） = {:.3f}%'.format(100 * f1_score[1]))"
   ]
  },
  {
   "cell_type": "code",
   "execution_count": 75,
   "metadata": {},
   "outputs": [
    {
     "data": {
      "text/html": [
       "<div>\n",
       "<style scoped>\n",
       "    .dataframe tbody tr th:only-of-type {\n",
       "        vertical-align: middle;\n",
       "    }\n",
       "\n",
       "    .dataframe tbody tr th {\n",
       "        vertical-align: top;\n",
       "    }\n",
       "\n",
       "    .dataframe thead th {\n",
       "        text-align: right;\n",
       "    }\n",
       "</style>\n",
       "<table border=\"1\" class=\"dataframe\">\n",
       "  <thead>\n",
       "    <tr style=\"text-align: right;\">\n",
       "      <th></th>\n",
       "      <th>予測 = failed</th>\n",
       "      <th>予測 = successful</th>\n",
       "    </tr>\n",
       "  </thead>\n",
       "  <tbody>\n",
       "    <tr>\n",
       "      <td>正解 = failed</td>\n",
       "      <td>160506</td>\n",
       "      <td>37184</td>\n",
       "    </tr>\n",
       "    <tr>\n",
       "      <td>正解 = successful</td>\n",
       "      <td>79951</td>\n",
       "      <td>54005</td>\n",
       "    </tr>\n",
       "  </tbody>\n",
       "</table>\n",
       "</div>"
      ],
      "text/plain": [
       "                 予測 = failed  予測 = successful\n",
       "正解 = failed           160506            37184\n",
       "正解 = successful        79951            54005"
      ]
     },
     "execution_count": 75,
     "metadata": {},
     "output_type": "execute_result"
    }
   ],
   "source": [
    "# 予測値と正解のクロス集計\n",
    "conf_mat = pd.DataFrame(confusion_matrix(y, y_est), \n",
    "                        index=['正解 = failed', '正解 = successful'], \n",
    "                        columns=['予測 = failed', '予測 = successful'])\n",
    "\n",
    "conf_mat"
   ]
  },
  {
   "cell_type": "markdown",
   "metadata": {},
   "source": [
    "#### 予測モデルの構築が完了した。今のところ訓練データにおいてもあまり精度が良いとは言えないが、今後は汎化性能の検証、ロジスティック回帰以外のモデルの検証、今回除外した変数の活用を行っていきたい。"
   ]
  },
  {
   "cell_type": "code",
   "execution_count": null,
   "metadata": {},
   "outputs": [],
   "source": []
  }
 ],
 "metadata": {
  "kernelspec": {
   "display_name": "Python 3",
   "language": "python",
   "name": "python3"
  },
  "language_info": {
   "codemirror_mode": {
    "name": "ipython",
    "version": 3
   },
   "file_extension": ".py",
   "mimetype": "text/x-python",
   "name": "python",
   "nbconvert_exporter": "python",
   "pygments_lexer": "ipython3",
   "version": "3.7.4"
  }
 },
 "nbformat": 4,
 "nbformat_minor": 2
}
