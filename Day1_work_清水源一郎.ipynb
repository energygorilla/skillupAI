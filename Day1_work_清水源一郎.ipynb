{
 "cells": [
  {
   "cell_type": "markdown",
   "metadata": {},
   "source": [
    "# 課題①　あるクラウドファンディングが成功するかを事前に予測する"
   ]
  },
  {
   "cell_type": "markdown",
   "metadata": {},
   "source": [
    "#### 必要なライブラリのインポート"
   ]
  },
  {
   "cell_type": "code",
   "execution_count": 84,
   "metadata": {},
   "outputs": [],
   "source": [
    "%matplotlib inline\n",
    "import pandas as pd\n",
    "import numpy as np\n",
    "import matplotlib.pyplot as plt\n",
    "import seaborn as sns\n",
    "from sklearn.linear_model import SGDClassifier\n",
    "from sklearn.metrics import log_loss, accuracy_score, confusion_matrix\n",
    "from sklearn.preprocessing import StandardScaler"
   ]
  },
  {
   "cell_type": "markdown",
   "metadata": {},
   "source": [
    "#### データの読み込み、確認\n"
   ]
  },
  {
   "cell_type": "code",
   "execution_count": 85,
   "metadata": {},
   "outputs": [
    {
     "data": {
      "text/html": [
       "<div>\n",
       "<style scoped>\n",
       "    .dataframe tbody tr th:only-of-type {\n",
       "        vertical-align: middle;\n",
       "    }\n",
       "\n",
       "    .dataframe tbody tr th {\n",
       "        vertical-align: top;\n",
       "    }\n",
       "\n",
       "    .dataframe thead th {\n",
       "        text-align: right;\n",
       "    }\n",
       "</style>\n",
       "<table border=\"1\" class=\"dataframe\">\n",
       "  <thead>\n",
       "    <tr style=\"text-align: right;\">\n",
       "      <th></th>\n",
       "      <th>ID</th>\n",
       "      <th>name</th>\n",
       "      <th>category</th>\n",
       "      <th>main_category</th>\n",
       "      <th>currency</th>\n",
       "      <th>deadline</th>\n",
       "      <th>goal</th>\n",
       "      <th>launched</th>\n",
       "      <th>pledged</th>\n",
       "      <th>state</th>\n",
       "      <th>backers</th>\n",
       "      <th>country</th>\n",
       "      <th>usd pledged</th>\n",
       "      <th>usd_pledged_real</th>\n",
       "      <th>usd_goal_real</th>\n",
       "    </tr>\n",
       "  </thead>\n",
       "  <tbody>\n",
       "    <tr>\n",
       "      <th>0</th>\n",
       "      <td>1000002330</td>\n",
       "      <td>The Songs of Adelaide &amp; Abullah</td>\n",
       "      <td>Poetry</td>\n",
       "      <td>Publishing</td>\n",
       "      <td>GBP</td>\n",
       "      <td>2015-10-09</td>\n",
       "      <td>1000.0</td>\n",
       "      <td>2015-08-11 12:12:28</td>\n",
       "      <td>0.0</td>\n",
       "      <td>failed</td>\n",
       "      <td>0</td>\n",
       "      <td>GB</td>\n",
       "      <td>0.0</td>\n",
       "      <td>0.0</td>\n",
       "      <td>1533.95</td>\n",
       "    </tr>\n",
       "    <tr>\n",
       "      <th>1</th>\n",
       "      <td>1000003930</td>\n",
       "      <td>Greeting From Earth: ZGAC Arts Capsule For ET</td>\n",
       "      <td>Narrative Film</td>\n",
       "      <td>Film &amp; Video</td>\n",
       "      <td>USD</td>\n",
       "      <td>2017-11-01</td>\n",
       "      <td>30000.0</td>\n",
       "      <td>2017-09-02 04:43:57</td>\n",
       "      <td>2421.0</td>\n",
       "      <td>failed</td>\n",
       "      <td>15</td>\n",
       "      <td>US</td>\n",
       "      <td>100.0</td>\n",
       "      <td>2421.0</td>\n",
       "      <td>30000.00</td>\n",
       "    </tr>\n",
       "    <tr>\n",
       "      <th>2</th>\n",
       "      <td>1000004038</td>\n",
       "      <td>Where is Hank?</td>\n",
       "      <td>Narrative Film</td>\n",
       "      <td>Film &amp; Video</td>\n",
       "      <td>USD</td>\n",
       "      <td>2013-02-26</td>\n",
       "      <td>45000.0</td>\n",
       "      <td>2013-01-12 00:20:50</td>\n",
       "      <td>220.0</td>\n",
       "      <td>failed</td>\n",
       "      <td>3</td>\n",
       "      <td>US</td>\n",
       "      <td>220.0</td>\n",
       "      <td>220.0</td>\n",
       "      <td>45000.00</td>\n",
       "    </tr>\n",
       "    <tr>\n",
       "      <th>3</th>\n",
       "      <td>1000007540</td>\n",
       "      <td>ToshiCapital Rekordz Needs Help to Complete Album</td>\n",
       "      <td>Music</td>\n",
       "      <td>Music</td>\n",
       "      <td>USD</td>\n",
       "      <td>2012-04-16</td>\n",
       "      <td>5000.0</td>\n",
       "      <td>2012-03-17 03:24:11</td>\n",
       "      <td>1.0</td>\n",
       "      <td>failed</td>\n",
       "      <td>1</td>\n",
       "      <td>US</td>\n",
       "      <td>1.0</td>\n",
       "      <td>1.0</td>\n",
       "      <td>5000.00</td>\n",
       "    </tr>\n",
       "    <tr>\n",
       "      <th>4</th>\n",
       "      <td>1000011046</td>\n",
       "      <td>Community Film Project: The Art of Neighborhoo...</td>\n",
       "      <td>Film &amp; Video</td>\n",
       "      <td>Film &amp; Video</td>\n",
       "      <td>USD</td>\n",
       "      <td>2015-08-29</td>\n",
       "      <td>19500.0</td>\n",
       "      <td>2015-07-04 08:35:03</td>\n",
       "      <td>1283.0</td>\n",
       "      <td>canceled</td>\n",
       "      <td>14</td>\n",
       "      <td>US</td>\n",
       "      <td>1283.0</td>\n",
       "      <td>1283.0</td>\n",
       "      <td>19500.00</td>\n",
       "    </tr>\n",
       "  </tbody>\n",
       "</table>\n",
       "</div>"
      ],
      "text/plain": [
       "           ID                                               name  \\\n",
       "0  1000002330                    The Songs of Adelaide & Abullah   \n",
       "1  1000003930      Greeting From Earth: ZGAC Arts Capsule For ET   \n",
       "2  1000004038                                     Where is Hank?   \n",
       "3  1000007540  ToshiCapital Rekordz Needs Help to Complete Album   \n",
       "4  1000011046  Community Film Project: The Art of Neighborhoo...   \n",
       "\n",
       "         category main_category currency    deadline     goal  \\\n",
       "0          Poetry    Publishing      GBP  2015-10-09   1000.0   \n",
       "1  Narrative Film  Film & Video      USD  2017-11-01  30000.0   \n",
       "2  Narrative Film  Film & Video      USD  2013-02-26  45000.0   \n",
       "3           Music         Music      USD  2012-04-16   5000.0   \n",
       "4    Film & Video  Film & Video      USD  2015-08-29  19500.0   \n",
       "\n",
       "              launched  pledged     state  backers country  usd pledged  \\\n",
       "0  2015-08-11 12:12:28      0.0    failed        0      GB          0.0   \n",
       "1  2017-09-02 04:43:57   2421.0    failed       15      US        100.0   \n",
       "2  2013-01-12 00:20:50    220.0    failed        3      US        220.0   \n",
       "3  2012-03-17 03:24:11      1.0    failed        1      US          1.0   \n",
       "4  2015-07-04 08:35:03   1283.0  canceled       14      US       1283.0   \n",
       "\n",
       "   usd_pledged_real  usd_goal_real  \n",
       "0               0.0        1533.95  \n",
       "1            2421.0       30000.00  \n",
       "2             220.0       45000.00  \n",
       "3               1.0        5000.00  \n",
       "4            1283.0       19500.00  "
      ]
     },
     "metadata": {},
     "output_type": "display_data"
    },
    {
     "data": {
      "text/html": [
       "<div>\n",
       "<style scoped>\n",
       "    .dataframe tbody tr th:only-of-type {\n",
       "        vertical-align: middle;\n",
       "    }\n",
       "\n",
       "    .dataframe tbody tr th {\n",
       "        vertical-align: top;\n",
       "    }\n",
       "\n",
       "    .dataframe thead th {\n",
       "        text-align: right;\n",
       "    }\n",
       "</style>\n",
       "<table border=\"1\" class=\"dataframe\">\n",
       "  <thead>\n",
       "    <tr style=\"text-align: right;\">\n",
       "      <th></th>\n",
       "      <th>ID</th>\n",
       "      <th>goal</th>\n",
       "      <th>pledged</th>\n",
       "      <th>backers</th>\n",
       "      <th>usd pledged</th>\n",
       "      <th>usd_pledged_real</th>\n",
       "      <th>usd_goal_real</th>\n",
       "    </tr>\n",
       "  </thead>\n",
       "  <tbody>\n",
       "    <tr>\n",
       "      <th>count</th>\n",
       "      <td>3.786610e+05</td>\n",
       "      <td>3.786610e+05</td>\n",
       "      <td>3.786610e+05</td>\n",
       "      <td>378661.000000</td>\n",
       "      <td>3.748640e+05</td>\n",
       "      <td>3.786610e+05</td>\n",
       "      <td>3.786610e+05</td>\n",
       "    </tr>\n",
       "    <tr>\n",
       "      <th>mean</th>\n",
       "      <td>1.074731e+09</td>\n",
       "      <td>4.908079e+04</td>\n",
       "      <td>9.682979e+03</td>\n",
       "      <td>105.617476</td>\n",
       "      <td>7.036729e+03</td>\n",
       "      <td>9.058924e+03</td>\n",
       "      <td>4.545440e+04</td>\n",
       "    </tr>\n",
       "    <tr>\n",
       "      <th>std</th>\n",
       "      <td>6.190862e+08</td>\n",
       "      <td>1.183391e+06</td>\n",
       "      <td>9.563601e+04</td>\n",
       "      <td>907.185035</td>\n",
       "      <td>7.863975e+04</td>\n",
       "      <td>9.097334e+04</td>\n",
       "      <td>1.152950e+06</td>\n",
       "    </tr>\n",
       "    <tr>\n",
       "      <th>min</th>\n",
       "      <td>5.971000e+03</td>\n",
       "      <td>1.000000e-02</td>\n",
       "      <td>0.000000e+00</td>\n",
       "      <td>0.000000</td>\n",
       "      <td>0.000000e+00</td>\n",
       "      <td>0.000000e+00</td>\n",
       "      <td>1.000000e-02</td>\n",
       "    </tr>\n",
       "    <tr>\n",
       "      <th>25%</th>\n",
       "      <td>5.382635e+08</td>\n",
       "      <td>2.000000e+03</td>\n",
       "      <td>3.000000e+01</td>\n",
       "      <td>2.000000</td>\n",
       "      <td>1.698000e+01</td>\n",
       "      <td>3.100000e+01</td>\n",
       "      <td>2.000000e+03</td>\n",
       "    </tr>\n",
       "    <tr>\n",
       "      <th>50%</th>\n",
       "      <td>1.075276e+09</td>\n",
       "      <td>5.200000e+03</td>\n",
       "      <td>6.200000e+02</td>\n",
       "      <td>12.000000</td>\n",
       "      <td>3.947200e+02</td>\n",
       "      <td>6.243300e+02</td>\n",
       "      <td>5.500000e+03</td>\n",
       "    </tr>\n",
       "    <tr>\n",
       "      <th>75%</th>\n",
       "      <td>1.610149e+09</td>\n",
       "      <td>1.600000e+04</td>\n",
       "      <td>4.076000e+03</td>\n",
       "      <td>56.000000</td>\n",
       "      <td>3.034090e+03</td>\n",
       "      <td>4.050000e+03</td>\n",
       "      <td>1.550000e+04</td>\n",
       "    </tr>\n",
       "    <tr>\n",
       "      <th>max</th>\n",
       "      <td>2.147476e+09</td>\n",
       "      <td>1.000000e+08</td>\n",
       "      <td>2.033899e+07</td>\n",
       "      <td>219382.000000</td>\n",
       "      <td>2.033899e+07</td>\n",
       "      <td>2.033899e+07</td>\n",
       "      <td>1.663614e+08</td>\n",
       "    </tr>\n",
       "  </tbody>\n",
       "</table>\n",
       "</div>"
      ],
      "text/plain": [
       "                 ID          goal       pledged        backers   usd pledged  \\\n",
       "count  3.786610e+05  3.786610e+05  3.786610e+05  378661.000000  3.748640e+05   \n",
       "mean   1.074731e+09  4.908079e+04  9.682979e+03     105.617476  7.036729e+03   \n",
       "std    6.190862e+08  1.183391e+06  9.563601e+04     907.185035  7.863975e+04   \n",
       "min    5.971000e+03  1.000000e-02  0.000000e+00       0.000000  0.000000e+00   \n",
       "25%    5.382635e+08  2.000000e+03  3.000000e+01       2.000000  1.698000e+01   \n",
       "50%    1.075276e+09  5.200000e+03  6.200000e+02      12.000000  3.947200e+02   \n",
       "75%    1.610149e+09  1.600000e+04  4.076000e+03      56.000000  3.034090e+03   \n",
       "max    2.147476e+09  1.000000e+08  2.033899e+07  219382.000000  2.033899e+07   \n",
       "\n",
       "       usd_pledged_real  usd_goal_real  \n",
       "count      3.786610e+05   3.786610e+05  \n",
       "mean       9.058924e+03   4.545440e+04  \n",
       "std        9.097334e+04   1.152950e+06  \n",
       "min        0.000000e+00   1.000000e-02  \n",
       "25%        3.100000e+01   2.000000e+03  \n",
       "50%        6.243300e+02   5.500000e+03  \n",
       "75%        4.050000e+03   1.550000e+04  \n",
       "max        2.033899e+07   1.663614e+08  "
      ]
     },
     "execution_count": 85,
     "metadata": {},
     "output_type": "execute_result"
    }
   ],
   "source": [
    "df_ks =  pd.read_csv('ks-projects-201801.csv') \n",
    "\n",
    "display(df_ks.head())\n",
    "df_ks.describe()"
   ]
  },
  {
   "cell_type": "code",
   "execution_count": 86,
   "metadata": {},
   "outputs": [
    {
     "name": "stdout",
     "output_type": "stream",
     "text": [
      "<class 'pandas.core.frame.DataFrame'>\n",
      "RangeIndex: 378661 entries, 0 to 378660\n",
      "Data columns (total 15 columns):\n",
      "ID                  378661 non-null int64\n",
      "name                378657 non-null object\n",
      "category            378661 non-null object\n",
      "main_category       378661 non-null object\n",
      "currency            378661 non-null object\n",
      "deadline            378661 non-null object\n",
      "goal                378661 non-null float64\n",
      "launched            378661 non-null object\n",
      "pledged             378661 non-null float64\n",
      "state               378661 non-null object\n",
      "backers             378661 non-null int64\n",
      "country             378661 non-null object\n",
      "usd pledged         374864 non-null float64\n",
      "usd_pledged_real    378661 non-null float64\n",
      "usd_goal_real       378661 non-null float64\n",
      "dtypes: float64(5), int64(2), object(8)\n",
      "memory usage: 43.3+ MB\n"
     ]
    }
   ],
   "source": [
    "df_ks.info()"
   ]
  },
  {
   "cell_type": "code",
   "execution_count": 87,
   "metadata": {},
   "outputs": [
    {
     "data": {
      "text/plain": [
       "ID                     0\n",
       "name                   4\n",
       "category               0\n",
       "main_category          0\n",
       "currency               0\n",
       "deadline               0\n",
       "goal                   0\n",
       "launched               0\n",
       "pledged                0\n",
       "state                  0\n",
       "backers                0\n",
       "country                0\n",
       "usd pledged         3797\n",
       "usd_pledged_real       0\n",
       "usd_goal_real          0\n",
       "dtype: int64"
      ]
     },
     "execution_count": 87,
     "metadata": {},
     "output_type": "execute_result"
    }
   ],
   "source": [
    "#欠損値の数\n",
    "df_ks.isnull().sum()"
   ]
  },
  {
   "cell_type": "code",
   "execution_count": 88,
   "metadata": {},
   "outputs": [
    {
     "data": {
      "text/plain": [
       "ID                  378661\n",
       "name                375764\n",
       "category               159\n",
       "main_category           15\n",
       "currency                14\n",
       "deadline              3164\n",
       "goal                  8353\n",
       "launched            378089\n",
       "pledged              62130\n",
       "state                    6\n",
       "backers               3963\n",
       "country                 23\n",
       "usd pledged          95455\n",
       "usd_pledged_real    106065\n",
       "usd_goal_real        50339\n",
       "dtype: int64"
      ]
     },
     "execution_count": 88,
     "metadata": {},
     "output_type": "execute_result"
    }
   ],
   "source": [
    "df_ks.nunique()"
   ]
  },
  {
   "cell_type": "markdown",
   "metadata": {},
   "source": [
    "### 目的変数 stateについて調べる"
   ]
  },
  {
   "cell_type": "code",
   "execution_count": 89,
   "metadata": {},
   "outputs": [
    {
     "data": {
      "text/plain": [
       "failed        197719\n",
       "successful    133956\n",
       "canceled       38779\n",
       "undefined       3562\n",
       "live            2799\n",
       "suspended       1846\n",
       "Name: state, dtype: int64"
      ]
     },
     "execution_count": 89,
     "metadata": {},
     "output_type": "execute_result"
    },
    {
     "data": {
      "image/png": "[encoded data removed]",
      "text/plain": [
       "<Figure size 432x288 with 1 Axes>"
      ]
     },
     "metadata": {},
     "output_type": "display_data"
    }
   ],
   "source": [
    "state_count = df_ks[\"state\"].value_counts()\n",
    "plt.pie(state_count, labels=state_count.index)\n",
    "state_count"
   ]
  },
  {
   "cell_type": "markdown",
   "metadata": {},
   "source": [
    "#### 今回は成功か失敗かを事前に予測するモデルの構築を目的とする。successful, failedのデータのみを扱うこととする。"
   ]
  },
  {
   "cell_type": "code",
   "execution_count": 90,
   "metadata": {},
   "outputs": [
    {
     "data": {
      "text/plain": [
       "failed        197719\n",
       "successful    133956\n",
       "Name: state, dtype: int64"
      ]
     },
     "execution_count": 90,
     "metadata": {},
     "output_type": "execute_result"
    }
   ],
   "source": [
    "#成功だけを抽出したDFと失敗だけを抽出したDF\n",
    "df_ks_success = df_ks[df_ks['state']=='successful']\n",
    "df_ks_failed =  df_ks[df_ks['state']=='failed']\n",
    "#両方を結合\n",
    "df_ks_2 = pd.concat([df_ks_success,df_ks_failed])\n",
    "#stateの要素の個数を数えてみる。\n",
    "df_ks_2['state'].value_counts()"
   ]
  },
  {
   "cell_type": "code",
   "execution_count": 91,
   "metadata": {},
   "outputs": [],
   "source": [
    "df_ks_2.loc[df_ks_2['state'] == \"successful\", 'state'] = 1\n",
    "df_ks_2.loc[df_ks_2['state'] == \"failed\", 'state'] = 0"
   ]
  },
  {
   "cell_type": "markdown",
   "metadata": {},
   "source": [
    "backers, pledged, usd pledged, usd_pledged_realは実際の結果として集まった資金を表す値なので、事前予測においては使用不可と判断した。また、IDについては不要な情報であると判断した。"
   ]
  },
  {
   "cell_type": "code",
   "execution_count": 119,
   "metadata": {},
   "outputs": [
    {
     "ename": "KeyError",
     "evalue": "\"['ID' 'pledged' 'usd pledged' 'usd_pledged_real' 'backers'] not found in axis\"",
     "output_type": "error",
     "traceback": [
      "\u001b[0;31m\u001b[0m",
      "\u001b[0;31mKeyError\u001b[0mTraceback (most recent call last)",
      "\u001b[0;32m<ipython-input-119-bc1ddd8925fa>\u001b[0m in \u001b[0;36m<module>\u001b[0;34m()\u001b[0m\n\u001b[0;32m----> 1\u001b[0;31m \u001b[0mdf_ks_2\u001b[0m \u001b[0;34m=\u001b[0m \u001b[0mdf_ks_2\u001b[0m\u001b[0;34m.\u001b[0m\u001b[0mdrop\u001b[0m\u001b[0;34m(\u001b[0m\u001b[0;34m[\u001b[0m\u001b[0;34m\"ID\"\u001b[0m\u001b[0;34m,\u001b[0m \u001b[0;34m\"pledged\"\u001b[0m\u001b[0;34m,\u001b[0m \u001b[0;34m\"usd pledged\"\u001b[0m\u001b[0;34m,\u001b[0m \u001b[0;34m\"usd_pledged_real\"\u001b[0m\u001b[0;34m,\u001b[0m \u001b[0;34m\"backers\"\u001b[0m\u001b[0;34m]\u001b[0m\u001b[0;34m,\u001b[0m \u001b[0maxis\u001b[0m\u001b[0;34m=\u001b[0m\u001b[0;36m1\u001b[0m\u001b[0;34m)\u001b[0m\u001b[0;34m\u001b[0m\u001b[0;34m\u001b[0m\u001b[0m\n\u001b[0m",
      "\u001b[0;32m/opt/anaconda3/lib/python3.6/site-packages/pandas/core/frame.py\u001b[0m in \u001b[0;36mdrop\u001b[0;34m(self, labels, axis, index, columns, level, inplace, errors)\u001b[0m\n\u001b[1;32m   3695\u001b[0m                                            \u001b[0mindex\u001b[0m\u001b[0;34m=\u001b[0m\u001b[0mindex\u001b[0m\u001b[0;34m,\u001b[0m \u001b[0mcolumns\u001b[0m\u001b[0;34m=\u001b[0m\u001b[0mcolumns\u001b[0m\u001b[0;34m,\u001b[0m\u001b[0;34m\u001b[0m\u001b[0;34m\u001b[0m\u001b[0m\n\u001b[1;32m   3696\u001b[0m                                            \u001b[0mlevel\u001b[0m\u001b[0;34m=\u001b[0m\u001b[0mlevel\u001b[0m\u001b[0;34m,\u001b[0m \u001b[0minplace\u001b[0m\u001b[0;34m=\u001b[0m\u001b[0minplace\u001b[0m\u001b[0;34m,\u001b[0m\u001b[0;34m\u001b[0m\u001b[0;34m\u001b[0m\u001b[0m\n\u001b[0;32m-> 3697\u001b[0;31m                                            errors=errors)\n\u001b[0m\u001b[1;32m   3698\u001b[0m \u001b[0;34m\u001b[0m\u001b[0m\n\u001b[1;32m   3699\u001b[0m     @rewrite_axis_style_signature('mapper', [('copy', True),\n",
      "\u001b[0;32m/opt/anaconda3/lib/python3.6/site-packages/pandas/core/generic.py\u001b[0m in \u001b[0;36mdrop\u001b[0;34m(self, labels, axis, index, columns, level, inplace, errors)\u001b[0m\n\u001b[1;32m   3109\u001b[0m         \u001b[0;32mfor\u001b[0m \u001b[0maxis\u001b[0m\u001b[0;34m,\u001b[0m \u001b[0mlabels\u001b[0m \u001b[0;32min\u001b[0m \u001b[0maxes\u001b[0m\u001b[0;34m.\u001b[0m\u001b[0mitems\u001b[0m\u001b[0;34m(\u001b[0m\u001b[0;34m)\u001b[0m\u001b[0;34m:\u001b[0m\u001b[0;34m\u001b[0m\u001b[0;34m\u001b[0m\u001b[0m\n\u001b[1;32m   3110\u001b[0m             \u001b[0;32mif\u001b[0m \u001b[0mlabels\u001b[0m \u001b[0;32mis\u001b[0m \u001b[0;32mnot\u001b[0m \u001b[0;32mNone\u001b[0m\u001b[0;34m:\u001b[0m\u001b[0;34m\u001b[0m\u001b[0;34m\u001b[0m\u001b[0m\n\u001b[0;32m-> 3111\u001b[0;31m                 \u001b[0mobj\u001b[0m \u001b[0;34m=\u001b[0m \u001b[0mobj\u001b[0m\u001b[0;34m.\u001b[0m\u001b[0m_drop_axis\u001b[0m\u001b[0;34m(\u001b[0m\u001b[0mlabels\u001b[0m\u001b[0;34m,\u001b[0m \u001b[0maxis\u001b[0m\u001b[0;34m,\u001b[0m \u001b[0mlevel\u001b[0m\u001b[0;34m=\u001b[0m\u001b[0mlevel\u001b[0m\u001b[0;34m,\u001b[0m \u001b[0merrors\u001b[0m\u001b[0;34m=\u001b[0m\u001b[0merrors\u001b[0m\u001b[0;34m)\u001b[0m\u001b[0;34m\u001b[0m\u001b[0;34m\u001b[0m\u001b[0m\n\u001b[0m\u001b[1;32m   3112\u001b[0m \u001b[0;34m\u001b[0m\u001b[0m\n\u001b[1;32m   3113\u001b[0m         \u001b[0;32mif\u001b[0m \u001b[0minplace\u001b[0m\u001b[0;34m:\u001b[0m\u001b[0;34m\u001b[0m\u001b[0;34m\u001b[0m\u001b[0m\n",
      "\u001b[0;32m/opt/anaconda3/lib/python3.6/site-packages/pandas/core/generic.py\u001b[0m in \u001b[0;36m_drop_axis\u001b[0;34m(self, labels, axis, level, errors)\u001b[0m\n\u001b[1;32m   3141\u001b[0m                 \u001b[0mnew_axis\u001b[0m \u001b[0;34m=\u001b[0m \u001b[0maxis\u001b[0m\u001b[0;34m.\u001b[0m\u001b[0mdrop\u001b[0m\u001b[0;34m(\u001b[0m\u001b[0mlabels\u001b[0m\u001b[0;34m,\u001b[0m \u001b[0mlevel\u001b[0m\u001b[0;34m=\u001b[0m\u001b[0mlevel\u001b[0m\u001b[0;34m,\u001b[0m \u001b[0merrors\u001b[0m\u001b[0;34m=\u001b[0m\u001b[0merrors\u001b[0m\u001b[0;34m)\u001b[0m\u001b[0;34m\u001b[0m\u001b[0;34m\u001b[0m\u001b[0m\n\u001b[1;32m   3142\u001b[0m             \u001b[0;32melse\u001b[0m\u001b[0;34m:\u001b[0m\u001b[0;34m\u001b[0m\u001b[0;34m\u001b[0m\u001b[0m\n\u001b[0;32m-> 3143\u001b[0;31m                 \u001b[0mnew_axis\u001b[0m \u001b[0;34m=\u001b[0m \u001b[0maxis\u001b[0m\u001b[0;34m.\u001b[0m\u001b[0mdrop\u001b[0m\u001b[0;34m(\u001b[0m\u001b[0mlabels\u001b[0m\u001b[0;34m,\u001b[0m \u001b[0merrors\u001b[0m\u001b[0;34m=\u001b[0m\u001b[0merrors\u001b[0m\u001b[0;34m)\u001b[0m\u001b[0;34m\u001b[0m\u001b[0;34m\u001b[0m\u001b[0m\n\u001b[0m\u001b[1;32m   3144\u001b[0m             \u001b[0mresult\u001b[0m \u001b[0;34m=\u001b[0m \u001b[0mself\u001b[0m\u001b[0;34m.\u001b[0m\u001b[0mreindex\u001b[0m\u001b[0;34m(\u001b[0m\u001b[0;34m**\u001b[0m\u001b[0;34m{\u001b[0m\u001b[0maxis_name\u001b[0m\u001b[0;34m:\u001b[0m \u001b[0mnew_axis\u001b[0m\u001b[0;34m}\u001b[0m\u001b[0;34m)\u001b[0m\u001b[0;34m\u001b[0m\u001b[0;34m\u001b[0m\u001b[0m\n\u001b[1;32m   3145\u001b[0m \u001b[0;34m\u001b[0m\u001b[0m\n",
      "\u001b[0;32m/opt/anaconda3/lib/python3.6/site-packages/pandas/core/indexes/base.py\u001b[0m in \u001b[0;36mdrop\u001b[0;34m(self, labels, errors)\u001b[0m\n\u001b[1;32m   4402\u001b[0m             \u001b[0;32mif\u001b[0m \u001b[0merrors\u001b[0m \u001b[0;34m!=\u001b[0m \u001b[0;34m'ignore'\u001b[0m\u001b[0;34m:\u001b[0m\u001b[0;34m\u001b[0m\u001b[0;34m\u001b[0m\u001b[0m\n\u001b[1;32m   4403\u001b[0m                 raise KeyError(\n\u001b[0;32m-> 4404\u001b[0;31m                     '{} not found in axis'.format(labels[mask]))\n\u001b[0m\u001b[1;32m   4405\u001b[0m             \u001b[0mindexer\u001b[0m \u001b[0;34m=\u001b[0m \u001b[0mindexer\u001b[0m\u001b[0;34m[\u001b[0m\u001b[0;34m~\u001b[0m\u001b[0mmask\u001b[0m\u001b[0;34m]\u001b[0m\u001b[0;34m\u001b[0m\u001b[0;34m\u001b[0m\u001b[0m\n\u001b[1;32m   4406\u001b[0m         \u001b[0;32mreturn\u001b[0m \u001b[0mself\u001b[0m\u001b[0;34m.\u001b[0m\u001b[0mdelete\u001b[0m\u001b[0;34m(\u001b[0m\u001b[0mindexer\u001b[0m\u001b[0;34m)\u001b[0m\u001b[0;34m\u001b[0m\u001b[0;34m\u001b[0m\u001b[0m\n",
      "\u001b[0;31mKeyError\u001b[0m: \"['ID' 'pledged' 'usd pledged' 'usd_pledged_real' 'backers'] not found in axis\""
     ]
    }
   ],
   "source": [
    "df_ks_2 = df_ks_2.drop([\"ID\", \"pledged\", \"usd pledged\", \"usd_pledged_real\", \"backers\"], axis=1)"
   ]
  },
  {
   "cell_type": "markdown",
   "metadata": {},
   "source": [
    "### 量的変数の可視化"
   ]
  },
  {
   "cell_type": "code",
   "execution_count": 93,
   "metadata": {},
   "outputs": [
    {
     "data": {
      "text/plain": [
       "<matplotlib.axes._subplots.AxesSubplot at 0x7f076357ebe0>"
      ]
     },
     "execution_count": 93,
     "metadata": {},
     "output_type": "execute_result"
    },
    {
     "data": {
      "image/png": "[encoded data removed]",
      "text/plain": [
       "<Figure size 432x288 with 1 Axes>"
      ]
     },
     "metadata": {},
     "output_type": "display_data"
    }
   ],
   "source": [
    "sns.boxplot(df_ks_2[\"goal\"])"
   ]
  },
  {
   "cell_type": "code",
   "execution_count": 94,
   "metadata": {},
   "outputs": [
    {
     "data": {
      "text/plain": [
       "<matplotlib.axes._subplots.AxesSubplot at 0x7f076731ce80>"
      ]
     },
     "execution_count": 94,
     "metadata": {},
     "output_type": "execute_result"
    },
    {
     "data": {
      "image/png": "[encoded data removed]",
      "text/plain": [
       "<Figure size 432x288 with 1 Axes>"
      ]
     },
     "metadata": {},
     "output_type": "display_data"
    }
   ],
   "source": [
    "sns.boxplot(df_ks_2[\"usd_goal_real\"])"
   ]
  },
  {
   "cell_type": "markdown",
   "metadata": {},
   "source": [
    "両データともに0付近にデータが集中している。外れ値について検証する。goalの1.0e08付近に値が集中しているように思われるため、その部分を検証する。"
   ]
  },
  {
   "cell_type": "code",
   "execution_count": 95,
   "metadata": {},
   "outputs": [
    {
     "data": {
      "text/plain": [
       "23469     100000000.0\n",
       "33084     100000000.0\n",
       "47803      99000000.0\n",
       "55009     100000000.0\n",
       "72775     100000000.0\n",
       "72990     100000000.0\n",
       "77676     100000000.0\n",
       "95513     100000000.0\n",
       "118402    100000000.0\n",
       "128835    100000000.0\n",
       "141884    100000000.0\n",
       "158459    100000000.0\n",
       "160291    100000000.0\n",
       "196531    100000000.0\n",
       "211026    100000000.0\n",
       "212541    100000000.0\n",
       "213340    100000000.0\n",
       "214787    100000000.0\n",
       "222208    100000000.0\n",
       "226161    100000000.0\n",
       "243435    100000000.0\n",
       "257518    100000000.0\n",
       "259186    100000000.0\n",
       "281020    100000000.0\n",
       "338492    100000000.0\n",
       "348139    100000000.0\n",
       "367253    100000000.0\n",
       "367928    100000000.0\n",
       "369688    100000000.0\n",
       "371478    100000000.0\n",
       "Name: goal, dtype: float64"
      ]
     },
     "execution_count": 95,
     "metadata": {},
     "output_type": "execute_result"
    }
   ],
   "source": [
    "df_goal_max = df_ks_2['goal'][df_ks_2['goal']>0.8*(10**8)] \n",
    "df_goal_max"
   ]
  },
  {
   "cell_type": "markdown",
   "metadata": {},
   "source": [
    "これらは正常な値である可能性もあるが、設定された上限の値を超えていて、便宜的に100000000.0となっている可能性がある。そのためgoalがこれらの値となっているデータについては除外することとする。"
   ]
  },
  {
   "cell_type": "code",
   "execution_count": 96,
   "metadata": {},
   "outputs": [
    {
     "data": {
      "text/plain": [
       "<matplotlib.axes._subplots.AxesSubplot at 0x7f0764c6cf28>"
      ]
     },
     "execution_count": 96,
     "metadata": {},
     "output_type": "execute_result"
    },
    {
     "data": {
      "image/png": "[encoded data removed]",
      "text/plain": [
       "<Figure size 432x288 with 1 Axes>"
      ]
     },
     "metadata": {},
     "output_type": "display_data"
    }
   ],
   "source": [
    "df_ks_2 = df_ks_2[df_ks_2['goal']<100000000]\n",
    "sns.boxplot(df_ks_2[\"goal\"])"
   ]
  },
  {
   "cell_type": "markdown",
   "metadata": {},
   "source": [
    "usd-goal-realはgoalの通貨をそろえたものであるから、usd-goal-realを用いる方が適切であると考えられる。以下で標準化を行い、標準化したusd_goal_stdを予測に用いることとする。"
   ]
  },
  {
   "cell_type": "code",
   "execution_count": 97,
   "metadata": {},
   "outputs": [],
   "source": [
    "from sklearn.preprocessing import StandardScaler\n",
    "stdsc = StandardScaler()\n",
    "df_ks_2[\"usd_goal_real_std\"]=stdsc.fit_transform(df_ks_2[[\"usd_goal_real\"]].values)\n"
   ]
  },
  {
   "cell_type": "markdown",
   "metadata": {},
   "source": [
    "### 期間について　\n",
    "#### launchからdeadlineまでの日数を変数deltaとして新たに追加した。こちらも標準化を行ったものを予測に用いる。"
   ]
  },
  {
   "cell_type": "code",
   "execution_count": 98,
   "metadata": {},
   "outputs": [],
   "source": [
    "df_ks_2[\"launched\"]= pd.to_datetime(df_ks_2[\"launched\"])\n",
    "df_ks_2[\"deadline\"]= pd.to_datetime(df_ks_2[\"deadline\"])\n",
    "df_ks_2[\"delta\"]=(df_ks_2[\"deadline\"]-df_ks_2[\"launched\"]).dt.days\n"
   ]
  },
  {
   "cell_type": "code",
   "execution_count": 99,
   "metadata": {},
   "outputs": [
    {
     "data": {
      "text/plain": [
       "count    331646.000000\n",
       "mean         32.953821\n",
       "std          12.712159\n",
       "min           0.000000\n",
       "25%          29.000000\n",
       "50%          29.000000\n",
       "75%          35.000000\n",
       "max          91.000000\n",
       "Name: delta, dtype: float64"
      ]
     },
     "execution_count": 99,
     "metadata": {},
     "output_type": "execute_result"
    }
   ],
   "source": [
    "df_ks_2[\"delta\"].describe()"
   ]
  },
  {
   "cell_type": "code",
   "execution_count": 100,
   "metadata": {},
   "outputs": [
    {
     "name": "stdout",
     "output_type": "stream",
     "text": [
      "name                         object\n",
      "category                     object\n",
      "main_category                object\n",
      "currency                     object\n",
      "deadline             datetime64[ns]\n",
      "goal                        float64\n",
      "launched             datetime64[ns]\n",
      "state                         int64\n",
      "country                      object\n",
      "usd_goal_real               float64\n",
      "usd_goal_real_std           float64\n",
      "delta                         int64\n",
      "dtype: object\n"
     ]
    },
    {
     "data": {
      "text/html": [
       "<div>\n",
       "<style scoped>\n",
       "    .dataframe tbody tr th:only-of-type {\n",
       "        vertical-align: middle;\n",
       "    }\n",
       "\n",
       "    .dataframe tbody tr th {\n",
       "        vertical-align: top;\n",
       "    }\n",
       "\n",
       "    .dataframe thead th {\n",
       "        text-align: right;\n",
       "    }\n",
       "</style>\n",
       "<table border=\"1\" class=\"dataframe\">\n",
       "  <thead>\n",
       "    <tr style=\"text-align: right;\">\n",
       "      <th></th>\n",
       "      <th>name</th>\n",
       "      <th>category</th>\n",
       "      <th>main_category</th>\n",
       "      <th>currency</th>\n",
       "      <th>deadline</th>\n",
       "      <th>goal</th>\n",
       "      <th>launched</th>\n",
       "      <th>state</th>\n",
       "      <th>country</th>\n",
       "      <th>usd_goal_real</th>\n",
       "      <th>usd_goal_real_std</th>\n",
       "      <th>delta</th>\n",
       "    </tr>\n",
       "  </thead>\n",
       "  <tbody>\n",
       "    <tr>\n",
       "      <th>5</th>\n",
       "      <td>Monarch Espresso Bar</td>\n",
       "      <td>Restaurants</td>\n",
       "      <td>Food</td>\n",
       "      <td>USD</td>\n",
       "      <td>2016-04-01</td>\n",
       "      <td>50000.0</td>\n",
       "      <td>2016-02-26 13:38:27</td>\n",
       "      <td>1</td>\n",
       "      <td>US</td>\n",
       "      <td>50000.00</td>\n",
       "      <td>0.025405</td>\n",
       "      <td>34</td>\n",
       "    </tr>\n",
       "    <tr>\n",
       "      <th>6</th>\n",
       "      <td>Support Solar Roasted Coffee &amp; Green Energy!  ...</td>\n",
       "      <td>Food</td>\n",
       "      <td>Food</td>\n",
       "      <td>USD</td>\n",
       "      <td>2014-12-21</td>\n",
       "      <td>1000.0</td>\n",
       "      <td>2014-12-01 18:30:44</td>\n",
       "      <td>1</td>\n",
       "      <td>US</td>\n",
       "      <td>1000.00</td>\n",
       "      <td>-0.050121</td>\n",
       "      <td>19</td>\n",
       "    </tr>\n",
       "    <tr>\n",
       "      <th>11</th>\n",
       "      <td>Lisa Lim New CD!</td>\n",
       "      <td>Indie Rock</td>\n",
       "      <td>Music</td>\n",
       "      <td>USD</td>\n",
       "      <td>2013-04-08</td>\n",
       "      <td>12500.0</td>\n",
       "      <td>2013-03-09 06:42:58</td>\n",
       "      <td>1</td>\n",
       "      <td>US</td>\n",
       "      <td>12500.00</td>\n",
       "      <td>-0.032395</td>\n",
       "      <td>29</td>\n",
       "    </tr>\n",
       "    <tr>\n",
       "      <th>14</th>\n",
       "      <td>Tombstone: Old West tabletop game and miniatur...</td>\n",
       "      <td>Tabletop Games</td>\n",
       "      <td>Games</td>\n",
       "      <td>GBP</td>\n",
       "      <td>2017-05-03</td>\n",
       "      <td>5000.0</td>\n",
       "      <td>2017-04-05 19:44:18</td>\n",
       "      <td>1</td>\n",
       "      <td>GB</td>\n",
       "      <td>6469.73</td>\n",
       "      <td>-0.041690</td>\n",
       "      <td>27</td>\n",
       "    </tr>\n",
       "    <tr>\n",
       "      <th>18</th>\n",
       "      <td>Mike Corey's Darkness &amp; Light Album</td>\n",
       "      <td>Music</td>\n",
       "      <td>Music</td>\n",
       "      <td>USD</td>\n",
       "      <td>2012-08-17</td>\n",
       "      <td>250.0</td>\n",
       "      <td>2012-08-02 14:11:32</td>\n",
       "      <td>1</td>\n",
       "      <td>US</td>\n",
       "      <td>250.00</td>\n",
       "      <td>-0.051277</td>\n",
       "      <td>14</td>\n",
       "    </tr>\n",
       "  </tbody>\n",
       "</table>\n",
       "</div>"
      ],
      "text/plain": [
       "                                                 name        category  \\\n",
       "5                                Monarch Espresso Bar     Restaurants   \n",
       "6   Support Solar Roasted Coffee & Green Energy!  ...            Food   \n",
       "11                                   Lisa Lim New CD!      Indie Rock   \n",
       "14  Tombstone: Old West tabletop game and miniatur...  Tabletop Games   \n",
       "18                Mike Corey's Darkness & Light Album           Music   \n",
       "\n",
       "   main_category currency   deadline     goal            launched  state  \\\n",
       "5           Food      USD 2016-04-01  50000.0 2016-02-26 13:38:27      1   \n",
       "6           Food      USD 2014-12-21   1000.0 2014-12-01 18:30:44      1   \n",
       "11         Music      USD 2013-04-08  12500.0 2013-03-09 06:42:58      1   \n",
       "14         Games      GBP 2017-05-03   5000.0 2017-04-05 19:44:18      1   \n",
       "18         Music      USD 2012-08-17    250.0 2012-08-02 14:11:32      1   \n",
       "\n",
       "   country  usd_goal_real  usd_goal_real_std  delta  \n",
       "5       US       50000.00           0.025405     34  \n",
       "6       US        1000.00          -0.050121     19  \n",
       "11      US       12500.00          -0.032395     29  \n",
       "14      GB        6469.73          -0.041690     27  \n",
       "18      US         250.00          -0.051277     14  "
      ]
     },
     "execution_count": 100,
     "metadata": {},
     "output_type": "execute_result"
    }
   ],
   "source": [
    "print(df_ks_2.dtypes)\n",
    "df_ks_2.head()"
   ]
  },
  {
   "cell_type": "code",
   "execution_count": 101,
   "metadata": {},
   "outputs": [
    {
     "name": "stderr",
     "output_type": "stream",
     "text": [
      "/opt/anaconda3/lib/python3.6/site-packages/sklearn/utils/validation.py:475: DataConversionWarning: Data with input dtype int64 was converted to float64 by StandardScaler.\n",
      "  warnings.warn(msg, DataConversionWarning)\n"
     ]
    }
   ],
   "source": [
    "from sklearn.preprocessing import StandardScaler\n",
    "stdsc = StandardScaler()\n",
    "df_ks_2[\"delta_std\"]=stdsc.fit_transform(df_ks_2[[\"delta\"]].values)"
   ]
  },
  {
   "cell_type": "markdown",
   "metadata": {},
   "source": [
    "#### ここまでの処理を行ったデータについて一旦変数の相関係数を調べる"
   ]
  },
  {
   "cell_type": "code",
   "execution_count": 103,
   "metadata": {},
   "outputs": [
    {
     "data": {
      "image/png": "[encoded data removed]",
      "text/plain": [
       "<Figure size 432x288 with 2 Axes>"
      ]
     },
     "metadata": {},
     "output_type": "display_data"
    }
   ],
   "source": [
    "# 相関係数をヒートマップにして可視化\n",
    "sns.heatmap(df_ks_2.corr(), annot=True)\n",
    "plt.ylim(6, 0)\n",
    "plt.show()"
   ]
  },
  {
   "cell_type": "code",
   "execution_count": 104,
   "metadata": {},
   "outputs": [
    {
     "data": {
      "image/png": "[encoded data removed]",
      "text/plain": [
       "<Figure size 720x720 with 36 Axes>"
      ]
     },
     "metadata": {},
     "output_type": "display_data"
    }
   ],
   "source": [
    "pd.plotting.scatter_matrix(df_ks_2, figsize=(10,10))\n",
    "plt.show()"
   ]
  },
  {
   "cell_type": "markdown",
   "metadata": {},
   "source": [
    "goal, deltaともに目的変数stateと関係があるように思われるが、相関係数の値には表れていないようである。\n"
   ]
  },
  {
   "cell_type": "markdown",
   "metadata": {},
   "source": [
    "### カテゴリーについて\n",
    "#### 各カテゴリーごとの成功確率を求める。"
   ]
  },
  {
   "cell_type": "code",
   "execution_count": 105,
   "metadata": {},
   "outputs": [
    {
     "data": {
      "text/plain": [
       "main_category  state\n",
       "Art            0        14128\n",
       "               1        11510\n",
       "Comics         0         4035\n",
       "               1         5842\n",
       "Crafts         0         5703\n",
       "               1         2115\n",
       "Dance          0         1235\n",
       "               1         2338\n",
       "Design         0        14814\n",
       "               1        10550\n",
       "Fashion        0        14181\n",
       "               1         5593\n",
       "Film & Video   0        32892\n",
       "               1        23623\n",
       "Food           0        15968\n",
       "               1         6085\n",
       "Games          0        16001\n",
       "               1        12518\n",
       "Journalism     0         3136\n",
       "               1         1012\n",
       "Music          0        21752\n",
       "               1        24197\n",
       "Photography    0         6384\n",
       "               1         3305\n",
       "Publishing     0        23144\n",
       "               1        12300\n",
       "Technology     0        20609\n",
       "               1         6434\n",
       "Theater        0         3708\n",
       "               1         6534\n",
       "Name: state, dtype: int64"
      ]
     },
     "metadata": {},
     "output_type": "display_data"
    },
    {
     "data": {
      "text/plain": [
       "main_category\n",
       "Art             0.448943\n",
       "Comics          0.591475\n",
       "Crafts          0.270530\n",
       "Dance           0.654352\n",
       "Design          0.415944\n",
       "Fashion         0.282846\n",
       "Film & Video    0.417995\n",
       "Food            0.275926\n",
       "Games           0.438935\n",
       "Journalism      0.243973\n",
       "Music           0.526606\n",
       "Photography     0.341108\n",
       "Publishing      0.347026\n",
       "Technology      0.237917\n",
       "Theater         0.637961\n",
       "Name: state, dtype: float64"
      ]
     },
     "execution_count": 105,
     "metadata": {},
     "output_type": "execute_result"
    },
    {
     "data": {
      "image/png": "[encoded data removed]",
      "text/plain": [
       "<Figure size 2160x720 with 1 Axes>"
      ]
     },
     "metadata": {},
     "output_type": "display_data"
    }
   ],
   "source": [
    "data_count_main_category = df_ks_2.groupby([\"main_category\",\"state\"])[\"state\"].count()\n",
    "plt.figure(figsize=(30,10))\n",
    "g = sns.barplot(data_count_main_category.keys(), data_count_main_category.values)\n",
    "g.set_xticklabels(data_count_main_category.keys(),rotation=30)\n",
    "display(data_count_main_category)\n",
    "df_ks_2.groupby([\"main_category\"])[\"state\"].mean()\n"
   ]
  },
  {
   "cell_type": "code",
   "execution_count": 106,
   "metadata": {},
   "outputs": [
    {
     "data": {
      "text/plain": [
       "category      state\n",
       "3D Printing   0         326\n",
       "              1         242\n",
       "Academic      0         589\n",
       "              1         188\n",
       "Accessories   0        1667\n",
       "              1        1073\n",
       "Action        0         513\n",
       "              1         107\n",
       "Animals       0         166\n",
       "              1          63\n",
       "Animation     0        1530\n",
       "              1         682\n",
       "Anthologies   0         216\n",
       "              1         521\n",
       "Apparel       0        4751\n",
       "              1        1414\n",
       "Apps          0        4909\n",
       "              1         378\n",
       "Architecture  0         463\n",
       "              1         179\n",
       "Art           0        4100\n",
       "              1        3385\n",
       "Art Books     0        1113\n",
       "              1        1356\n",
       "Audio         0         252\n",
       "              1         111\n",
       "Bacon         0         143\n",
       "              1          38\n",
       "Blues         0         117\n",
       "              1         117\n",
       "                       ... \n",
       "Typography    0          34\n",
       "              1          63\n",
       "Vegan         0         343\n",
       "              1         185\n",
       "Video         0         333\n",
       "              1          51\n",
       "Video Art     0         123\n",
       "              1          51\n",
       "Video Games   0        6941\n",
       "              1        2386\n",
       "Wearables     0         579\n",
       "              1         388\n",
       "Weaving       0          55\n",
       "              1          27\n",
       "Web           0        3865\n",
       "              1         443\n",
       "Webcomics     0         241\n",
       "              1         358\n",
       "Webseries     0        3450\n",
       "              1        1698\n",
       "Woodworking   0         766\n",
       "              1         292\n",
       "Workshops     0          98\n",
       "              1          50\n",
       "World Music   0        1018\n",
       "              1         922\n",
       "Young Adult   0         538\n",
       "              1         172\n",
       "Zines         0         176\n",
       "              1         179\n",
       "Name: state, Length: 318, dtype: int64"
      ]
     },
     "metadata": {},
     "output_type": "display_data"
    },
    {
     "data": {
      "text/plain": [
       "category\n",
       "3D Printing          0.426056\n",
       "Academic             0.241956\n",
       "Accessories          0.391606\n",
       "Action               0.172581\n",
       "Animals              0.275109\n",
       "Animation            0.308318\n",
       "Anthologies          0.706920\n",
       "Apparel              0.229359\n",
       "Apps                 0.071496\n",
       "Architecture         0.278816\n",
       "Art                  0.452238\n",
       "Art Books            0.549210\n",
       "Audio                0.305785\n",
       "Bacon                0.209945\n",
       "Blues                0.500000\n",
       "Calendars            0.441379\n",
       "Camera Equipment     0.548571\n",
       "Candles              0.145503\n",
       "Ceramics             0.480000\n",
       "Children's Books     0.378832\n",
       "Childrenswear        0.227273\n",
       "Chiptune             0.818182\n",
       "Civic Design         0.390977\n",
       "Classical Music      0.675000\n",
       "Comedy               0.441006\n",
       "Comic Books          0.647413\n",
       "Comics               0.547162\n",
       "Community Gardens    0.243542\n",
       "Conceptual Art       0.393548\n",
       "Cookbooks            0.285714\n",
       "                       ...   \n",
       "Shorts               0.585711\n",
       "Small Batch          0.343615\n",
       "Software             0.144246\n",
       "Sound                0.497278\n",
       "Space Exploration    0.425532\n",
       "Spaces               0.390728\n",
       "Stationery           0.405263\n",
       "Tabletop Games       0.669789\n",
       "Taxidermy            0.500000\n",
       "Technology           0.230164\n",
       "Television           0.179931\n",
       "Textiles             0.308000\n",
       "Theater              0.659037\n",
       "Thrillers            0.312989\n",
       "Translations         0.255474\n",
       "Typography           0.649485\n",
       "Vegan                0.350379\n",
       "Video                0.132812\n",
       "Video Art            0.293103\n",
       "Video Games          0.255816\n",
       "Wearables            0.401241\n",
       "Weaving              0.329268\n",
       "Web                  0.102832\n",
       "Webcomics            0.597663\n",
       "Webseries            0.329837\n",
       "Woodworking          0.275992\n",
       "Workshops            0.337838\n",
       "World Music          0.475258\n",
       "Young Adult          0.242254\n",
       "Zines                0.504225\n",
       "Name: state, Length: 159, dtype: float64"
      ]
     },
     "execution_count": 106,
     "metadata": {},
     "output_type": "execute_result"
    }
   ],
   "source": [
    "data_count_category = df_ks_2.groupby([\"category\",\"state\"])[\"state\"].count()\n",
    "display(data_count_category)\n",
    "df_ks_2.groupby([\"category\"])[\"state\"].mean()"
   ]
  },
  {
   "cell_type": "markdown",
   "metadata": {},
   "source": [
    "#### カテゴリーによって成功確率は異なっているように思われる。カテゴリーの種類が多いため、予測ではメインカテゴリーのみを扱うこととする。"
   ]
  },
  {
   "cell_type": "code",
   "execution_count": 107,
   "metadata": {},
   "outputs": [],
   "source": [
    "df_ks_2=pd.get_dummies(df_ks_2, columns=['main_category'])"
   ]
  },
  {
   "cell_type": "code",
   "execution_count": 108,
   "metadata": {},
   "outputs": [
    {
     "data": {
      "image/png": "[encoded data removed]",
      "text/plain": [
       "<Figure size 432x288 with 2 Axes>"
      ]
     },
     "metadata": {},
     "output_type": "display_data"
    }
   ],
   "source": [
    "# 相関係数をヒートマップにして可視化\n",
    "sns.heatmap(df_ks_2.corr(), annot=False)\n",
    "plt.show()"
   ]
  },
  {
   "cell_type": "markdown",
   "metadata": {},
   "source": [
    "## currency, countrryについて"
   ]
  },
  {
   "cell_type": "code",
   "execution_count": 109,
   "metadata": {},
   "outputs": [
    {
     "data": {
      "text/plain": [
       "currency  state\n",
       "AUD       0          4609\n",
       "          1          2011\n",
       "CAD       0          8236\n",
       "          1          4137\n",
       "CHF       0           464\n",
       "          1           187\n",
       "DKK       0           567\n",
       "          1           362\n",
       "EUR       0         10494\n",
       "          1          3882\n",
       "GBP       0         17394\n",
       "          1         12081\n",
       "HKD       0           261\n",
       "          1           216\n",
       "JPY       0            16\n",
       "          1             7\n",
       "MXN       0          1014\n",
       "          1           396\n",
       "NOK       0           420\n",
       "          1           163\n",
       "NZD       0           826\n",
       "          1           448\n",
       "SEK       0          1000\n",
       "          1           509\n",
       "SGD       0           276\n",
       "          1           178\n",
       "USD       0        152113\n",
       "          1        109379\n",
       "Name: state, dtype: int64"
      ]
     },
     "metadata": {},
     "output_type": "display_data"
    },
    {
     "data": {
      "text/plain": [
       "currency\n",
       "AUD    0.303776\n",
       "CAD    0.334357\n",
       "CHF    0.287250\n",
       "DKK    0.389666\n",
       "EUR    0.270033\n",
       "GBP    0.409873\n",
       "HKD    0.452830\n",
       "JPY    0.304348\n",
       "MXN    0.280851\n",
       "NOK    0.279588\n",
       "NZD    0.351648\n",
       "SEK    0.337309\n",
       "SGD    0.392070\n",
       "USD    0.418288\n",
       "Name: state, dtype: float64"
      ]
     },
     "execution_count": 109,
     "metadata": {},
     "output_type": "execute_result"
    },
    {
     "data": {
      "image/png": "[encoded data removed]",
      "text/plain": [
       "<Figure size 2160x720 with 1 Axes>"
      ]
     },
     "metadata": {},
     "output_type": "display_data"
    }
   ],
   "source": [
    "data_count_currency = df_ks_2.groupby([\"currency\",\"state\"])[\"state\"].count()\n",
    "plt.figure(figsize=(30,10))\n",
    "g = sns.barplot(data_count_currency.keys(),data_count_currency.values)\n",
    "g.set_xticklabels(data_count_currency.keys(),rotation=30)\n",
    "display(data_count_currency)\n",
    "df_ks_2.groupby([\"currency\"])[\"state\"].mean()\n"
   ]
  },
  {
   "cell_type": "markdown",
   "metadata": {},
   "source": [
    "#### 通貨による違いが見られるため、ダミー変数を追加する。"
   ]
  },
  {
   "cell_type": "code",
   "execution_count": 110,
   "metadata": {},
   "outputs": [],
   "source": [
    "df_ks_2=pd.get_dummies(df_ks_2, columns=['currency'])"
   ]
  },
  {
   "cell_type": "code",
   "execution_count": 111,
   "metadata": {},
   "outputs": [
    {
     "data": {
      "text/plain": [
       "country  state\n",
       "AT       0           378\n",
       "         1           107\n",
       "AU       0          4605\n",
       "         1          2010\n",
       "BE       0           371\n",
       "         1           152\n",
       "CA       0          8234\n",
       "         1          4134\n",
       "CH       0           464\n",
       "         1           187\n",
       "DE       0          2498\n",
       "         1           937\n",
       "DK       0           566\n",
       "         1           360\n",
       "ES       0          1381\n",
       "         1           492\n",
       "FR       0          1611\n",
       "         1           908\n",
       "GB       0         17386\n",
       "         1         12067\n",
       "HK       0           261\n",
       "         1           216\n",
       "IE       0           476\n",
       "         1           207\n",
       "IT       0          1930\n",
       "         1           439\n",
       "JP       0            16\n",
       "         1             7\n",
       "LU       0            38\n",
       "         1            19\n",
       "MX       0          1014\n",
       "         1           396\n",
       "N,0\"     0           105\n",
       "         1           105\n",
       "NL       0          1794\n",
       "         1           617\n",
       "NO       0           419\n",
       "         1           162\n",
       "NZ       0           826\n",
       "         1           448\n",
       "SE       0           999\n",
       "         1           509\n",
       "SG       0           276\n",
       "         1           178\n",
       "US       0        152042\n",
       "         1        109299\n",
       "Name: state, dtype: int64"
      ]
     },
     "metadata": {},
     "output_type": "display_data"
    },
    {
     "data": {
      "text/plain": [
       "country\n",
       "AT      0.220619\n",
       "AU      0.303855\n",
       "BE      0.290631\n",
       "CA      0.334250\n",
       "CH      0.287250\n",
       "DE      0.272780\n",
       "DK      0.388769\n",
       "ES      0.262680\n",
       "FR      0.360461\n",
       "GB      0.409704\n",
       "HK      0.452830\n",
       "IE      0.303075\n",
       "IT      0.185310\n",
       "JP      0.304348\n",
       "LU      0.333333\n",
       "MX      0.280851\n",
       "N,0\"    0.500000\n",
       "NL      0.255910\n",
       "NO      0.278830\n",
       "NZ      0.351648\n",
       "SE      0.337533\n",
       "SG      0.392070\n",
       "US      0.418224\n",
       "Name: state, dtype: float64"
      ]
     },
     "execution_count": 111,
     "metadata": {},
     "output_type": "execute_result"
    },
    {
     "data": {
      "image/png": "[encoded data removed]",
      "text/plain": [
       "<Figure size 2160x720 with 1 Axes>"
      ]
     },
     "metadata": {},
     "output_type": "display_data"
    }
   ],
   "source": [
    "data_count_coutnry = df_ks_2.groupby([\"country\",\"state\"])[\"state\"].count()\n",
    "plt.figure(figsize=(30,10))\n",
    "g = sns.barplot(data_count_coutnry.keys(), data_count_coutnry.values)\n",
    "g.set_xticklabels(data_count_coutnry.keys(),rotation=30)\n",
    "display(data_count_coutnry)\n",
    "df_ks_2.groupby([\"country\"])[\"state\"].mean()"
   ]
  },
  {
   "cell_type": "markdown",
   "metadata": {},
   "source": [
    " 国、通貨による成功確率の違いは見られたが、データ数が少ない国が多く、信頼性が高くないと判断した。"
   ]
  },
  {
   "cell_type": "code",
   "execution_count": 112,
   "metadata": {},
   "outputs": [
    {
     "data": {
      "image/png": "[encoded data removed]",
      "text/plain": [
       "<Figure size 432x288 with 2 Axes>"
      ]
     },
     "metadata": {},
     "output_type": "display_data"
    }
   ],
   "source": [
    "# 相関係数をヒートマップにして可視化\n",
    "sns.heatmap(df_ks_2.corr(), annot=False)\n",
    "plt.show()"
   ]
  },
  {
   "cell_type": "markdown",
   "metadata": {},
   "source": [
    "## 予測モデルの構築"
   ]
  },
  {
   "cell_type": "code",
   "execution_count": 113,
   "metadata": {},
   "outputs": [
    {
     "data": {
      "text/html": [
       "<div>\n",
       "<style scoped>\n",
       "    .dataframe tbody tr th:only-of-type {\n",
       "        vertical-align: middle;\n",
       "    }\n",
       "\n",
       "    .dataframe tbody tr th {\n",
       "        vertical-align: top;\n",
       "    }\n",
       "\n",
       "    .dataframe thead th {\n",
       "        text-align: right;\n",
       "    }\n",
       "</style>\n",
       "<table border=\"1\" class=\"dataframe\">\n",
       "  <thead>\n",
       "    <tr style=\"text-align: right;\">\n",
       "      <th></th>\n",
       "      <th>name</th>\n",
       "      <th>category</th>\n",
       "      <th>deadline</th>\n",
       "      <th>goal</th>\n",
       "      <th>launched</th>\n",
       "      <th>state</th>\n",
       "      <th>country</th>\n",
       "      <th>usd_goal_real</th>\n",
       "      <th>usd_goal_real_std</th>\n",
       "      <th>delta</th>\n",
       "      <th>...</th>\n",
       "      <th>currency_EUR</th>\n",
       "      <th>currency_GBP</th>\n",
       "      <th>currency_HKD</th>\n",
       "      <th>currency_JPY</th>\n",
       "      <th>currency_MXN</th>\n",
       "      <th>currency_NOK</th>\n",
       "      <th>currency_NZD</th>\n",
       "      <th>currency_SEK</th>\n",
       "      <th>currency_SGD</th>\n",
       "      <th>currency_USD</th>\n",
       "    </tr>\n",
       "  </thead>\n",
       "  <tbody>\n",
       "    <tr>\n",
       "      <th>5</th>\n",
       "      <td>Monarch Espresso Bar</td>\n",
       "      <td>Restaurants</td>\n",
       "      <td>2016-04-01</td>\n",
       "      <td>50000.0</td>\n",
       "      <td>2016-02-26 13:38:27</td>\n",
       "      <td>1</td>\n",
       "      <td>US</td>\n",
       "      <td>50000.00</td>\n",
       "      <td>0.025405</td>\n",
       "      <td>34</td>\n",
       "      <td>...</td>\n",
       "      <td>0</td>\n",
       "      <td>0</td>\n",
       "      <td>0</td>\n",
       "      <td>0</td>\n",
       "      <td>0</td>\n",
       "      <td>0</td>\n",
       "      <td>0</td>\n",
       "      <td>0</td>\n",
       "      <td>0</td>\n",
       "      <td>1</td>\n",
       "    </tr>\n",
       "    <tr>\n",
       "      <th>6</th>\n",
       "      <td>Support Solar Roasted Coffee &amp; Green Energy!  ...</td>\n",
       "      <td>Food</td>\n",
       "      <td>2014-12-21</td>\n",
       "      <td>1000.0</td>\n",
       "      <td>2014-12-01 18:30:44</td>\n",
       "      <td>1</td>\n",
       "      <td>US</td>\n",
       "      <td>1000.00</td>\n",
       "      <td>-0.050121</td>\n",
       "      <td>19</td>\n",
       "      <td>...</td>\n",
       "      <td>0</td>\n",
       "      <td>0</td>\n",
       "      <td>0</td>\n",
       "      <td>0</td>\n",
       "      <td>0</td>\n",
       "      <td>0</td>\n",
       "      <td>0</td>\n",
       "      <td>0</td>\n",
       "      <td>0</td>\n",
       "      <td>1</td>\n",
       "    </tr>\n",
       "    <tr>\n",
       "      <th>11</th>\n",
       "      <td>Lisa Lim New CD!</td>\n",
       "      <td>Indie Rock</td>\n",
       "      <td>2013-04-08</td>\n",
       "      <td>12500.0</td>\n",
       "      <td>2013-03-09 06:42:58</td>\n",
       "      <td>1</td>\n",
       "      <td>US</td>\n",
       "      <td>12500.00</td>\n",
       "      <td>-0.032395</td>\n",
       "      <td>29</td>\n",
       "      <td>...</td>\n",
       "      <td>0</td>\n",
       "      <td>0</td>\n",
       "      <td>0</td>\n",
       "      <td>0</td>\n",
       "      <td>0</td>\n",
       "      <td>0</td>\n",
       "      <td>0</td>\n",
       "      <td>0</td>\n",
       "      <td>0</td>\n",
       "      <td>1</td>\n",
       "    </tr>\n",
       "    <tr>\n",
       "      <th>14</th>\n",
       "      <td>Tombstone: Old West tabletop game and miniatur...</td>\n",
       "      <td>Tabletop Games</td>\n",
       "      <td>2017-05-03</td>\n",
       "      <td>5000.0</td>\n",
       "      <td>2017-04-05 19:44:18</td>\n",
       "      <td>1</td>\n",
       "      <td>GB</td>\n",
       "      <td>6469.73</td>\n",
       "      <td>-0.041690</td>\n",
       "      <td>27</td>\n",
       "      <td>...</td>\n",
       "      <td>0</td>\n",
       "      <td>1</td>\n",
       "      <td>0</td>\n",
       "      <td>0</td>\n",
       "      <td>0</td>\n",
       "      <td>0</td>\n",
       "      <td>0</td>\n",
       "      <td>0</td>\n",
       "      <td>0</td>\n",
       "      <td>0</td>\n",
       "    </tr>\n",
       "    <tr>\n",
       "      <th>18</th>\n",
       "      <td>Mike Corey's Darkness &amp; Light Album</td>\n",
       "      <td>Music</td>\n",
       "      <td>2012-08-17</td>\n",
       "      <td>250.0</td>\n",
       "      <td>2012-08-02 14:11:32</td>\n",
       "      <td>1</td>\n",
       "      <td>US</td>\n",
       "      <td>250.00</td>\n",
       "      <td>-0.051277</td>\n",
       "      <td>14</td>\n",
       "      <td>...</td>\n",
       "      <td>0</td>\n",
       "      <td>0</td>\n",
       "      <td>0</td>\n",
       "      <td>0</td>\n",
       "      <td>0</td>\n",
       "      <td>0</td>\n",
       "      <td>0</td>\n",
       "      <td>0</td>\n",
       "      <td>0</td>\n",
       "      <td>1</td>\n",
       "    </tr>\n",
       "  </tbody>\n",
       "</table>\n",
       "<p>5 rows × 40 columns</p>\n",
       "</div>"
      ],
      "text/plain": [
       "                                                 name        category  \\\n",
       "5                                Monarch Espresso Bar     Restaurants   \n",
       "6   Support Solar Roasted Coffee & Green Energy!  ...            Food   \n",
       "11                                   Lisa Lim New CD!      Indie Rock   \n",
       "14  Tombstone: Old West tabletop game and miniatur...  Tabletop Games   \n",
       "18                Mike Corey's Darkness & Light Album           Music   \n",
       "\n",
       "     deadline     goal            launched  state country  usd_goal_real  \\\n",
       "5  2016-04-01  50000.0 2016-02-26 13:38:27      1      US       50000.00   \n",
       "6  2014-12-21   1000.0 2014-12-01 18:30:44      1      US        1000.00   \n",
       "11 2013-04-08  12500.0 2013-03-09 06:42:58      1      US       12500.00   \n",
       "14 2017-05-03   5000.0 2017-04-05 19:44:18      1      GB        6469.73   \n",
       "18 2012-08-17    250.0 2012-08-02 14:11:32      1      US         250.00   \n",
       "\n",
       "    usd_goal_real_std  delta      ...       currency_EUR  currency_GBP  \\\n",
       "5            0.025405     34      ...                  0             0   \n",
       "6           -0.050121     19      ...                  0             0   \n",
       "11          -0.032395     29      ...                  0             0   \n",
       "14          -0.041690     27      ...                  0             1   \n",
       "18          -0.051277     14      ...                  0             0   \n",
       "\n",
       "    currency_HKD  currency_JPY  currency_MXN  currency_NOK  currency_NZD  \\\n",
       "5              0             0             0             0             0   \n",
       "6              0             0             0             0             0   \n",
       "11             0             0             0             0             0   \n",
       "14             0             0             0             0             0   \n",
       "18             0             0             0             0             0   \n",
       "\n",
       "    currency_SEK  currency_SGD  currency_USD  \n",
       "5              0             0             1  \n",
       "6              0             0             1  \n",
       "11             0             0             1  \n",
       "14             0             0             0  \n",
       "18             0             0             1  \n",
       "\n",
       "[5 rows x 40 columns]"
      ]
     },
     "execution_count": 113,
     "metadata": {},
     "output_type": "execute_result"
    }
   ],
   "source": [
    "df_ks_2.head()"
   ]
  },
  {
   "cell_type": "markdown",
   "metadata": {},
   "source": [
    "#### nameは予測に関係していないと考えられるため、今回は除外した。これまでの考察から、まずは usd_goal_std, currencyおよび main_categoryのダミー変数, delta_std, で予測を行うこととした。"
   ]
  },
  {
   "cell_type": "code",
   "execution_count": 114,
   "metadata": {},
   "outputs": [
    {
     "data": {
      "text/html": [
       "<div>\n",
       "<style scoped>\n",
       "    .dataframe tbody tr th:only-of-type {\n",
       "        vertical-align: middle;\n",
       "    }\n",
       "\n",
       "    .dataframe tbody tr th {\n",
       "        vertical-align: top;\n",
       "    }\n",
       "\n",
       "    .dataframe thead th {\n",
       "        text-align: right;\n",
       "    }\n",
       "</style>\n",
       "<table border=\"1\" class=\"dataframe\">\n",
       "  <thead>\n",
       "    <tr style=\"text-align: right;\">\n",
       "      <th></th>\n",
       "      <th>usd_goal_real_std</th>\n",
       "      <th>delta_std</th>\n",
       "      <th>main_category_Art</th>\n",
       "      <th>main_category_Comics</th>\n",
       "      <th>main_category_Crafts</th>\n",
       "      <th>main_category_Dance</th>\n",
       "      <th>main_category_Design</th>\n",
       "      <th>main_category_Fashion</th>\n",
       "      <th>main_category_Film &amp; Video</th>\n",
       "      <th>main_category_Food</th>\n",
       "      <th>...</th>\n",
       "      <th>currency_EUR</th>\n",
       "      <th>currency_GBP</th>\n",
       "      <th>currency_HKD</th>\n",
       "      <th>currency_JPY</th>\n",
       "      <th>currency_MXN</th>\n",
       "      <th>currency_NOK</th>\n",
       "      <th>currency_NZD</th>\n",
       "      <th>currency_SEK</th>\n",
       "      <th>currency_SGD</th>\n",
       "      <th>currency_USD</th>\n",
       "    </tr>\n",
       "  </thead>\n",
       "  <tbody>\n",
       "    <tr>\n",
       "      <th>5</th>\n",
       "      <td>0.025405</td>\n",
       "      <td>0.082298</td>\n",
       "      <td>0</td>\n",
       "      <td>0</td>\n",
       "      <td>0</td>\n",
       "      <td>0</td>\n",
       "      <td>0</td>\n",
       "      <td>0</td>\n",
       "      <td>0</td>\n",
       "      <td>1</td>\n",
       "      <td>...</td>\n",
       "      <td>0</td>\n",
       "      <td>0</td>\n",
       "      <td>0</td>\n",
       "      <td>0</td>\n",
       "      <td>0</td>\n",
       "      <td>0</td>\n",
       "      <td>0</td>\n",
       "      <td>0</td>\n",
       "      <td>0</td>\n",
       "      <td>1</td>\n",
       "    </tr>\n",
       "    <tr>\n",
       "      <th>6</th>\n",
       "      <td>-0.050121</td>\n",
       "      <td>-1.097677</td>\n",
       "      <td>0</td>\n",
       "      <td>0</td>\n",
       "      <td>0</td>\n",
       "      <td>0</td>\n",
       "      <td>0</td>\n",
       "      <td>0</td>\n",
       "      <td>0</td>\n",
       "      <td>1</td>\n",
       "      <td>...</td>\n",
       "      <td>0</td>\n",
       "      <td>0</td>\n",
       "      <td>0</td>\n",
       "      <td>0</td>\n",
       "      <td>0</td>\n",
       "      <td>0</td>\n",
       "      <td>0</td>\n",
       "      <td>0</td>\n",
       "      <td>0</td>\n",
       "      <td>1</td>\n",
       "    </tr>\n",
       "    <tr>\n",
       "      <th>11</th>\n",
       "      <td>-0.032395</td>\n",
       "      <td>-0.311027</td>\n",
       "      <td>0</td>\n",
       "      <td>0</td>\n",
       "      <td>0</td>\n",
       "      <td>0</td>\n",
       "      <td>0</td>\n",
       "      <td>0</td>\n",
       "      <td>0</td>\n",
       "      <td>0</td>\n",
       "      <td>...</td>\n",
       "      <td>0</td>\n",
       "      <td>0</td>\n",
       "      <td>0</td>\n",
       "      <td>0</td>\n",
       "      <td>0</td>\n",
       "      <td>0</td>\n",
       "      <td>0</td>\n",
       "      <td>0</td>\n",
       "      <td>0</td>\n",
       "      <td>1</td>\n",
       "    </tr>\n",
       "    <tr>\n",
       "      <th>14</th>\n",
       "      <td>-0.041690</td>\n",
       "      <td>-0.468357</td>\n",
       "      <td>0</td>\n",
       "      <td>0</td>\n",
       "      <td>0</td>\n",
       "      <td>0</td>\n",
       "      <td>0</td>\n",
       "      <td>0</td>\n",
       "      <td>0</td>\n",
       "      <td>0</td>\n",
       "      <td>...</td>\n",
       "      <td>0</td>\n",
       "      <td>1</td>\n",
       "      <td>0</td>\n",
       "      <td>0</td>\n",
       "      <td>0</td>\n",
       "      <td>0</td>\n",
       "      <td>0</td>\n",
       "      <td>0</td>\n",
       "      <td>0</td>\n",
       "      <td>0</td>\n",
       "    </tr>\n",
       "    <tr>\n",
       "      <th>18</th>\n",
       "      <td>-0.051277</td>\n",
       "      <td>-1.491002</td>\n",
       "      <td>0</td>\n",
       "      <td>0</td>\n",
       "      <td>0</td>\n",
       "      <td>0</td>\n",
       "      <td>0</td>\n",
       "      <td>0</td>\n",
       "      <td>0</td>\n",
       "      <td>0</td>\n",
       "      <td>...</td>\n",
       "      <td>0</td>\n",
       "      <td>0</td>\n",
       "      <td>0</td>\n",
       "      <td>0</td>\n",
       "      <td>0</td>\n",
       "      <td>0</td>\n",
       "      <td>0</td>\n",
       "      <td>0</td>\n",
       "      <td>0</td>\n",
       "      <td>1</td>\n",
       "    </tr>\n",
       "  </tbody>\n",
       "</table>\n",
       "<p>5 rows × 31 columns</p>\n",
       "</div>"
      ],
      "text/plain": [
       "    usd_goal_real_std  delta_std  main_category_Art  main_category_Comics  \\\n",
       "5            0.025405   0.082298                  0                     0   \n",
       "6           -0.050121  -1.097677                  0                     0   \n",
       "11          -0.032395  -0.311027                  0                     0   \n",
       "14          -0.041690  -0.468357                  0                     0   \n",
       "18          -0.051277  -1.491002                  0                     0   \n",
       "\n",
       "    main_category_Crafts  main_category_Dance  main_category_Design  \\\n",
       "5                      0                    0                     0   \n",
       "6                      0                    0                     0   \n",
       "11                     0                    0                     0   \n",
       "14                     0                    0                     0   \n",
       "18                     0                    0                     0   \n",
       "\n",
       "    main_category_Fashion  main_category_Film & Video  main_category_Food  \\\n",
       "5                       0                           0                   1   \n",
       "6                       0                           0                   1   \n",
       "11                      0                           0                   0   \n",
       "14                      0                           0                   0   \n",
       "18                      0                           0                   0   \n",
       "\n",
       "        ...       currency_EUR  currency_GBP  currency_HKD  currency_JPY  \\\n",
       "5       ...                  0             0             0             0   \n",
       "6       ...                  0             0             0             0   \n",
       "11      ...                  0             0             0             0   \n",
       "14      ...                  0             1             0             0   \n",
       "18      ...                  0             0             0             0   \n",
       "\n",
       "    currency_MXN  currency_NOK  currency_NZD  currency_SEK  currency_SGD  \\\n",
       "5              0             0             0             0             0   \n",
       "6              0             0             0             0             0   \n",
       "11             0             0             0             0             0   \n",
       "14             0             0             0             0             0   \n",
       "18             0             0             0             0             0   \n",
       "\n",
       "    currency_USD  \n",
       "5              1  \n",
       "6              1  \n",
       "11             1  \n",
       "14             0  \n",
       "18             1  \n",
       "\n",
       "[5 rows x 31 columns]"
      ]
     },
     "execution_count": 114,
     "metadata": {},
     "output_type": "execute_result"
    }
   ],
   "source": [
    "X = df_ks_2.drop([\"state\", \"launched\", \"country\", \"usd_goal_real\", \"name\", \"category\", \"deadline\", \"goal\",\"delta\"], axis=1)\n",
    "y = df_ks_2[\"state\"]\n",
    "X.head()"
   ]
  },
  {
   "cell_type": "markdown",
   "metadata": {},
   "source": [
    "#### ロジスティック回帰で予測"
   ]
  },
  {
   "cell_type": "code",
   "execution_count": 115,
   "metadata": {},
   "outputs": [],
   "source": [
    "from sklearn.linear_model import SGDClassifier\n",
    "from sklearn.metrics import log_loss, accuracy_score, confusion_matrix\n",
    "from sklearn.preprocessing import StandardScaler\n",
    "from sklearn.metrics import accuracy_score, precision_recall_fscore_support, confusion_matrix "
   ]
  },
  {
   "cell_type": "code",
   "execution_count": 116,
   "metadata": {},
   "outputs": [
    {
     "name": "stdout",
     "output_type": "stream",
     "text": [
      "-0.731861458166323\n",
      "[[-9.38592045 -0.11349198  0.01118316  0.62915454 -0.71034429  0.90588032\n",
      "   0.16232371 -0.4891052   0.08708673 -0.63140896  0.22740898 -0.83008888\n",
      "   0.41306508 -0.34805806 -0.38231162 -0.6437569   0.86710994 -0.1888341\n",
      "  -0.14704375 -0.14387374  0.08449972 -0.39446401  0.04900907  0.46639395\n",
      "   0.30874945 -0.47450122 -0.39528977 -0.08472436 -0.1619711   0.15475947\n",
      "   0.19542893]]\n"
     ]
    }
   ],
   "source": [
    "clf = SGDClassifier(loss='log', penalty='none', max_iter=10000, fit_intercept=True, random_state=1234, tol=1e-3, )\n",
    "clf.fit(X, y)\n",
    "\n",
    "# 重みを取得して表示\n",
    "w0 = clf.intercept_[0]\n",
    "w = clf.coef_\n",
    "\n",
    "print(w0)\n",
    "print(w)"
   ]
  },
  {
   "cell_type": "markdown",
   "metadata": {},
   "source": [
    "#### 結果の表示"
   ]
  },
  {
   "cell_type": "code",
   "execution_count": 117,
   "metadata": {
    "scrolled": true
   },
   "outputs": [
    {
     "name": "stdout",
     "output_type": "stream",
     "text": [
      "対数尤度 = -208811.211\n",
      "正答率 = 64.331%\n",
      "適合率（Precision） = 57.616%\n",
      "再現率（Recall） = 44.226%\n",
      "F1値（F1-score） = 50.041%\n"
     ]
    },
    {
     "name": "stderr",
     "output_type": "stream",
     "text": [
      "/opt/anaconda3/lib/python3.6/site-packages/sklearn/linear_model/base.py:340: RuntimeWarning: overflow encountered in exp\n",
      "  np.exp(prob, prob)\n"
     ]
    }
   ],
   "source": [
    "# ラベルを予測\n",
    "y_est = clf.predict(X)\n",
    "\n",
    "# 確率値を得る\n",
    "y_est_proba = clf.predict_proba(X)\n",
    "\n",
    "# 対数尤度を表示\n",
    "print('対数尤度 = {:.3f}'.format(- log_loss(y, y_est_proba, normalize=False))) \n",
    "\n",
    "# 正答率を表示\n",
    "print('正答率 = {:.3f}%'.format(100 * accuracy_score(y, y_est)))\n",
    "\n",
    "# Precision, Recall, F1-scoreを計算\n",
    "precision, recall, f1_score, _ = precision_recall_fscore_support(y, y_est)\n",
    "\n",
    "print('適合率（Precision） = {:.3f}%'.format(100 * precision[1]))\n",
    "print('再現率（Recall） = {:.3f}%'.format(100 * recall[1]))\n",
    "print('F1値（F1-score） = {:.3f}%'.format(100 * f1_score[1]))"
   ]
  },
  {
   "cell_type": "code",
   "execution_count": 118,
   "metadata": {},
   "outputs": [
    {
     "data": {
      "text/html": [
       "<div>\n",
       "<style scoped>\n",
       "    .dataframe tbody tr th:only-of-type {\n",
       "        vertical-align: middle;\n",
       "    }\n",
       "\n",
       "    .dataframe tbody tr th {\n",
       "        vertical-align: top;\n",
       "    }\n",
       "\n",
       "    .dataframe thead th {\n",
       "        text-align: right;\n",
       "    }\n",
       "</style>\n",
       "<table border=\"1\" class=\"dataframe\">\n",
       "  <thead>\n",
       "    <tr style=\"text-align: right;\">\n",
       "      <th></th>\n",
       "      <th>予測 = failed</th>\n",
       "      <th>予測 = successful</th>\n",
       "    </tr>\n",
       "  </thead>\n",
       "  <tbody>\n",
       "    <tr>\n",
       "      <th>正解 = failed</th>\n",
       "      <td>154108</td>\n",
       "      <td>43582</td>\n",
       "    </tr>\n",
       "    <tr>\n",
       "      <th>正解 = successful</th>\n",
       "      <td>74712</td>\n",
       "      <td>59244</td>\n",
       "    </tr>\n",
       "  </tbody>\n",
       "</table>\n",
       "</div>"
      ],
      "text/plain": [
       "                 予測 = failed  予測 = successful\n",
       "正解 = failed           154108            43582\n",
       "正解 = successful        74712            59244"
      ]
     },
     "execution_count": 118,
     "metadata": {},
     "output_type": "execute_result"
    }
   ],
   "source": [
    "# 予測値と正解のクロス集計\n",
    "conf_mat = pd.DataFrame(confusion_matrix(y, y_est), \n",
    "                        index=['正解 = failed', '正解 = successful'], \n",
    "                        columns=['予測 = failed', '予測 = successful'])\n",
    "\n",
    "conf_mat"
   ]
  },
  {
   "cell_type": "markdown",
   "metadata": {},
   "source": [
    "#### 予測モデルの構築が完了した。今後汎化性能の検証、ロジスティック回帰以外のモデルの検証、今回除外した変数の活用を行っていきたい。"
   ]
  },
  {
   "cell_type": "code",
   "execution_count": null,
   "metadata": {},
   "outputs": [],
   "source": []
  }
 ],
 "metadata": {
  "kernelspec": {
   "display_name": "Python 3",
   "language": "python",
   "name": "python3"
  },
  "language_info": {
   "codemirror_mode": {
    "name": "ipython",
    "version": 3
   },
   "file_extension": ".py",
   "mimetype": "text/x-python",
   "name": "python",
   "nbconvert_exporter": "python",
   "pygments_lexer": "ipython3",
   "version": "3.6.8"
  }
 },
 "nbformat": 4,
 "nbformat_minor": 2
}
