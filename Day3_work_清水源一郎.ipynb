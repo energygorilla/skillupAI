{
 "cells": [
  {
   "cell_type": "markdown",
   "metadata": {},
   "source": [
    "# Day 3 課題"
   ]
  },
  {
   "cell_type": "markdown",
   "metadata": {},
   "source": [
    "### 目次\n",
    "### - 1. Day 1, 2 の作業内容\n",
    "### - 2. 特徴量選択\n",
    "### - 3. 木モデルによる予測\n",
    "### - 4. ニューラルネットワークによる予測"
   ]
  },
  {
   "cell_type": "markdown",
   "metadata": {},
   "source": [
    "## 1. Day 1, 2 の作業内容\n",
    " \n",
    "### 各変数について\n",
    "- ID：不要と判断し削除\n",
    "- name：用いる変数の中ではnameにのみ欠損値があった。欠損値が少ないため、削除して対応した。\n",
    "- name_length：nameの単語数と成功確率に相関があるのではないかと考え、nameの単語数の変数を追加した。\n",
    "- category：カテゴリーの種類によって成功確率に違いが見られた。ダミー変数を追加し予測に用いた。データ数の少ないカテゴリーもあり、予測に用いた場合、過学習の懸念がある。\n",
    "- main_category：成功確率との関係が見られた。ダミー変数を追加し、予測に用いた。\n",
    "- currency：成功確率との関係が見られた。ダミー変数を追加し、予測に用いた。\n",
    "- country：成功確率との関係が見られた。ダミー変数を追加し、予測に用いたが、データ数の少ないカテゴリーもあり、予測に用いた場合、過学習の懸念がある。\n",
    "- goal, usd_goal_real：分布について確認すると、goalの最大値100000000.0をとっているデータが多く見られた。これらは正常な値である可能性もあるが、設定された上限の値を超えていて、便宜的に100000000.0となっている可能性がある。そのためgoalがこれらの値となっているデータについては除外することとする。goalよりも通貨が揃っているusd_goal_realの方が適切と判断し、こちらを予測に用いている。\n",
    "- deadline, launched：開始から、終了までの日数を求め、変数deltaとして追加した。deltaの外れ値について確認し、最大値91日のものがいくつか見られたが、クラウドファンディングの設定可能日数が91日であり、そのまま使用して問題ないと判断した。日数が0のデータも存在したが、実際に開始日と終了日を確認したところ、期間が一日未満であったため、こちらも問題ないと判断した。\n",
    "- pledged, usd_peldged, usd_pledged_real, backers：クラウドファンディングの結果得られる値のため、今回は使用不可として削除\n",
    "- state：目的変数、今回は結果の確定しているsuccessful, failedのみを用い、その他の値となっているデータは扱わないこととした。successful=1, failed=0 として数値に置き換えた。 \n",
    "\n",
    "量的変数に関しては、標準化して計算に用いた。各変数名に_stdを付けたものを新たにdata frameに追加している。\n",
    "\n",
    "### 各変数の相関\n",
    "heatmup, 散布図行列を用いて、各変数の相関を調べた。\n",
    "- name_lengthとstateには正の相関がみられ、名前の情報量が多い方が、成功しやすい傾向が示唆された。\n",
    "- usd_goal_realとstateの相関係数は小さかった。目標金額と成功確率は関係しているように思われるが、相関係数には現れていない可能性もある。\n",
    "- usd_goal_realとdeltaには小さな負の相関が見られた。直感に反するが、関係が相関係数で表現できていない可能性もある。\n",
    "\n",
    "### ロジスティック回帰による予測\n",
    "以下の二通の説明変数を用いて、stateの値を予測し、訓練誤差の評価、および交差検証による汎化誤差の評価を行った。\n",
    "1. name_length_std, usd_goal_std, currencyおよび main_categoryのダミー変数, delta_std \n",
    "2. 上記にcountry, categoriのダミー変数を追加したもの\n",
    "1の説明変数を用いたモデルでは、訓練データ、テストデータに対する正答率が共に64.9%であり、\n",
    "2の説明変数を用いたモデルでは、それぞれ、67.2%, 67.1%であった。\n",
    "\n",
    "### ロジスティック回帰の正則化項の検討\n",
    "- より高い精度が見られた2の説明変数を用いて、ロジスティック回帰の正則化項を検討した。\n",
    "- L1, L2どちらの場合でも正則化項を加えることで汎化誤差が小さくなった。\n",
    "- 正則化項の係数となるパラメータalphaのチューニングを行い、誤差が小さくなるalphaの値を発見した。\n",
    "- L1正則化において、学習後のモデルの各説明変数の重みを確認することで、特に重要な変数の確認を行った。\n",
    "\n",
    "### サポートベクタ―マシンによる予測モデル構築\n",
    "- カーネル関数はrbfを利用し、SVMによる予測モデルを構築した。\n",
    "- グリッドサーチによるハイパーパラメータのチューニングを行い、C, gammaの良い値を見つけたが、計算時間の問題で十分ではない可能性がある。\n",
    "\n",
    "これまでの検討では、正則化項つきのロジスティック回帰が最も精度の良いモデルとなっており、その汎化性能は正答率67%である。\n",
    "\n",
    "#### これまでの処理を行ったData Frameを以下に示す。"
   ]
  },
  {
   "cell_type": "code",
   "execution_count": 16,
   "metadata": {},
   "outputs": [],
   "source": [
    "# 使用するライブラリのインポート\n",
    "%matplotlib inline\n",
    "import pandas as pd\n",
    "import numpy as np\n",
    "import matplotlib.pyplot as plt\n",
    "import seaborn as sns\n",
    "from sklearn.metrics import log_loss, accuracy_score, confusion_matrix\n",
    "from sklearn.preprocessing import StandardScaler\n",
    "import pickle \n",
    "from IPython.display import Image\n",
    "from sklearn.feature_selection import SelectFromModel\n",
    "from sklearn.linear_model import LassoCV\n",
    "from sklearn.preprocessing import LabelEncoder\n",
    "from sklearn.ensemble import RandomForestClassifier\n",
    "from sklearn.model_selection import train_test_split\n",
    "from sklearn.model_selection import GridSearchCV\n",
    "from sklearn import metrics\n",
    "from sklearn.ensemble import AdaBoostClassifier\n",
    "from sklearn.tree import DecisionTreeClassifier\n",
    "from tensorflow import keras  \n",
    "import tensorflow as tf\n",
    "from tensorflow.compat.v1.keras.models import load_model\n",
    "from tensorflow.compat.v1.keras import Sequential\n",
    "from tensorflow.compat.v1.keras.layers import Dense, Dropout, Activation\n",
    "from tensorflow.compat.v1.keras.optimizers import SGD,RMSprop, Adagrad, Adadelta, Adam"
   ]
  },
  {
   "cell_type": "code",
   "execution_count": 2,
   "metadata": {},
   "outputs": [
    {
     "data": {
      "text/html": [
       "<div>\n",
       "<style scoped>\n",
       "    .dataframe tbody tr th:only-of-type {\n",
       "        vertical-align: middle;\n",
       "    }\n",
       "\n",
       "    .dataframe tbody tr th {\n",
       "        vertical-align: top;\n",
       "    }\n",
       "\n",
       "    .dataframe thead th {\n",
       "        text-align: right;\n",
       "    }\n",
       "</style>\n",
       "<table border=\"1\" class=\"dataframe\">\n",
       "  <thead>\n",
       "    <tr style=\"text-align: right;\">\n",
       "      <th></th>\n",
       "      <th>name</th>\n",
       "      <th>category</th>\n",
       "      <th>main_category</th>\n",
       "      <th>currency</th>\n",
       "      <th>deadline</th>\n",
       "      <th>goal</th>\n",
       "      <th>launched</th>\n",
       "      <th>state</th>\n",
       "      <th>country</th>\n",
       "      <th>usd_goal_real</th>\n",
       "      <th>usd_goal_real_std</th>\n",
       "      <th>name_length</th>\n",
       "      <th>name_length_std</th>\n",
       "      <th>delta</th>\n",
       "      <th>delta_std</th>\n",
       "    </tr>\n",
       "  </thead>\n",
       "  <tbody>\n",
       "    <tr>\n",
       "      <td>0</td>\n",
       "      <td>Monarch Espresso Bar</td>\n",
       "      <td>Restaurants</td>\n",
       "      <td>Food</td>\n",
       "      <td>USD</td>\n",
       "      <td>2016-04-01 00:00:00</td>\n",
       "      <td>50000.0</td>\n",
       "      <td>2016-02-26 13:38:27</td>\n",
       "      <td>1</td>\n",
       "      <td>US</td>\n",
       "      <td>50000.00</td>\n",
       "      <td>0.025405</td>\n",
       "      <td>3</td>\n",
       "      <td>-0.954203</td>\n",
       "      <td>34</td>\n",
       "      <td>0.082298</td>\n",
       "    </tr>\n",
       "    <tr>\n",
       "      <td>1</td>\n",
       "      <td>Support Solar Roasted Coffee &amp; Green Energy!  ...</td>\n",
       "      <td>Food</td>\n",
       "      <td>Food</td>\n",
       "      <td>USD</td>\n",
       "      <td>2014-12-21 00:00:00</td>\n",
       "      <td>1000.0</td>\n",
       "      <td>2014-12-01 18:30:44</td>\n",
       "      <td>1</td>\n",
       "      <td>US</td>\n",
       "      <td>1000.00</td>\n",
       "      <td>-0.050121</td>\n",
       "      <td>8</td>\n",
       "      <td>0.859112</td>\n",
       "      <td>19</td>\n",
       "      <td>-1.097677</td>\n",
       "    </tr>\n",
       "    <tr>\n",
       "      <td>2</td>\n",
       "      <td>Lisa Lim New CD!</td>\n",
       "      <td>Indie Rock</td>\n",
       "      <td>Music</td>\n",
       "      <td>USD</td>\n",
       "      <td>2013-04-08 00:00:00</td>\n",
       "      <td>12500.0</td>\n",
       "      <td>2013-03-09 06:42:58</td>\n",
       "      <td>1</td>\n",
       "      <td>US</td>\n",
       "      <td>12500.00</td>\n",
       "      <td>-0.032395</td>\n",
       "      <td>4</td>\n",
       "      <td>-0.591540</td>\n",
       "      <td>29</td>\n",
       "      <td>-0.311027</td>\n",
       "    </tr>\n",
       "    <tr>\n",
       "      <td>3</td>\n",
       "      <td>Tombstone: Old West tabletop game and miniatur...</td>\n",
       "      <td>Tabletop Games</td>\n",
       "      <td>Games</td>\n",
       "      <td>GBP</td>\n",
       "      <td>2017-05-03 00:00:00</td>\n",
       "      <td>5000.0</td>\n",
       "      <td>2017-04-05 19:44:18</td>\n",
       "      <td>1</td>\n",
       "      <td>GB</td>\n",
       "      <td>6469.73</td>\n",
       "      <td>-0.041690</td>\n",
       "      <td>9</td>\n",
       "      <td>1.221775</td>\n",
       "      <td>27</td>\n",
       "      <td>-0.468357</td>\n",
       "    </tr>\n",
       "    <tr>\n",
       "      <td>4</td>\n",
       "      <td>Mike Corey's Darkness &amp; Light Album</td>\n",
       "      <td>Music</td>\n",
       "      <td>Music</td>\n",
       "      <td>USD</td>\n",
       "      <td>2012-08-17 00:00:00</td>\n",
       "      <td>250.0</td>\n",
       "      <td>2012-08-02 14:11:32</td>\n",
       "      <td>1</td>\n",
       "      <td>US</td>\n",
       "      <td>250.00</td>\n",
       "      <td>-0.051277</td>\n",
       "      <td>6</td>\n",
       "      <td>0.133786</td>\n",
       "      <td>14</td>\n",
       "      <td>-1.491002</td>\n",
       "    </tr>\n",
       "  </tbody>\n",
       "</table>\n",
       "</div>"
      ],
      "text/plain": [
       "                                                name        category  \\\n",
       "0                               Monarch Espresso Bar     Restaurants   \n",
       "1  Support Solar Roasted Coffee & Green Energy!  ...            Food   \n",
       "2                                   Lisa Lim New CD!      Indie Rock   \n",
       "3  Tombstone: Old West tabletop game and miniatur...  Tabletop Games   \n",
       "4                Mike Corey's Darkness & Light Album           Music   \n",
       "\n",
       "  main_category currency             deadline     goal             launched  \\\n",
       "0          Food      USD  2016-04-01 00:00:00  50000.0  2016-02-26 13:38:27   \n",
       "1          Food      USD  2014-12-21 00:00:00   1000.0  2014-12-01 18:30:44   \n",
       "2         Music      USD  2013-04-08 00:00:00  12500.0  2013-03-09 06:42:58   \n",
       "3         Games      GBP  2017-05-03 00:00:00   5000.0  2017-04-05 19:44:18   \n",
       "4         Music      USD  2012-08-17 00:00:00    250.0  2012-08-02 14:11:32   \n",
       "\n",
       "   state country  usd_goal_real  usd_goal_real_std  name_length  \\\n",
       "0      1      US       50000.00           0.025405            3   \n",
       "1      1      US        1000.00          -0.050121            8   \n",
       "2      1      US       12500.00          -0.032395            4   \n",
       "3      1      GB        6469.73          -0.041690            9   \n",
       "4      1      US         250.00          -0.051277            6   \n",
       "\n",
       "   name_length_std  delta  delta_std  \n",
       "0        -0.954203     34   0.082298  \n",
       "1         0.859112     19  -1.097677  \n",
       "2        -0.591540     29  -0.311027  \n",
       "3         1.221775     27  -0.468357  \n",
       "4         0.133786     14  -1.491002  "
      ]
     },
     "execution_count": 2,
     "metadata": {},
     "output_type": "execute_result"
    }
   ],
   "source": [
    "#データの読み込み Day1でダミー変数の追加以外の処理を行った後のデータを読み込む。\n",
    "df_day3 = pd.read_csv('Day1.csv')\n",
    "df_day3.head()"
   ]
  },
  {
   "cell_type": "code",
   "execution_count": 3,
   "metadata": {},
   "outputs": [
    {
     "data": {
      "text/html": [
       "<div>\n",
       "<style scoped>\n",
       "    .dataframe tbody tr th:only-of-type {\n",
       "        vertical-align: middle;\n",
       "    }\n",
       "\n",
       "    .dataframe tbody tr th {\n",
       "        vertical-align: top;\n",
       "    }\n",
       "\n",
       "    .dataframe thead th {\n",
       "        text-align: right;\n",
       "    }\n",
       "</style>\n",
       "<table border=\"1\" class=\"dataframe\">\n",
       "  <thead>\n",
       "    <tr style=\"text-align: right;\">\n",
       "      <th></th>\n",
       "      <th>name</th>\n",
       "      <th>deadline</th>\n",
       "      <th>goal</th>\n",
       "      <th>launched</th>\n",
       "      <th>state</th>\n",
       "      <th>usd_goal_real</th>\n",
       "      <th>usd_goal_real_std</th>\n",
       "      <th>name_length</th>\n",
       "      <th>name_length_std</th>\n",
       "      <th>delta</th>\n",
       "      <th>...</th>\n",
       "      <th>country_JP</th>\n",
       "      <th>country_LU</th>\n",
       "      <th>country_MX</th>\n",
       "      <th>country_N,0\"</th>\n",
       "      <th>country_NL</th>\n",
       "      <th>country_NO</th>\n",
       "      <th>country_NZ</th>\n",
       "      <th>country_SE</th>\n",
       "      <th>country_SG</th>\n",
       "      <th>country_US</th>\n",
       "    </tr>\n",
       "  </thead>\n",
       "  <tbody>\n",
       "    <tr>\n",
       "      <td>0</td>\n",
       "      <td>Monarch Espresso Bar</td>\n",
       "      <td>2016-04-01</td>\n",
       "      <td>50000.0</td>\n",
       "      <td>2016-02-26 13:38:27</td>\n",
       "      <td>1</td>\n",
       "      <td>50000.00</td>\n",
       "      <td>0.025405</td>\n",
       "      <td>3</td>\n",
       "      <td>-0.954203</td>\n",
       "      <td>34</td>\n",
       "      <td>...</td>\n",
       "      <td>0</td>\n",
       "      <td>0</td>\n",
       "      <td>0</td>\n",
       "      <td>0</td>\n",
       "      <td>0</td>\n",
       "      <td>0</td>\n",
       "      <td>0</td>\n",
       "      <td>0</td>\n",
       "      <td>0</td>\n",
       "      <td>1</td>\n",
       "    </tr>\n",
       "    <tr>\n",
       "      <td>1</td>\n",
       "      <td>Support Solar Roasted Coffee &amp; Green Energy!  ...</td>\n",
       "      <td>2014-12-21</td>\n",
       "      <td>1000.0</td>\n",
       "      <td>2014-12-01 18:30:44</td>\n",
       "      <td>1</td>\n",
       "      <td>1000.00</td>\n",
       "      <td>-0.050121</td>\n",
       "      <td>8</td>\n",
       "      <td>0.859112</td>\n",
       "      <td>19</td>\n",
       "      <td>...</td>\n",
       "      <td>0</td>\n",
       "      <td>0</td>\n",
       "      <td>0</td>\n",
       "      <td>0</td>\n",
       "      <td>0</td>\n",
       "      <td>0</td>\n",
       "      <td>0</td>\n",
       "      <td>0</td>\n",
       "      <td>0</td>\n",
       "      <td>1</td>\n",
       "    </tr>\n",
       "    <tr>\n",
       "      <td>2</td>\n",
       "      <td>Lisa Lim New CD!</td>\n",
       "      <td>2013-04-08</td>\n",
       "      <td>12500.0</td>\n",
       "      <td>2013-03-09 06:42:58</td>\n",
       "      <td>1</td>\n",
       "      <td>12500.00</td>\n",
       "      <td>-0.032395</td>\n",
       "      <td>4</td>\n",
       "      <td>-0.591540</td>\n",
       "      <td>29</td>\n",
       "      <td>...</td>\n",
       "      <td>0</td>\n",
       "      <td>0</td>\n",
       "      <td>0</td>\n",
       "      <td>0</td>\n",
       "      <td>0</td>\n",
       "      <td>0</td>\n",
       "      <td>0</td>\n",
       "      <td>0</td>\n",
       "      <td>0</td>\n",
       "      <td>1</td>\n",
       "    </tr>\n",
       "    <tr>\n",
       "      <td>3</td>\n",
       "      <td>Tombstone: Old West tabletop game and miniatur...</td>\n",
       "      <td>2017-05-03</td>\n",
       "      <td>5000.0</td>\n",
       "      <td>2017-04-05 19:44:18</td>\n",
       "      <td>1</td>\n",
       "      <td>6469.73</td>\n",
       "      <td>-0.041690</td>\n",
       "      <td>9</td>\n",
       "      <td>1.221775</td>\n",
       "      <td>27</td>\n",
       "      <td>...</td>\n",
       "      <td>0</td>\n",
       "      <td>0</td>\n",
       "      <td>0</td>\n",
       "      <td>0</td>\n",
       "      <td>0</td>\n",
       "      <td>0</td>\n",
       "      <td>0</td>\n",
       "      <td>0</td>\n",
       "      <td>0</td>\n",
       "      <td>0</td>\n",
       "    </tr>\n",
       "    <tr>\n",
       "      <td>4</td>\n",
       "      <td>Mike Corey's Darkness &amp; Light Album</td>\n",
       "      <td>2012-08-17</td>\n",
       "      <td>250.0</td>\n",
       "      <td>2012-08-02 14:11:32</td>\n",
       "      <td>1</td>\n",
       "      <td>250.00</td>\n",
       "      <td>-0.051277</td>\n",
       "      <td>6</td>\n",
       "      <td>0.133786</td>\n",
       "      <td>14</td>\n",
       "      <td>...</td>\n",
       "      <td>0</td>\n",
       "      <td>0</td>\n",
       "      <td>0</td>\n",
       "      <td>0</td>\n",
       "      <td>0</td>\n",
       "      <td>0</td>\n",
       "      <td>0</td>\n",
       "      <td>0</td>\n",
       "      <td>0</td>\n",
       "      <td>1</td>\n",
       "    </tr>\n",
       "  </tbody>\n",
       "</table>\n",
       "<p>5 rows × 222 columns</p>\n",
       "</div>"
      ],
      "text/plain": [
       "                                                name    deadline     goal  \\\n",
       "0                               Monarch Espresso Bar  2016-04-01  50000.0   \n",
       "1  Support Solar Roasted Coffee & Green Energy!  ...  2014-12-21   1000.0   \n",
       "2                                   Lisa Lim New CD!  2013-04-08  12500.0   \n",
       "3  Tombstone: Old West tabletop game and miniatur...  2017-05-03   5000.0   \n",
       "4                Mike Corey's Darkness & Light Album  2012-08-17    250.0   \n",
       "\n",
       "              launched  state  usd_goal_real  usd_goal_real_std  name_length  \\\n",
       "0  2016-02-26 13:38:27      1       50000.00           0.025405            3   \n",
       "1  2014-12-01 18:30:44      1        1000.00          -0.050121            8   \n",
       "2  2013-03-09 06:42:58      1       12500.00          -0.032395            4   \n",
       "3  2017-04-05 19:44:18      1        6469.73          -0.041690            9   \n",
       "4  2012-08-02 14:11:32      1         250.00          -0.051277            6   \n",
       "\n",
       "   name_length_std  delta  ...  country_JP  country_LU  country_MX  \\\n",
       "0        -0.954203     34  ...           0           0           0   \n",
       "1         0.859112     19  ...           0           0           0   \n",
       "2        -0.591540     29  ...           0           0           0   \n",
       "3         1.221775     27  ...           0           0           0   \n",
       "4         0.133786     14  ...           0           0           0   \n",
       "\n",
       "   country_N,0\"  country_NL  country_NO  country_NZ  country_SE  country_SG  \\\n",
       "0             0           0           0           0           0           0   \n",
       "1             0           0           0           0           0           0   \n",
       "2             0           0           0           0           0           0   \n",
       "3             0           0           0           0           0           0   \n",
       "4             0           0           0           0           0           0   \n",
       "\n",
       "   country_US  \n",
       "0           1  \n",
       "1           1  \n",
       "2           1  \n",
       "3           0  \n",
       "4           1  \n",
       "\n",
       "[5 rows x 222 columns]"
      ]
     },
     "execution_count": 3,
     "metadata": {},
     "output_type": "execute_result"
    }
   ],
   "source": [
    "#ダミー変数を追加したdf\n",
    "df_day3_2=pd.read_csv('Day1_3.csv')\n",
    "df_day3_2.head()"
   ]
  },
  {
   "cell_type": "markdown",
   "metadata": {},
   "source": [
    "## 2.特徴量選択"
   ]
  },
  {
   "cell_type": "markdown",
   "metadata": {},
   "source": [
    "#### フィルター法、ラッパー法、LASSOによる特徴量の選択を行う。"
   ]
  },
  {
   "cell_type": "markdown",
   "metadata": {},
   "source": [
    "### 2-1 フィルター法"
   ]
  },
  {
   "cell_type": "markdown",
   "metadata": {},
   "source": [
    "散布図行列、相関係数のヒートマップを作成して、変数の相関を再度調べる。\n",
    "散布図行列は実行時間の都合上、ダミー変数を除いている。"
   ]
  },
  {
   "cell_type": "code",
   "execution_count": 16,
   "metadata": {},
   "outputs": [
    {
     "data": {
      "image/png": "[encoded data removed]",
      "text/plain": [
       "<IPython.core.display.Image object>"
      ]
     },
     "execution_count": 16,
     "metadata": {},
     "output_type": "execute_result"
    }
   ],
   "source": [
    "Image('Day1_matrix.png')"
   ]
  },
  {
   "cell_type": "code",
   "execution_count": 13,
   "metadata": {},
   "outputs": [
    {
     "data": {
      "image/png": "[encoded data removed]",
      "text/plain": [
       "<Figure size 432x288 with 2 Axes>"
      ]
     },
     "metadata": {},
     "output_type": "display_data"
    }
   ],
   "source": [
    "sns.heatmap(df_day3_2.corr())\n",
    "plt.show()"
   ]
  },
  {
   "cell_type": "markdown",
   "metadata": {},
   "source": [
    "currencyとcountryの一部の値の間、およびcategoryとmain_categoryの一部の間に相関がみられた。通貨と国、カテゴリーとメインカテゴリーは当然ある程度の関係を持っていると考えられるため、変数を減らしたい場合にはどちから一方ずつのみを用いることも有効であると考えられる。"
   ]
  },
  {
   "cell_type": "markdown",
   "metadata": {},
   "source": [
    "### 2-2 ラッパー法"
   ]
  },
  {
   "cell_type": "markdown",
   "metadata": {},
   "source": [
    "次にラッパー法による特徴量選択を試みる。すべての特徴量を用いて計算を行う。"
   ]
  },
  {
   "cell_type": "code",
   "execution_count": 17,
   "metadata": {},
   "outputs": [],
   "source": [
    "from sklearn.feature_selection import RFECV"
   ]
  },
  {
   "cell_type": "code",
   "execution_count": 59,
   "metadata": {},
   "outputs": [
    {
     "data": {
      "text/html": [
       "<div>\n",
       "<style scoped>\n",
       "    .dataframe tbody tr th:only-of-type {\n",
       "        vertical-align: middle;\n",
       "    }\n",
       "\n",
       "    .dataframe tbody tr th {\n",
       "        vertical-align: top;\n",
       "    }\n",
       "\n",
       "    .dataframe thead th {\n",
       "        text-align: right;\n",
       "    }\n",
       "</style>\n",
       "<table border=\"1\" class=\"dataframe\">\n",
       "  <thead>\n",
       "    <tr style=\"text-align: right;\">\n",
       "      <th></th>\n",
       "      <th>usd_goal_real_std</th>\n",
       "      <th>name_length_std</th>\n",
       "      <th>delta_std</th>\n",
       "      <th>main_category_Art</th>\n",
       "      <th>main_category_Comics</th>\n",
       "      <th>main_category_Crafts</th>\n",
       "      <th>main_category_Dance</th>\n",
       "      <th>main_category_Design</th>\n",
       "      <th>main_category_Fashion</th>\n",
       "      <th>main_category_Film &amp; Video</th>\n",
       "      <th>...</th>\n",
       "      <th>country_JP</th>\n",
       "      <th>country_LU</th>\n",
       "      <th>country_MX</th>\n",
       "      <th>country_N,0\"</th>\n",
       "      <th>country_NL</th>\n",
       "      <th>country_NO</th>\n",
       "      <th>country_NZ</th>\n",
       "      <th>country_SE</th>\n",
       "      <th>country_SG</th>\n",
       "      <th>country_US</th>\n",
       "    </tr>\n",
       "  </thead>\n",
       "  <tbody>\n",
       "    <tr>\n",
       "      <th>0</th>\n",
       "      <td>0.025405</td>\n",
       "      <td>-0.954226</td>\n",
       "      <td>0.082299</td>\n",
       "      <td>0</td>\n",
       "      <td>0</td>\n",
       "      <td>0</td>\n",
       "      <td>0</td>\n",
       "      <td>0</td>\n",
       "      <td>0</td>\n",
       "      <td>0</td>\n",
       "      <td>...</td>\n",
       "      <td>0</td>\n",
       "      <td>0</td>\n",
       "      <td>0</td>\n",
       "      <td>0</td>\n",
       "      <td>0</td>\n",
       "      <td>0</td>\n",
       "      <td>0</td>\n",
       "      <td>0</td>\n",
       "      <td>0</td>\n",
       "      <td>1</td>\n",
       "    </tr>\n",
       "    <tr>\n",
       "      <th>1</th>\n",
       "      <td>-0.050121</td>\n",
       "      <td>0.859104</td>\n",
       "      <td>-1.097680</td>\n",
       "      <td>0</td>\n",
       "      <td>0</td>\n",
       "      <td>0</td>\n",
       "      <td>0</td>\n",
       "      <td>0</td>\n",
       "      <td>0</td>\n",
       "      <td>0</td>\n",
       "      <td>...</td>\n",
       "      <td>0</td>\n",
       "      <td>0</td>\n",
       "      <td>0</td>\n",
       "      <td>0</td>\n",
       "      <td>0</td>\n",
       "      <td>0</td>\n",
       "      <td>0</td>\n",
       "      <td>0</td>\n",
       "      <td>0</td>\n",
       "      <td>1</td>\n",
       "    </tr>\n",
       "    <tr>\n",
       "      <th>2</th>\n",
       "      <td>-0.032395</td>\n",
       "      <td>-0.591560</td>\n",
       "      <td>-0.311027</td>\n",
       "      <td>0</td>\n",
       "      <td>0</td>\n",
       "      <td>0</td>\n",
       "      <td>0</td>\n",
       "      <td>0</td>\n",
       "      <td>0</td>\n",
       "      <td>0</td>\n",
       "      <td>...</td>\n",
       "      <td>0</td>\n",
       "      <td>0</td>\n",
       "      <td>0</td>\n",
       "      <td>0</td>\n",
       "      <td>0</td>\n",
       "      <td>0</td>\n",
       "      <td>0</td>\n",
       "      <td>0</td>\n",
       "      <td>0</td>\n",
       "      <td>1</td>\n",
       "    </tr>\n",
       "    <tr>\n",
       "      <th>3</th>\n",
       "      <td>-0.041690</td>\n",
       "      <td>1.221770</td>\n",
       "      <td>-0.468358</td>\n",
       "      <td>0</td>\n",
       "      <td>0</td>\n",
       "      <td>0</td>\n",
       "      <td>0</td>\n",
       "      <td>0</td>\n",
       "      <td>0</td>\n",
       "      <td>0</td>\n",
       "      <td>...</td>\n",
       "      <td>0</td>\n",
       "      <td>0</td>\n",
       "      <td>0</td>\n",
       "      <td>0</td>\n",
       "      <td>0</td>\n",
       "      <td>0</td>\n",
       "      <td>0</td>\n",
       "      <td>0</td>\n",
       "      <td>0</td>\n",
       "      <td>0</td>\n",
       "    </tr>\n",
       "    <tr>\n",
       "      <th>4</th>\n",
       "      <td>-0.051277</td>\n",
       "      <td>0.133772</td>\n",
       "      <td>-1.491007</td>\n",
       "      <td>0</td>\n",
       "      <td>0</td>\n",
       "      <td>0</td>\n",
       "      <td>0</td>\n",
       "      <td>0</td>\n",
       "      <td>0</td>\n",
       "      <td>0</td>\n",
       "      <td>...</td>\n",
       "      <td>0</td>\n",
       "      <td>0</td>\n",
       "      <td>0</td>\n",
       "      <td>0</td>\n",
       "      <td>0</td>\n",
       "      <td>0</td>\n",
       "      <td>0</td>\n",
       "      <td>0</td>\n",
       "      <td>0</td>\n",
       "      <td>1</td>\n",
       "    </tr>\n",
       "  </tbody>\n",
       "</table>\n",
       "<p>5 rows × 214 columns</p>\n",
       "</div>"
      ],
      "text/plain": [
       "   usd_goal_real_std  name_length_std  delta_std  main_category_Art  \\\n",
       "0           0.025405        -0.954226   0.082299                  0   \n",
       "1          -0.050121         0.859104  -1.097680                  0   \n",
       "2          -0.032395        -0.591560  -0.311027                  0   \n",
       "3          -0.041690         1.221770  -0.468358                  0   \n",
       "4          -0.051277         0.133772  -1.491007                  0   \n",
       "\n",
       "   main_category_Comics  main_category_Crafts  main_category_Dance  \\\n",
       "0                     0                     0                    0   \n",
       "1                     0                     0                    0   \n",
       "2                     0                     0                    0   \n",
       "3                     0                     0                    0   \n",
       "4                     0                     0                    0   \n",
       "\n",
       "   main_category_Design  main_category_Fashion  main_category_Film & Video  \\\n",
       "0                     0                      0                           0   \n",
       "1                     0                      0                           0   \n",
       "2                     0                      0                           0   \n",
       "3                     0                      0                           0   \n",
       "4                     0                      0                           0   \n",
       "\n",
       "      ...      country_JP  country_LU  country_MX  country_N,0\"  country_NL  \\\n",
       "0     ...               0           0           0             0           0   \n",
       "1     ...               0           0           0             0           0   \n",
       "2     ...               0           0           0             0           0   \n",
       "3     ...               0           0           0             0           0   \n",
       "4     ...               0           0           0             0           0   \n",
       "\n",
       "   country_NO  country_NZ  country_SE  country_SG  country_US  \n",
       "0           0           0           0           0           1  \n",
       "1           0           0           0           0           1  \n",
       "2           0           0           0           0           1  \n",
       "3           0           0           0           0           0  \n",
       "4           0           0           0           0           1  \n",
       "\n",
       "[5 rows x 214 columns]"
      ]
     },
     "execution_count": 59,
     "metadata": {},
     "output_type": "execute_result"
    }
   ],
   "source": [
    "X = df_day3_2.drop([\"state\", \"launched\", \"usd_goal_real\", \"name\", \"name_length\", \"deadline\", \"goal\",\"delta\"], axis=1)\n",
    "y = df_day3_2[\"state\"]\n",
    "X.head()"
   ]
  },
  {
   "cell_type": "code",
   "execution_count": 52,
   "metadata": {},
   "outputs": [],
   "source": [
    "# estimatorにモデルをセット\n",
    "estimator2 = SGDClassifier(loss='log', penalty='none', max_iter=10000, fit_intercept=True, random_state=1234, tol=1e-3, )\n",
    "\n",
    "# RFECVは交差検証によってステップワイズ法による特徴選択を行う\n",
    "rfecv2 = RFECV(estimator, cv=3, scoring='accuracy')"
   ]
  },
  {
   "cell_type": "code",
   "execution_count": 53,
   "metadata": {},
   "outputs": [
    {
     "data": {
      "text/plain": [
       "RFECV(cv=3,\n",
       "   estimator=SGDClassifier(alpha=0.0001, average=False, class_weight=None, epsilon=0.1,\n",
       "       eta0=0.0, fit_intercept=True, l1_ratio=0.15,\n",
       "       learning_rate='optimal', loss='log', max_iter=10000, n_iter=None,\n",
       "       n_jobs=1, penalty='none', power_t=0.5, random_state=1234,\n",
       "       shuffle=True, tol=0.001, verbose=0, warm_start=False),\n",
       "   n_jobs=1, scoring='accuracy', step=1, verbose=0)"
      ]
     },
     "execution_count": 53,
     "metadata": {},
     "output_type": "execute_result"
    }
   ],
   "source": [
    "# fitで特徴選択を実行\n",
    "rfecv2.fit(X, y)"
   ]
  },
  {
   "cell_type": "code",
   "execution_count": 68,
   "metadata": {},
   "outputs": [],
   "source": [
    "#計算結果の保存、読み込み　必要に応じてコメントアウト\n",
    "\n",
    "#with open('rfecv result', 'wb') as web:\n",
    "#    pickle.dump(rfecv2, web)\n",
    "    \n",
    "with open('rfecv result', 'rb') as web:\n",
    "    rfecv2 = pickle.load(web)"
   ]
  },
  {
   "cell_type": "code",
   "execution_count": 55,
   "metadata": {},
   "outputs": [
    {
     "data": {
      "image/png": "[encoded data removed]",
      "text/plain": [
       "<Figure size 432x288 with 1 Axes>"
      ]
     },
     "metadata": {},
     "output_type": "display_data"
    }
   ],
   "source": [
    "# 特徴数とスコアの変化をプロット\n",
    "plt.plot(range(1, len(rfecv2.grid_scores_) + 1), rfecv2.grid_scores_)\n",
    "plt.show()"
   ]
  },
  {
   "cell_type": "code",
   "execution_count": 60,
   "metadata": {},
   "outputs": [
    {
     "data": {
      "text/plain": [
       "Index(['currency_CAD', 'currency_CHF', 'category_Blues',\n",
       "       'category_Children's Books', 'category_Comic Books',\n",
       "       'category_Film & Video', 'category_Glass', 'category_Kids',\n",
       "       'category_Movie Theaters', 'category_Plays', 'category_Poetry',\n",
       "       'category_Quilts', 'category_Small Batch', 'category_World Music',\n",
       "       'country_DE', 'country_SE', 'country_SG'],\n",
       "      dtype='object')"
      ]
     },
     "execution_count": 60,
     "metadata": {},
     "output_type": "execute_result"
    }
   ],
   "source": [
    "# rfecv.support_でランキング1位以外はFalseとするindexを取得\n",
    "# 値を反転させ、削除しても良い特徴の名前を取得する\n",
    "remove_feature = X.columns[~rfecv2.support_]\n",
    "remove_feature"
   ]
  },
  {
   "cell_type": "markdown",
   "metadata": {},
   "source": [
    "ラッパー法による特徴量選択ができた。カテゴリーや通貨、国はデータ数が少ないものも含まれるため、今回は予測に不要という結果になったのではないかと推測される。"
   ]
  },
  {
   "cell_type": "markdown",
   "metadata": {},
   "source": [
    "### 2-3 LASSOによる特徴選択"
   ]
  },
  {
   "cell_type": "code",
   "execution_count": 70,
   "metadata": {},
   "outputs": [],
   "source": [
    "# LassoCVを使って、正則化の強さは自動決定\n",
    "estimator = LassoCV(normalize=True, cv=3)\n",
    "\n",
    "# 今回は係数が1e-5以下である特徴を削除する\n",
    "sfm = SelectFromModel(estimator, threshold=1e-5)"
   ]
  },
  {
   "cell_type": "code",
   "execution_count": 71,
   "metadata": {},
   "outputs": [
    {
     "data": {
      "text/plain": [
       "SelectFromModel(estimator=LassoCV(alphas=None, copy_X=True, cv=3, eps=0.001, fit_intercept=True,\n",
       "    max_iter=1000, n_alphas=100, n_jobs=1, normalize=True, positive=False,\n",
       "    precompute='auto', random_state=None, selection='cyclic', tol=0.0001,\n",
       "    verbose=False),\n",
       "        norm_order=1, prefit=False, threshold=1e-05)"
      ]
     },
     "execution_count": 71,
     "metadata": {},
     "output_type": "execute_result"
    }
   ],
   "source": [
    "# fitで特徴選択を実行\n",
    "sfm.fit(X, y)"
   ]
  },
  {
   "cell_type": "code",
   "execution_count": 73,
   "metadata": {},
   "outputs": [
    {
     "data": {
      "text/plain": [
       "Index(['main_category_Film & Video', 'main_category_Games',\n",
       "       'main_category_Journalism', 'currency_CAD', 'currency_GBP',\n",
       "       'currency_NOK', 'currency_SGD', 'category_Children's Books',\n",
       "       'category_Civic Design', 'category_Conceptual Art', 'category_Crafts',\n",
       "       'category_Design', 'category_Fashion', 'category_Horror',\n",
       "       'category_Photography', 'category_Small Batch', 'category_World Music',\n",
       "       'country_AU', 'country_DE', 'country_DK', 'country_GB', 'country_SE',\n",
       "       'country_US'],\n",
       "      dtype='object')"
      ]
     },
     "execution_count": 73,
     "metadata": {},
     "output_type": "execute_result"
    }
   ],
   "source": [
    "#削除しても良い特徴量を抽出\n",
    "remove_feature = X.columns[~sfm.get_support()]\n",
    "remove_feature"
   ]
  },
  {
   "cell_type": "markdown",
   "metadata": {},
   "source": [
    "LASSOによる特徴量選択を行うことができた。ラッパー法よりも計算時間は短かった。\n",
    "不要な特徴量はフィルター方でも推測した通り、カテゴリー、メインカテゴリー、国、通貨の一部であった。係数の値の大きいものについて確認する。"
   ]
  },
  {
   "cell_type": "code",
   "execution_count": 86,
   "metadata": {},
   "outputs": [
    {
     "data": {
      "text/html": [
       "<div>\n",
       "<style scoped>\n",
       "    .dataframe tbody tr th:only-of-type {\n",
       "        vertical-align: middle;\n",
       "    }\n",
       "\n",
       "    .dataframe tbody tr th {\n",
       "        vertical-align: top;\n",
       "    }\n",
       "\n",
       "    .dataframe thead th {\n",
       "        text-align: right;\n",
       "    }\n",
       "</style>\n",
       "<table border=\"1\" class=\"dataframe\">\n",
       "  <thead>\n",
       "    <tr style=\"text-align: right;\">\n",
       "      <th></th>\n",
       "      <th>name</th>\n",
       "      <th>abs_coef</th>\n",
       "    </tr>\n",
       "  </thead>\n",
       "  <tbody>\n",
       "    <tr>\n",
       "      <th>0</th>\n",
       "      <td>usd_goal_real_std</td>\n",
       "      <td>0.0105319</td>\n",
       "    </tr>\n",
       "    <tr>\n",
       "      <th>1</th>\n",
       "      <td>name_length_std</td>\n",
       "      <td>0.0456952</td>\n",
       "    </tr>\n",
       "    <tr>\n",
       "      <th>2</th>\n",
       "      <td>delta_std</td>\n",
       "      <td>0.0542882</td>\n",
       "    </tr>\n",
       "    <tr>\n",
       "      <th>3</th>\n",
       "      <td>main_category_Art</td>\n",
       "      <td>0.0170072</td>\n",
       "    </tr>\n",
       "    <tr>\n",
       "      <th>4</th>\n",
       "      <td>main_category_Comics</td>\n",
       "      <td>0.149696</td>\n",
       "    </tr>\n",
       "  </tbody>\n",
       "</table>\n",
       "</div>"
      ],
      "text/plain": [
       "                   name   abs_coef\n",
       "0     usd_goal_real_std  0.0105319\n",
       "1       name_length_std  0.0456952\n",
       "2             delta_std  0.0542882\n",
       "3     main_category_Art  0.0170072\n",
       "4  main_category_Comics   0.149696"
      ]
     },
     "execution_count": 86,
     "metadata": {},
     "output_type": "execute_result"
    }
   ],
   "source": [
    "# 説明変数の名前とその係数の絶対値をData Frameに\n",
    "abs_coef = np.abs(sfm.estimator_.coef_)\n",
    "d = np.array([X.columns.values, abs_coef])\n",
    "df_coef = pd.DataFrame(d.T, columns=['name', \"abs_coef\"])\n",
    "df_coef.head()\n"
   ]
  },
  {
   "cell_type": "code",
   "execution_count": 89,
   "metadata": {},
   "outputs": [
    {
     "data": {
      "text/html": [
       "<div>\n",
       "<style scoped>\n",
       "    .dataframe tbody tr th:only-of-type {\n",
       "        vertical-align: middle;\n",
       "    }\n",
       "\n",
       "    .dataframe tbody tr th {\n",
       "        vertical-align: top;\n",
       "    }\n",
       "\n",
       "    .dataframe thead th {\n",
       "        text-align: right;\n",
       "    }\n",
       "</style>\n",
       "<table border=\"1\" class=\"dataframe\">\n",
       "  <thead>\n",
       "    <tr style=\"text-align: right;\">\n",
       "      <th></th>\n",
       "      <th>name</th>\n",
       "      <th>abs_coef</th>\n",
       "    </tr>\n",
       "  </thead>\n",
       "  <tbody>\n",
       "    <tr>\n",
       "      <th>113</th>\n",
       "      <td>category_Letterpress</td>\n",
       "      <td>0.365841</td>\n",
       "    </tr>\n",
       "    <tr>\n",
       "      <th>115</th>\n",
       "      <td>category_Literary Spaces</td>\n",
       "      <td>0.343227</td>\n",
       "    </tr>\n",
       "    <tr>\n",
       "      <th>154</th>\n",
       "      <td>category_Residencies</td>\n",
       "      <td>0.31523</td>\n",
       "    </tr>\n",
       "    <tr>\n",
       "      <th>53</th>\n",
       "      <td>category_Chiptune</td>\n",
       "      <td>0.31119</td>\n",
       "    </tr>\n",
       "    <tr>\n",
       "      <th>100</th>\n",
       "      <td>category_Hip-Hop</td>\n",
       "      <td>0.292933</td>\n",
       "    </tr>\n",
       "  </tbody>\n",
       "</table>\n",
       "</div>"
      ],
      "text/plain": [
       "                         name  abs_coef\n",
       "113      category_Letterpress  0.365841\n",
       "115  category_Literary Spaces  0.343227\n",
       "154      category_Residencies   0.31523\n",
       "53          category_Chiptune   0.31119\n",
       "100          category_Hip-Hop  0.292933"
      ]
     },
     "execution_count": 89,
     "metadata": {},
     "output_type": "execute_result"
    }
   ],
   "source": [
    "# abs_coefの値で並び替え\n",
    "df_coef = df_coef.sort_values('abs_coef', ascending = False)\n",
    "df_coef.head()"
   ]
  },
  {
   "cell_type": "code",
   "execution_count": 92,
   "metadata": {},
   "outputs": [
    {
     "data": {
      "image/png": "[encoded data removed]",
      "text/plain": [
       "<Figure size 432x288 with 1 Axes>"
      ]
     },
     "metadata": {},
     "output_type": "display_data"
    }
   ],
   "source": [
    "# 係数を棒グラフで表示\n",
    "l = 20 #上位l件を表示\n",
    "plt.barh(np.arange(0, l), df_coef.head(l)['abs_coef'], tick_label=df_coef.head(l)['name'])\n",
    "plt.show()"
   ]
  },
  {
   "cell_type": "markdown",
   "metadata": {},
   "source": [
    "カテゴリーの係数が大きいという結果になっていた。"
   ]
  },
  {
   "cell_type": "markdown",
   "metadata": {},
   "source": [
    "## 3.木モデルによる予測"
   ]
  },
  {
   "cell_type": "markdown",
   "metadata": {},
   "source": [
    "#### 決定木、ランダムフォレスト、アダブーストによる予測モデルの構築を行い、ハイパーパラメータのチューニング、モデルの評価を行う。"
   ]
  },
  {
   "cell_type": "markdown",
   "metadata": {},
   "source": [
    "### 3-1 データの前処理\n",
    "これまではcategory, currency等はOne-Hot エンコーディングによって扱っていたが、決定木を用いる際はLabelEncoderを使用して、低次元化し計算料の低減を図る。"
   ]
  },
  {
   "cell_type": "code",
   "execution_count": 63,
   "metadata": {},
   "outputs": [
    {
     "data": {
      "text/html": [
       "<div>\n",
       "<style scoped>\n",
       "    .dataframe tbody tr th:only-of-type {\n",
       "        vertical-align: middle;\n",
       "    }\n",
       "\n",
       "    .dataframe tbody tr th {\n",
       "        vertical-align: top;\n",
       "    }\n",
       "\n",
       "    .dataframe thead th {\n",
       "        text-align: right;\n",
       "    }\n",
       "</style>\n",
       "<table border=\"1\" class=\"dataframe\">\n",
       "  <thead>\n",
       "    <tr style=\"text-align: right;\">\n",
       "      <th></th>\n",
       "      <th>name</th>\n",
       "      <th>category</th>\n",
       "      <th>main_category</th>\n",
       "      <th>currency</th>\n",
       "      <th>deadline</th>\n",
       "      <th>goal</th>\n",
       "      <th>launched</th>\n",
       "      <th>state</th>\n",
       "      <th>country</th>\n",
       "      <th>usd_goal_real</th>\n",
       "      <th>name_length</th>\n",
       "      <th>delta</th>\n",
       "    </tr>\n",
       "  </thead>\n",
       "  <tbody>\n",
       "    <tr>\n",
       "      <td>0</td>\n",
       "      <td>Monarch Espresso Bar</td>\n",
       "      <td>Restaurants</td>\n",
       "      <td>Food</td>\n",
       "      <td>USD</td>\n",
       "      <td>2016-04-01 00:00:00</td>\n",
       "      <td>50000.0</td>\n",
       "      <td>2016-02-26 13:38:27</td>\n",
       "      <td>1</td>\n",
       "      <td>US</td>\n",
       "      <td>50000.00</td>\n",
       "      <td>3</td>\n",
       "      <td>34</td>\n",
       "    </tr>\n",
       "    <tr>\n",
       "      <td>1</td>\n",
       "      <td>Support Solar Roasted Coffee &amp; Green Energy!  ...</td>\n",
       "      <td>Food</td>\n",
       "      <td>Food</td>\n",
       "      <td>USD</td>\n",
       "      <td>2014-12-21 00:00:00</td>\n",
       "      <td>1000.0</td>\n",
       "      <td>2014-12-01 18:30:44</td>\n",
       "      <td>1</td>\n",
       "      <td>US</td>\n",
       "      <td>1000.00</td>\n",
       "      <td>8</td>\n",
       "      <td>19</td>\n",
       "    </tr>\n",
       "    <tr>\n",
       "      <td>2</td>\n",
       "      <td>Lisa Lim New CD!</td>\n",
       "      <td>Indie Rock</td>\n",
       "      <td>Music</td>\n",
       "      <td>USD</td>\n",
       "      <td>2013-04-08 00:00:00</td>\n",
       "      <td>12500.0</td>\n",
       "      <td>2013-03-09 06:42:58</td>\n",
       "      <td>1</td>\n",
       "      <td>US</td>\n",
       "      <td>12500.00</td>\n",
       "      <td>4</td>\n",
       "      <td>29</td>\n",
       "    </tr>\n",
       "    <tr>\n",
       "      <td>3</td>\n",
       "      <td>Tombstone: Old West tabletop game and miniatur...</td>\n",
       "      <td>Tabletop Games</td>\n",
       "      <td>Games</td>\n",
       "      <td>GBP</td>\n",
       "      <td>2017-05-03 00:00:00</td>\n",
       "      <td>5000.0</td>\n",
       "      <td>2017-04-05 19:44:18</td>\n",
       "      <td>1</td>\n",
       "      <td>GB</td>\n",
       "      <td>6469.73</td>\n",
       "      <td>9</td>\n",
       "      <td>27</td>\n",
       "    </tr>\n",
       "    <tr>\n",
       "      <td>4</td>\n",
       "      <td>Mike Corey's Darkness &amp; Light Album</td>\n",
       "      <td>Music</td>\n",
       "      <td>Music</td>\n",
       "      <td>USD</td>\n",
       "      <td>2012-08-17 00:00:00</td>\n",
       "      <td>250.0</td>\n",
       "      <td>2012-08-02 14:11:32</td>\n",
       "      <td>1</td>\n",
       "      <td>US</td>\n",
       "      <td>250.00</td>\n",
       "      <td>6</td>\n",
       "      <td>14</td>\n",
       "    </tr>\n",
       "  </tbody>\n",
       "</table>\n",
       "</div>"
      ],
      "text/plain": [
       "                                                name        category  \\\n",
       "0                               Monarch Espresso Bar     Restaurants   \n",
       "1  Support Solar Roasted Coffee & Green Energy!  ...            Food   \n",
       "2                                   Lisa Lim New CD!      Indie Rock   \n",
       "3  Tombstone: Old West tabletop game and miniatur...  Tabletop Games   \n",
       "4                Mike Corey's Darkness & Light Album           Music   \n",
       "\n",
       "  main_category currency             deadline     goal             launched  \\\n",
       "0          Food      USD  2016-04-01 00:00:00  50000.0  2016-02-26 13:38:27   \n",
       "1          Food      USD  2014-12-21 00:00:00   1000.0  2014-12-01 18:30:44   \n",
       "2         Music      USD  2013-04-08 00:00:00  12500.0  2013-03-09 06:42:58   \n",
       "3         Games      GBP  2017-05-03 00:00:00   5000.0  2017-04-05 19:44:18   \n",
       "4         Music      USD  2012-08-17 00:00:00    250.0  2012-08-02 14:11:32   \n",
       "\n",
       "   state country  usd_goal_real  name_length  delta  \n",
       "0      1      US       50000.00            3     34  \n",
       "1      1      US        1000.00            8     19  \n",
       "2      1      US       12500.00            4     29  \n",
       "3      1      GB        6469.73            9     27  \n",
       "4      1      US         250.00            6     14  "
      ]
     },
     "execution_count": 63,
     "metadata": {},
     "output_type": "execute_result"
    }
   ],
   "source": [
    "#データの読み込み Day1でダミー変数の追加以外の処理を行った後のデータを読み込む。\n",
    "# Day1では 全てのデータの値を用いて、標準化を行っていたので、一旦標準化を行った_stdの列を削除し、訓練データの値を基にやりなおす。(Day2指摘事項対応)\n",
    "df_day3 = pd.read_csv('Day1.csv').drop(['usd_goal_real_std', 'name_length_std', 'delta_std'], axis=1)\n",
    "df_day3.head()"
   ]
  },
  {
   "cell_type": "code",
   "execution_count": 64,
   "metadata": {},
   "outputs": [
    {
     "data": {
      "text/html": [
       "<div>\n",
       "<style scoped>\n",
       "    .dataframe tbody tr th:only-of-type {\n",
       "        vertical-align: middle;\n",
       "    }\n",
       "\n",
       "    .dataframe tbody tr th {\n",
       "        vertical-align: top;\n",
       "    }\n",
       "\n",
       "    .dataframe thead th {\n",
       "        text-align: right;\n",
       "    }\n",
       "</style>\n",
       "<table border=\"1\" class=\"dataframe\">\n",
       "  <thead>\n",
       "    <tr style=\"text-align: right;\">\n",
       "      <th></th>\n",
       "      <th>name</th>\n",
       "      <th>category</th>\n",
       "      <th>main_category</th>\n",
       "      <th>currency</th>\n",
       "      <th>deadline</th>\n",
       "      <th>goal</th>\n",
       "      <th>launched</th>\n",
       "      <th>state</th>\n",
       "      <th>country</th>\n",
       "      <th>usd_goal_real</th>\n",
       "      <th>name_length</th>\n",
       "      <th>delta</th>\n",
       "    </tr>\n",
       "  </thead>\n",
       "  <tbody>\n",
       "    <tr>\n",
       "      <td>0</td>\n",
       "      <td>Monarch Espresso Bar</td>\n",
       "      <td>123</td>\n",
       "      <td>7</td>\n",
       "      <td>13</td>\n",
       "      <td>2016-04-01 00:00:00</td>\n",
       "      <td>50000.0</td>\n",
       "      <td>2016-02-26 13:38:27</td>\n",
       "      <td>1</td>\n",
       "      <td>22</td>\n",
       "      <td>50000.00</td>\n",
       "      <td>3</td>\n",
       "      <td>34</td>\n",
       "    </tr>\n",
       "    <tr>\n",
       "      <td>1</td>\n",
       "      <td>Support Solar Roasted Coffee &amp; Green Energy!  ...</td>\n",
       "      <td>58</td>\n",
       "      <td>7</td>\n",
       "      <td>13</td>\n",
       "      <td>2014-12-21 00:00:00</td>\n",
       "      <td>1000.0</td>\n",
       "      <td>2014-12-01 18:30:44</td>\n",
       "      <td>1</td>\n",
       "      <td>22</td>\n",
       "      <td>1000.00</td>\n",
       "      <td>8</td>\n",
       "      <td>19</td>\n",
       "    </tr>\n",
       "    <tr>\n",
       "      <td>2</td>\n",
       "      <td>Lisa Lim New CD!</td>\n",
       "      <td>72</td>\n",
       "      <td>10</td>\n",
       "      <td>13</td>\n",
       "      <td>2013-04-08 00:00:00</td>\n",
       "      <td>12500.0</td>\n",
       "      <td>2013-03-09 06:42:58</td>\n",
       "      <td>1</td>\n",
       "      <td>22</td>\n",
       "      <td>12500.00</td>\n",
       "      <td>4</td>\n",
       "      <td>29</td>\n",
       "    </tr>\n",
       "    <tr>\n",
       "      <td>3</td>\n",
       "      <td>Tombstone: Old West tabletop game and miniatur...</td>\n",
       "      <td>136</td>\n",
       "      <td>8</td>\n",
       "      <td>5</td>\n",
       "      <td>2017-05-03 00:00:00</td>\n",
       "      <td>5000.0</td>\n",
       "      <td>2017-04-05 19:44:18</td>\n",
       "      <td>1</td>\n",
       "      <td>9</td>\n",
       "      <td>6469.73</td>\n",
       "      <td>9</td>\n",
       "      <td>27</td>\n",
       "    </tr>\n",
       "    <tr>\n",
       "      <td>4</td>\n",
       "      <td>Mike Corey's Darkness &amp; Light Album</td>\n",
       "      <td>90</td>\n",
       "      <td>10</td>\n",
       "      <td>13</td>\n",
       "      <td>2012-08-17 00:00:00</td>\n",
       "      <td>250.0</td>\n",
       "      <td>2012-08-02 14:11:32</td>\n",
       "      <td>1</td>\n",
       "      <td>22</td>\n",
       "      <td>250.00</td>\n",
       "      <td>6</td>\n",
       "      <td>14</td>\n",
       "    </tr>\n",
       "  </tbody>\n",
       "</table>\n",
       "</div>"
      ],
      "text/plain": [
       "                                                name  category  main_category  \\\n",
       "0                               Monarch Espresso Bar       123              7   \n",
       "1  Support Solar Roasted Coffee & Green Energy!  ...        58              7   \n",
       "2                                   Lisa Lim New CD!        72             10   \n",
       "3  Tombstone: Old West tabletop game and miniatur...       136              8   \n",
       "4                Mike Corey's Darkness & Light Album        90             10   \n",
       "\n",
       "   currency             deadline     goal             launched  state  \\\n",
       "0        13  2016-04-01 00:00:00  50000.0  2016-02-26 13:38:27      1   \n",
       "1        13  2014-12-21 00:00:00   1000.0  2014-12-01 18:30:44      1   \n",
       "2        13  2013-04-08 00:00:00  12500.0  2013-03-09 06:42:58      1   \n",
       "3         5  2017-05-03 00:00:00   5000.0  2017-04-05 19:44:18      1   \n",
       "4        13  2012-08-17 00:00:00    250.0  2012-08-02 14:11:32      1   \n",
       "\n",
       "   country  usd_goal_real  name_length  delta  \n",
       "0       22       50000.00            3     34  \n",
       "1       22        1000.00            8     19  \n",
       "2       22       12500.00            4     29  \n",
       "3        9        6469.73            9     27  \n",
       "4       22         250.00            6     14  "
      ]
     },
     "execution_count": 64,
     "metadata": {},
     "output_type": "execute_result"
    }
   ],
   "source": [
    "#LabelEncoderのインスタンスを生成\n",
    "le = LabelEncoder()\n",
    "\n",
    "#categoryに出てくるカテゴリを数値に変換\n",
    "le = le.fit(df_day3['category'])\n",
    "df_day3['category'] = le.transform(df_day3['category'])\n",
    "\n",
    "#main_categoryに出てくるカテゴリを数値に変換\n",
    "le = le.fit(df_day3['main_category'])\n",
    "df_day3['main_category'] = le.transform(df_day3['main_category'])\n",
    "\n",
    "#currencyに出てくるカテゴリを数値に変換\n",
    "le = le.fit(df_day3['currency'])\n",
    "df_day3['currency'] = le.transform(df_day3['currency'])\n",
    "\n",
    "#categoryに出てくるカテゴリを数値に変換\n",
    "le = le.fit(df_day3['country'])\n",
    "df_day3['country'] = le.transform(df_day3['country'])\n",
    "\n",
    "df_day3.head()"
   ]
  },
  {
   "cell_type": "code",
   "execution_count": 65,
   "metadata": {},
   "outputs": [
    {
     "data": {
      "text/html": [
       "<div>\n",
       "<style scoped>\n",
       "    .dataframe tbody tr th:only-of-type {\n",
       "        vertical-align: middle;\n",
       "    }\n",
       "\n",
       "    .dataframe tbody tr th {\n",
       "        vertical-align: top;\n",
       "    }\n",
       "\n",
       "    .dataframe thead th {\n",
       "        text-align: right;\n",
       "    }\n",
       "</style>\n",
       "<table border=\"1\" class=\"dataframe\">\n",
       "  <thead>\n",
       "    <tr style=\"text-align: right;\">\n",
       "      <th></th>\n",
       "      <th>category</th>\n",
       "      <th>main_category</th>\n",
       "      <th>currency</th>\n",
       "      <th>country</th>\n",
       "      <th>usd_goal_real</th>\n",
       "      <th>name_length</th>\n",
       "      <th>delta</th>\n",
       "    </tr>\n",
       "  </thead>\n",
       "  <tbody>\n",
       "    <tr>\n",
       "      <td>0</td>\n",
       "      <td>123</td>\n",
       "      <td>7</td>\n",
       "      <td>13</td>\n",
       "      <td>22</td>\n",
       "      <td>50000.00</td>\n",
       "      <td>3</td>\n",
       "      <td>34</td>\n",
       "    </tr>\n",
       "    <tr>\n",
       "      <td>1</td>\n",
       "      <td>58</td>\n",
       "      <td>7</td>\n",
       "      <td>13</td>\n",
       "      <td>22</td>\n",
       "      <td>1000.00</td>\n",
       "      <td>8</td>\n",
       "      <td>19</td>\n",
       "    </tr>\n",
       "    <tr>\n",
       "      <td>2</td>\n",
       "      <td>72</td>\n",
       "      <td>10</td>\n",
       "      <td>13</td>\n",
       "      <td>22</td>\n",
       "      <td>12500.00</td>\n",
       "      <td>4</td>\n",
       "      <td>29</td>\n",
       "    </tr>\n",
       "    <tr>\n",
       "      <td>3</td>\n",
       "      <td>136</td>\n",
       "      <td>8</td>\n",
       "      <td>5</td>\n",
       "      <td>9</td>\n",
       "      <td>6469.73</td>\n",
       "      <td>9</td>\n",
       "      <td>27</td>\n",
       "    </tr>\n",
       "    <tr>\n",
       "      <td>4</td>\n",
       "      <td>90</td>\n",
       "      <td>10</td>\n",
       "      <td>13</td>\n",
       "      <td>22</td>\n",
       "      <td>250.00</td>\n",
       "      <td>6</td>\n",
       "      <td>14</td>\n",
       "    </tr>\n",
       "  </tbody>\n",
       "</table>\n",
       "</div>"
      ],
      "text/plain": [
       "   category  main_category  currency  country  usd_goal_real  name_length  \\\n",
       "0       123              7        13       22       50000.00            3   \n",
       "1        58              7        13       22        1000.00            8   \n",
       "2        72             10        13       22       12500.00            4   \n",
       "3       136              8         5        9        6469.73            9   \n",
       "4        90             10        13       22         250.00            6   \n",
       "\n",
       "   delta  \n",
       "0     34  \n",
       "1     19  \n",
       "2     29  \n",
       "3     27  \n",
       "4     14  "
      ]
     },
     "execution_count": 65,
     "metadata": {},
     "output_type": "execute_result"
    }
   ],
   "source": [
    "X = df_day3.drop(['state', 'name', 'deadline', 'launched', 'goal'], axis=1)\n",
    "y = df_day3['state']\n",
    "X_train, X_test, y_train, y_test = train_test_split(X, y, test_size = 0.2, random_state=1234)\n",
    "X.head()"
   ]
  },
  {
   "cell_type": "code",
   "execution_count": 66,
   "metadata": {},
   "outputs": [
    {
     "name": "stderr",
     "output_type": "stream",
     "text": [
      "C:\\python\\lib\\site-packages\\pandas\\core\\indexing.py:494: SettingWithCopyWarning: \n",
      "A value is trying to be set on a copy of a slice from a DataFrame.\n",
      "Try using .loc[row_indexer,col_indexer] = value instead\n",
      "\n",
      "See the caveats in the documentation: http://pandas.pydata.org/pandas-docs/stable/user_guide/indexing.html#returning-a-view-versus-a-copy\n",
      "  self.obj[item] = s\n",
      "C:\\python\\lib\\site-packages\\pandas\\core\\indexing.py:494: SettingWithCopyWarning: \n",
      "A value is trying to be set on a copy of a slice from a DataFrame.\n",
      "Try using .loc[row_indexer,col_indexer] = value instead\n",
      "\n",
      "See the caveats in the documentation: http://pandas.pydata.org/pandas-docs/stable/user_guide/indexing.html#returning-a-view-versus-a-copy\n",
      "  self.obj[item] = s\n"
     ]
    }
   ],
   "source": [
    "#量的変数の標準化\n",
    "stdc =  StandardScaler()\n",
    "stdc.fit(X_train.loc[:, [\"usd_goal_real\", \"name_length\", \"delta\"]])\n",
    "X_train.loc[:, [\"usd_goal_real\", \"name_length\", \"delta\"]] = stdc.transform(X_train.loc[:, [\"usd_goal_real\", \"name_length\", \"delta\"]])                                                                    \n",
    "X_test.loc[:, [\"usd_goal_real\", \"name_length\", \"delta\"]] = stdc.transform(X_test.loc[:, [\"usd_goal_real\", \"name_length\", \"delta\"]])"
   ]
  },
  {
   "cell_type": "markdown",
   "metadata": {},
   "source": [
    "### 3-2 決定木"
   ]
  },
  {
   "cell_type": "code",
   "execution_count": 61,
   "metadata": {},
   "outputs": [
    {
     "name": "stdout",
     "output_type": "stream",
     "text": [
      "score= 0.621438263229308\n"
     ]
    }
   ],
   "source": [
    "clf_tree = DecisionTreeClassifier(criterion=\"gini\", max_depth=3, min_samples_split=3, min_samples_leaf=3, random_state=1234)\n",
    "clf_tree.fit(X_train, y_train)\n",
    "print(\"score=\", clf_tree.score(X_test, y_test))"
   ]
  },
  {
   "cell_type": "markdown",
   "metadata": {},
   "source": [
    "決定木による予測を行うことができた。決定木の可視化を試みる。"
   ]
  },
  {
   "cell_type": "code",
   "execution_count": 62,
   "metadata": {},
   "outputs": [
    {
     "data": {
      "image/png": "[encoded data removed]",
      "text/plain": [
       "<Figure size 1080x576 with 1 Axes>"
      ]
     },
     "metadata": {
      "needs_background": "light"
     },
     "output_type": "display_data"
    }
   ],
   "source": [
    "from sklearn.tree import plot_tree\n",
    "\n",
    "fig = plt.figure(figsize=(15, 8))\n",
    "ax = fig.add_subplot(111)\n",
    "plot_tree(clf_tree, feature_names=X_train.columns, ax=ax, class_names=[\"failed\", \"successful\"], filled=True);"
   ]
  },
  {
   "cell_type": "markdown",
   "metadata": {},
   "source": [
    "決定木を可視化することができた。"
   ]
  },
  {
   "cell_type": "markdown",
   "metadata": {},
   "source": [
    "### 3-3 ランダムフォレストモデルの構築"
   ]
  },
  {
   "cell_type": "code",
   "execution_count": 67,
   "metadata": {},
   "outputs": [
    {
     "name": "stdout",
     "output_type": "stream",
     "text": [
      "score= 0.6442183024272576\n"
     ]
    }
   ],
   "source": [
    "clfrf = RandomForestClassifier(n_estimators=10, max_depth=5, criterion=\"gini\",\n",
    "                                                 min_samples_leaf=2, min_samples_split=2, random_state=1234)\n",
    "clfrf.fit(X_train, y_train)\n",
    "print(\"score=\", clfrf.score(X_test, y_test))"
   ]
  },
  {
   "cell_type": "markdown",
   "metadata": {},
   "source": [
    "ランダムフォレストによる予測を行うことができた。精度向上のため、グリッドサーチによるハイパーパラメータのチューニングを行う。"
   ]
  },
  {
   "cell_type": "code",
   "execution_count": 68,
   "metadata": {},
   "outputs": [
    {
     "data": {
      "text/plain": [
       "GridSearchCV(cv=3, error_score='raise-deprecating',\n",
       "             estimator=RandomForestClassifier(bootstrap=True, class_weight=None,\n",
       "                                              criterion='gini', max_depth=None,\n",
       "                                              max_features='auto',\n",
       "                                              max_leaf_nodes=None,\n",
       "                                              min_impurity_decrease=0.0,\n",
       "                                              min_impurity_split=None,\n",
       "                                              min_samples_leaf=1,\n",
       "                                              min_samples_split=2,\n",
       "                                              min_weight_fraction_leaf=0.0,\n",
       "                                              n_estimators='warn', n_jobs=None,\n",
       "                                              oob_score=False,\n",
       "                                              random_state=1234, verbose=0,\n",
       "                                              warm_start=False),\n",
       "             iid='warn', n_jobs=None,\n",
       "             param_grid={'max_depth': [2, 5, 10, 20],\n",
       "                         'min_samples_leaf': [2, 5, 10],\n",
       "                         'min_samples_split': [2, 5, 10],\n",
       "                         'n_estimators': [10, 15, 20]},\n",
       "             pre_dispatch='2*n_jobs', refit=True, return_train_score=False,\n",
       "             scoring=None, verbose=0)"
      ]
     },
     "execution_count": 68,
     "metadata": {},
     "output_type": "execute_result"
    }
   ],
   "source": [
    "#グリッドサーチによるパラメータの最適化\n",
    "parameters = {'n_estimators':[10, 15, 20], 'max_depth':[2, 5, 10, 20], 'min_samples_leaf':[2, 5, 10], 'min_samples_split':[2, 5, 10]} \n",
    "model = RandomForestClassifier(criterion=\"gini\",random_state=1234)\n",
    "clfrf_best = GridSearchCV(model, parameters, cv=3,)\n",
    "clfrf_best.fit(X_train, y_train)"
   ]
  },
  {
   "cell_type": "code",
   "execution_count": 69,
   "metadata": {},
   "outputs": [
    {
     "name": "stdout",
     "output_type": "stream",
     "text": [
      "{'max_depth': 20, 'min_samples_leaf': 10, 'min_samples_split': 2, 'n_estimators': 20} 0.6818586138792987\n"
     ]
    }
   ],
   "source": [
    "print(clfrf_best.best_params_, clfrf_best.best_score_)"
   ]
  },
  {
   "cell_type": "code",
   "execution_count": 70,
   "metadata": {},
   "outputs": [],
   "source": [
    "#計算結果の保存、読み込み　必要に応じてコメントアウト\n",
    "\n",
    "with open('rf result', 'wb') as web:\n",
    "    pickle.dump(clfrf_best, web)\n",
    "    \n",
    "with open('rf result', 'rb') as web:\n",
    "    clfrf_best = pickle.load(web)"
   ]
  },
  {
   "cell_type": "markdown",
   "metadata": {},
   "source": [
    "グリッドサーチによるパラメータのチューニングを行った。\n",
    "max_depth, n_estimatos, min_samples_leafを更に値を大きくすることでさらに精度が向上する可能性がある。\n",
    "チューニングしたパラメータを用いて、学習、最終テストデータの予測を行い、精度を評価する。"
   ]
  },
  {
   "cell_type": "code",
   "execution_count": 71,
   "metadata": {},
   "outputs": [
    {
     "name": "stdout",
     "output_type": "stream",
     "text": [
      "識別精度= 0.680325644504749\n"
     ]
    }
   ],
   "source": [
    "#チューニングしたパラメータを用いて学習を行い、最終テストデータを予測し精度を出す。\n",
    "clf_rfb =  RandomForestClassifier(**clfrf_best.best_params_)\n",
    "clf_rfb.fit(X_train, y_train)\n",
    "print(\"識別精度=\",clf_rfb.score(X_test, y_test))"
   ]
  },
  {
   "cell_type": "code",
   "execution_count": 72,
   "metadata": {},
   "outputs": [
    {
     "name": "stdout",
     "output_type": "stream",
     "text": [
      "              precision    recall  f1-score   support\n",
      "\n",
      "      failed       0.70      0.80      0.75     39695\n",
      "  successful       0.63      0.50      0.56     26635\n",
      "\n",
      "    accuracy                           0.68     66330\n",
      "   macro avg       0.67      0.65      0.65     66330\n",
      "weighted avg       0.67      0.68      0.67     66330\n",
      "\n"
     ]
    },
    {
     "data": {
      "text/html": [
       "<div>\n",
       "<style scoped>\n",
       "    .dataframe tbody tr th:only-of-type {\n",
       "        vertical-align: middle;\n",
       "    }\n",
       "\n",
       "    .dataframe tbody tr th {\n",
       "        vertical-align: top;\n",
       "    }\n",
       "\n",
       "    .dataframe thead th {\n",
       "        text-align: right;\n",
       "    }\n",
       "</style>\n",
       "<table border=\"1\" class=\"dataframe\">\n",
       "  <thead>\n",
       "    <tr style=\"text-align: right;\">\n",
       "      <th></th>\n",
       "      <th>予測 = failed</th>\n",
       "      <th>予測 = successful</th>\n",
       "    </tr>\n",
       "  </thead>\n",
       "  <tbody>\n",
       "    <tr>\n",
       "      <td>正解 = failed</td>\n",
       "      <td>31866</td>\n",
       "      <td>7829</td>\n",
       "    </tr>\n",
       "    <tr>\n",
       "      <td>正解 = successful</td>\n",
       "      <td>13375</td>\n",
       "      <td>13260</td>\n",
       "    </tr>\n",
       "  </tbody>\n",
       "</table>\n",
       "</div>"
      ],
      "text/plain": [
       "                 予測 = failed  予測 = successful\n",
       "正解 = failed            31866             7829\n",
       "正解 = successful        13375            13260"
      ]
     },
     "metadata": {},
     "output_type": "display_data"
    }
   ],
   "source": [
    "#　混同行列を表示\n",
    "y_est = clf_rfb.predict(X_test)\n",
    "target_names = ['failed', 'successful']\n",
    "print(metrics.classification_report(y_test, y_est,target_names=target_names))\n",
    "conf_mat_test = pd.DataFrame(confusion_matrix(y_test, y_est), \n",
    "                        index=['正解 = failed', '正解 = successful'], \n",
    "                        columns=['予測 = failed', '予測 = successful'])\n",
    "\n",
    "display(conf_mat_test)\n"
   ]
  },
  {
   "cell_type": "code",
   "execution_count": 73,
   "metadata": {},
   "outputs": [
    {
     "name": "stdout",
     "output_type": "stream",
     "text": [
      "[0.20724826 0.13514987 0.02156941 0.0214184  0.32600345 0.10886608\n",
      " 0.17974454]\n"
     ]
    },
    {
     "data": {
      "image/png": "[encoded data removed]",
      "text/plain": [
       "<Figure size 720x360 with 1 Axes>"
      ]
     },
     "metadata": {
      "needs_background": "light"
     },
     "output_type": "display_data"
    }
   ],
   "source": [
    "#各特徴量の重要度を表示\n",
    "print(clf_rfb.feature_importances_)\n",
    "pd.DataFrame(clf_rfb.feature_importances_, index=X.columns.values).plot.bar(figsize=(10,5))\n",
    "plt.ylabel(\"Importance\")\n",
    "plt.xlabel(\"Features\")\n",
    "plt.show()"
   ]
  },
  {
   "cell_type": "markdown",
   "metadata": {},
   "source": [
    "ランダムフォレストモデルはこれまでで最高の精度であった。変数の数を削減したこともあり、計算も高速であった。\n",
    "各特徴量についてはcategory, usd_goal_realが重要で、currency, countyrはそれほど重要でないという結果であった。"
   ]
  },
  {
   "cell_type": "markdown",
   "metadata": {},
   "source": [
    "### 3-4 アダブースト"
   ]
  },
  {
   "cell_type": "code",
   "execution_count": 74,
   "metadata": {},
   "outputs": [
    {
     "name": "stdout",
     "output_type": "stream",
     "text": [
      "score= 0.6787577265189205\n"
     ]
    }
   ],
   "source": [
    "clf_ab = AdaBoostClassifier(DecisionTreeClassifier(max_depth=7, min_samples_leaf=5, min_samples_split=2, random_state=1234,\n",
    "                                                criterion=\"gini\"),n_estimators=10, random_state=1234)\n",
    "clf_ab.fit(X_train, y_train)\n",
    "print(\"score=\", clf_ab.score(X_test, y_test))"
   ]
  },
  {
   "cell_type": "markdown",
   "metadata": {},
   "source": [
    "アダブーストによる予測を行うことができた。精度向上のため、グリッドサーチによるハイパーパラメータのチューニングを行う。"
   ]
  },
  {
   "cell_type": "code",
   "execution_count": 75,
   "metadata": {},
   "outputs": [
    {
     "data": {
      "text/plain": [
       "GridSearchCV(cv=3, error_score='raise-deprecating',\n",
       "             estimator=AdaBoostClassifier(algorithm='SAMME.R',\n",
       "                                          base_estimator=None,\n",
       "                                          learning_rate=1.0, n_estimators=15,\n",
       "                                          random_state=1234),\n",
       "             iid='warn', n_jobs=None,\n",
       "             param_grid={'base_estimator': [DecisionTreeClassifier(class_weight=None,\n",
       "                                                                   criterion='gini',\n",
       "                                                                   max_depth=5,\n",
       "                                                                   max_features=None,\n",
       "                                                                   max_leaf_nodes=None,\n",
       "                                                                   min_impurity_decr...\n",
       "                                            DecisionTreeClassifier(class_weight=None,\n",
       "                                                                   criterion='gini',\n",
       "                                                                   max_depth=9,\n",
       "                                                                   max_features=None,\n",
       "                                                                   max_leaf_nodes=None,\n",
       "                                                                   min_impurity_decrease=0.0,\n",
       "                                                                   min_impurity_split=None,\n",
       "                                                                   min_samples_leaf=1,\n",
       "                                                                   min_samples_split=2,\n",
       "                                                                   min_weight_fraction_leaf=0.0,\n",
       "                                                                   presort=False,\n",
       "                                                                   random_state=None,\n",
       "                                                                   splitter='best')]},\n",
       "             pre_dispatch='2*n_jobs', refit=True, return_train_score=False,\n",
       "             scoring=None, verbose=0)"
      ]
     },
     "execution_count": 75,
     "metadata": {},
     "output_type": "execute_result"
    }
   ],
   "source": [
    "#グリッドサーチによるパラメータの最適化\n",
    "parameters = {\"base_estimator\" : [DecisionTreeClassifier(max_depth=x) for x in range(5, 10)],}\n",
    "model = AdaBoostClassifier(random_state=1234, n_estimators=15)\n",
    "clf_ab_best = GridSearchCV(model, parameters, cv=3,)\n",
    "clf_ab_best.fit(X_train, y_train)"
   ]
  },
  {
   "cell_type": "code",
   "execution_count": 76,
   "metadata": {},
   "outputs": [],
   "source": [
    "#計算結果の保存、読み込み　必要に応じてコメントアウト\n",
    "\n",
    "with open('ad result', 'wb') as web:\n",
    "    pickle.dump(clf_ab_best, web)\n",
    "    \n",
    "with open('ad result', 'rb') as web:\n",
    "    clf_ab_best = pickle.load(web)"
   ]
  },
  {
   "cell_type": "code",
   "execution_count": 77,
   "metadata": {},
   "outputs": [
    {
     "name": "stdout",
     "output_type": "stream",
     "text": [
      "{'base_estimator': DecisionTreeClassifier(class_weight=None, criterion='gini', max_depth=5,\n",
      "                       max_features=None, max_leaf_nodes=None,\n",
      "                       min_impurity_decrease=0.0, min_impurity_split=None,\n",
      "                       min_samples_leaf=1, min_samples_split=2,\n",
      "                       min_weight_fraction_leaf=0.0, presort=False,\n",
      "                       random_state=None, splitter='best')} 0.682514435616397\n"
     ]
    }
   ],
   "source": [
    "print(clf_ab_best.best_params_, clf_ab_best.best_score_)"
   ]
  },
  {
   "cell_type": "code",
   "execution_count": 78,
   "metadata": {},
   "outputs": [
    {
     "name": "stdout",
     "output_type": "stream",
     "text": [
      "識別精度= 0.6853610734207749\n"
     ]
    }
   ],
   "source": [
    "#チューニングしたパラメータを用いて学習を行い、最終テストデータを予測し精度を出す。\n",
    "clf_ab_best_2 = AdaBoostClassifier(**clf_ab_best.best_params_)\n",
    "clf_ab_best_2.fit(X_train, y_train)\n",
    "print(\"識別精度=\",clf_ab_best_2.score(X_test, y_test))"
   ]
  },
  {
   "cell_type": "code",
   "execution_count": 79,
   "metadata": {},
   "outputs": [
    {
     "name": "stdout",
     "output_type": "stream",
     "text": [
      "              precision    recall  f1-score   support\n",
      "\n",
      "      failed       0.72      0.78      0.75     39695\n",
      "  successful       0.62      0.54      0.58     26635\n",
      "\n",
      "    accuracy                           0.69     66330\n",
      "   macro avg       0.67      0.66      0.66     66330\n",
      "weighted avg       0.68      0.69      0.68     66330\n",
      "\n"
     ]
    },
    {
     "data": {
      "text/html": [
       "<div>\n",
       "<style scoped>\n",
       "    .dataframe tbody tr th:only-of-type {\n",
       "        vertical-align: middle;\n",
       "    }\n",
       "\n",
       "    .dataframe tbody tr th {\n",
       "        vertical-align: top;\n",
       "    }\n",
       "\n",
       "    .dataframe thead th {\n",
       "        text-align: right;\n",
       "    }\n",
       "</style>\n",
       "<table border=\"1\" class=\"dataframe\">\n",
       "  <thead>\n",
       "    <tr style=\"text-align: right;\">\n",
       "      <th></th>\n",
       "      <th>予測 = failed</th>\n",
       "      <th>予測 = successful</th>\n",
       "    </tr>\n",
       "  </thead>\n",
       "  <tbody>\n",
       "    <tr>\n",
       "      <td>正解 = failed</td>\n",
       "      <td>31027</td>\n",
       "      <td>8668</td>\n",
       "    </tr>\n",
       "    <tr>\n",
       "      <td>正解 = successful</td>\n",
       "      <td>12202</td>\n",
       "      <td>14433</td>\n",
       "    </tr>\n",
       "  </tbody>\n",
       "</table>\n",
       "</div>"
      ],
      "text/plain": [
       "                 予測 = failed  予測 = successful\n",
       "正解 = failed            31027             8668\n",
       "正解 = successful        12202            14433"
      ]
     },
     "metadata": {},
     "output_type": "display_data"
    }
   ],
   "source": [
    "#　混同行列を表示\n",
    "y_est = clf_ab_best_2.predict(X_test)\n",
    "target_names = ['failed', 'successful']\n",
    "print(metrics.classification_report(y_test, y_est,target_names=target_names))\n",
    "conf_mat_test = pd.DataFrame(confusion_matrix(y_test, y_est), \n",
    "                        index=['正解 = failed', '正解 = successful'], \n",
    "                        columns=['予測 = failed', '予測 = successful'])\n",
    "\n",
    "display(conf_mat_test)\n"
   ]
  },
  {
   "cell_type": "code",
   "execution_count": 80,
   "metadata": {},
   "outputs": [
    {
     "name": "stdout",
     "output_type": "stream",
     "text": [
      "[0.24721302 0.11344525 0.02771938 0.03613539 0.32559132 0.0965251\n",
      " 0.15337053]\n"
     ]
    },
    {
     "data": {
      "image/png": "[encoded data removed]",
      "text/plain": [
       "<Figure size 720x360 with 1 Axes>"
      ]
     },
     "metadata": {
      "needs_background": "light"
     },
     "output_type": "display_data"
    }
   ],
   "source": [
    "print(clf_ab_best_2.feature_importances_)\n",
    "pd.DataFrame(clf_ab_best_2.feature_importances_, index=X.columns.values).plot.bar(figsize=(10,5))\n",
    "plt.ylabel(\"Importance\")\n",
    "plt.xlabel(\"Features\")\n",
    "plt.show()"
   ]
  },
  {
   "cell_type": "markdown",
   "metadata": {},
   "source": [
    "チューニングするパラメータ数を減らしたにも拘わらず、アダブーストモデルは、ランダムフォレストモデルよりもさらに高精度であった。\n",
    "各特徴量についてはcategory, goal, 特に重要で、currency, countyrはそれほど重要でないという結果で、ランダムフォレストと似た結果であった。"
   ]
  },
  {
   "cell_type": "markdown",
   "metadata": {},
   "source": [
    "## 4. ニューラルネットワークによる予測 "
   ]
  },
  {
   "cell_type": "markdown",
   "metadata": {},
   "source": [
    "#### ニューラルネットワークによる予測モデルの構築を行い、モデルの評価を行う。"
   ]
  },
  {
   "cell_type": "markdown",
   "metadata": {},
   "source": [
    "### 4-1 データの前処理\n",
    "ラッパー法により選択された特徴量を用いる。"
   ]
  },
  {
   "cell_type": "code",
   "execution_count": 41,
   "metadata": {},
   "outputs": [
    {
     "data": {
      "text/html": [
       "<div>\n",
       "<style scoped>\n",
       "    .dataframe tbody tr th:only-of-type {\n",
       "        vertical-align: middle;\n",
       "    }\n",
       "\n",
       "    .dataframe tbody tr th {\n",
       "        vertical-align: top;\n",
       "    }\n",
       "\n",
       "    .dataframe thead th {\n",
       "        text-align: right;\n",
       "    }\n",
       "</style>\n",
       "<table border=\"1\" class=\"dataframe\">\n",
       "  <thead>\n",
       "    <tr style=\"text-align: right;\">\n",
       "      <th></th>\n",
       "      <th>usd_goal_real</th>\n",
       "      <th>name_length</th>\n",
       "      <th>delta</th>\n",
       "      <th>main_category_Art</th>\n",
       "      <th>main_category_Comics</th>\n",
       "      <th>main_category_Crafts</th>\n",
       "      <th>main_category_Dance</th>\n",
       "      <th>main_category_Design</th>\n",
       "      <th>main_category_Fashion</th>\n",
       "      <th>main_category_Film &amp; Video</th>\n",
       "      <th>...</th>\n",
       "      <th>country_JP</th>\n",
       "      <th>country_LU</th>\n",
       "      <th>country_MX</th>\n",
       "      <th>country_N,0\"</th>\n",
       "      <th>country_NL</th>\n",
       "      <th>country_NO</th>\n",
       "      <th>country_NZ</th>\n",
       "      <th>country_SE</th>\n",
       "      <th>country_SG</th>\n",
       "      <th>country_US</th>\n",
       "    </tr>\n",
       "  </thead>\n",
       "  <tbody>\n",
       "    <tr>\n",
       "      <td>0</td>\n",
       "      <td>50000.00</td>\n",
       "      <td>3</td>\n",
       "      <td>34</td>\n",
       "      <td>0</td>\n",
       "      <td>0</td>\n",
       "      <td>0</td>\n",
       "      <td>0</td>\n",
       "      <td>0</td>\n",
       "      <td>0</td>\n",
       "      <td>0</td>\n",
       "      <td>...</td>\n",
       "      <td>0</td>\n",
       "      <td>0</td>\n",
       "      <td>0</td>\n",
       "      <td>0</td>\n",
       "      <td>0</td>\n",
       "      <td>0</td>\n",
       "      <td>0</td>\n",
       "      <td>0</td>\n",
       "      <td>0</td>\n",
       "      <td>1</td>\n",
       "    </tr>\n",
       "    <tr>\n",
       "      <td>1</td>\n",
       "      <td>1000.00</td>\n",
       "      <td>8</td>\n",
       "      <td>19</td>\n",
       "      <td>0</td>\n",
       "      <td>0</td>\n",
       "      <td>0</td>\n",
       "      <td>0</td>\n",
       "      <td>0</td>\n",
       "      <td>0</td>\n",
       "      <td>0</td>\n",
       "      <td>...</td>\n",
       "      <td>0</td>\n",
       "      <td>0</td>\n",
       "      <td>0</td>\n",
       "      <td>0</td>\n",
       "      <td>0</td>\n",
       "      <td>0</td>\n",
       "      <td>0</td>\n",
       "      <td>0</td>\n",
       "      <td>0</td>\n",
       "      <td>1</td>\n",
       "    </tr>\n",
       "    <tr>\n",
       "      <td>2</td>\n",
       "      <td>12500.00</td>\n",
       "      <td>4</td>\n",
       "      <td>29</td>\n",
       "      <td>0</td>\n",
       "      <td>0</td>\n",
       "      <td>0</td>\n",
       "      <td>0</td>\n",
       "      <td>0</td>\n",
       "      <td>0</td>\n",
       "      <td>0</td>\n",
       "      <td>...</td>\n",
       "      <td>0</td>\n",
       "      <td>0</td>\n",
       "      <td>0</td>\n",
       "      <td>0</td>\n",
       "      <td>0</td>\n",
       "      <td>0</td>\n",
       "      <td>0</td>\n",
       "      <td>0</td>\n",
       "      <td>0</td>\n",
       "      <td>1</td>\n",
       "    </tr>\n",
       "    <tr>\n",
       "      <td>3</td>\n",
       "      <td>6469.73</td>\n",
       "      <td>9</td>\n",
       "      <td>27</td>\n",
       "      <td>0</td>\n",
       "      <td>0</td>\n",
       "      <td>0</td>\n",
       "      <td>0</td>\n",
       "      <td>0</td>\n",
       "      <td>0</td>\n",
       "      <td>0</td>\n",
       "      <td>...</td>\n",
       "      <td>0</td>\n",
       "      <td>0</td>\n",
       "      <td>0</td>\n",
       "      <td>0</td>\n",
       "      <td>0</td>\n",
       "      <td>0</td>\n",
       "      <td>0</td>\n",
       "      <td>0</td>\n",
       "      <td>0</td>\n",
       "      <td>0</td>\n",
       "    </tr>\n",
       "    <tr>\n",
       "      <td>4</td>\n",
       "      <td>250.00</td>\n",
       "      <td>6</td>\n",
       "      <td>14</td>\n",
       "      <td>0</td>\n",
       "      <td>0</td>\n",
       "      <td>0</td>\n",
       "      <td>0</td>\n",
       "      <td>0</td>\n",
       "      <td>0</td>\n",
       "      <td>0</td>\n",
       "      <td>...</td>\n",
       "      <td>0</td>\n",
       "      <td>0</td>\n",
       "      <td>0</td>\n",
       "      <td>0</td>\n",
       "      <td>0</td>\n",
       "      <td>0</td>\n",
       "      <td>0</td>\n",
       "      <td>0</td>\n",
       "      <td>0</td>\n",
       "      <td>1</td>\n",
       "    </tr>\n",
       "  </tbody>\n",
       "</table>\n",
       "<p>5 rows × 214 columns</p>\n",
       "</div>"
      ],
      "text/plain": [
       "   usd_goal_real  name_length  delta  main_category_Art  main_category_Comics  \\\n",
       "0       50000.00            3     34                  0                     0   \n",
       "1        1000.00            8     19                  0                     0   \n",
       "2       12500.00            4     29                  0                     0   \n",
       "3        6469.73            9     27                  0                     0   \n",
       "4         250.00            6     14                  0                     0   \n",
       "\n",
       "   main_category_Crafts  main_category_Dance  main_category_Design  \\\n",
       "0                     0                    0                     0   \n",
       "1                     0                    0                     0   \n",
       "2                     0                    0                     0   \n",
       "3                     0                    0                     0   \n",
       "4                     0                    0                     0   \n",
       "\n",
       "   main_category_Fashion  main_category_Film & Video  ...  country_JP  \\\n",
       "0                      0                           0  ...           0   \n",
       "1                      0                           0  ...           0   \n",
       "2                      0                           0  ...           0   \n",
       "3                      0                           0  ...           0   \n",
       "4                      0                           0  ...           0   \n",
       "\n",
       "   country_LU  country_MX  country_N,0\"  country_NL  country_NO  country_NZ  \\\n",
       "0           0           0             0           0           0           0   \n",
       "1           0           0             0           0           0           0   \n",
       "2           0           0             0           0           0           0   \n",
       "3           0           0             0           0           0           0   \n",
       "4           0           0             0           0           0           0   \n",
       "\n",
       "   country_SE  country_SG  country_US  \n",
       "0           0           0           1  \n",
       "1           0           0           1  \n",
       "2           0           0           1  \n",
       "3           0           0           0  \n",
       "4           0           0           1  \n",
       "\n",
       "[5 rows x 214 columns]"
      ]
     },
     "execution_count": 41,
     "metadata": {},
     "output_type": "execute_result"
    }
   ],
   "source": [
    "#ラッパー法による特徴量選択を行う前のデータフレーム\n",
    "X = df_day3_2.drop([\"state\", \"launched\",  \"name\", \"deadline\", \"goal\", \"usd_goal_real_std\", \"delta_std\", \"name_length_std\"], axis=1)\n",
    "y = df_day3_2[\"state\"]\n",
    "X.head()"
   ]
  },
  {
   "cell_type": "code",
   "execution_count": 42,
   "metadata": {},
   "outputs": [
    {
     "data": {
      "text/html": [
       "<div>\n",
       "<style scoped>\n",
       "    .dataframe tbody tr th:only-of-type {\n",
       "        vertical-align: middle;\n",
       "    }\n",
       "\n",
       "    .dataframe tbody tr th {\n",
       "        vertical-align: top;\n",
       "    }\n",
       "\n",
       "    .dataframe thead th {\n",
       "        text-align: right;\n",
       "    }\n",
       "</style>\n",
       "<table border=\"1\" class=\"dataframe\">\n",
       "  <thead>\n",
       "    <tr style=\"text-align: right;\">\n",
       "      <th></th>\n",
       "      <th>usd_goal_real</th>\n",
       "      <th>name_length</th>\n",
       "      <th>delta</th>\n",
       "      <th>main_category_Art</th>\n",
       "      <th>main_category_Comics</th>\n",
       "      <th>main_category_Crafts</th>\n",
       "      <th>main_category_Dance</th>\n",
       "      <th>main_category_Design</th>\n",
       "      <th>main_category_Fashion</th>\n",
       "      <th>main_category_Film &amp; Video</th>\n",
       "      <th>...</th>\n",
       "      <th>country_IE</th>\n",
       "      <th>country_IT</th>\n",
       "      <th>country_JP</th>\n",
       "      <th>country_LU</th>\n",
       "      <th>country_MX</th>\n",
       "      <th>country_N,0\"</th>\n",
       "      <th>country_NL</th>\n",
       "      <th>country_NO</th>\n",
       "      <th>country_NZ</th>\n",
       "      <th>country_US</th>\n",
       "    </tr>\n",
       "  </thead>\n",
       "  <tbody>\n",
       "    <tr>\n",
       "      <td>0</td>\n",
       "      <td>50000.00</td>\n",
       "      <td>3</td>\n",
       "      <td>34</td>\n",
       "      <td>0</td>\n",
       "      <td>0</td>\n",
       "      <td>0</td>\n",
       "      <td>0</td>\n",
       "      <td>0</td>\n",
       "      <td>0</td>\n",
       "      <td>0</td>\n",
       "      <td>...</td>\n",
       "      <td>0</td>\n",
       "      <td>0</td>\n",
       "      <td>0</td>\n",
       "      <td>0</td>\n",
       "      <td>0</td>\n",
       "      <td>0</td>\n",
       "      <td>0</td>\n",
       "      <td>0</td>\n",
       "      <td>0</td>\n",
       "      <td>1</td>\n",
       "    </tr>\n",
       "    <tr>\n",
       "      <td>1</td>\n",
       "      <td>1000.00</td>\n",
       "      <td>8</td>\n",
       "      <td>19</td>\n",
       "      <td>0</td>\n",
       "      <td>0</td>\n",
       "      <td>0</td>\n",
       "      <td>0</td>\n",
       "      <td>0</td>\n",
       "      <td>0</td>\n",
       "      <td>0</td>\n",
       "      <td>...</td>\n",
       "      <td>0</td>\n",
       "      <td>0</td>\n",
       "      <td>0</td>\n",
       "      <td>0</td>\n",
       "      <td>0</td>\n",
       "      <td>0</td>\n",
       "      <td>0</td>\n",
       "      <td>0</td>\n",
       "      <td>0</td>\n",
       "      <td>1</td>\n",
       "    </tr>\n",
       "    <tr>\n",
       "      <td>2</td>\n",
       "      <td>12500.00</td>\n",
       "      <td>4</td>\n",
       "      <td>29</td>\n",
       "      <td>0</td>\n",
       "      <td>0</td>\n",
       "      <td>0</td>\n",
       "      <td>0</td>\n",
       "      <td>0</td>\n",
       "      <td>0</td>\n",
       "      <td>0</td>\n",
       "      <td>...</td>\n",
       "      <td>0</td>\n",
       "      <td>0</td>\n",
       "      <td>0</td>\n",
       "      <td>0</td>\n",
       "      <td>0</td>\n",
       "      <td>0</td>\n",
       "      <td>0</td>\n",
       "      <td>0</td>\n",
       "      <td>0</td>\n",
       "      <td>1</td>\n",
       "    </tr>\n",
       "    <tr>\n",
       "      <td>3</td>\n",
       "      <td>6469.73</td>\n",
       "      <td>9</td>\n",
       "      <td>27</td>\n",
       "      <td>0</td>\n",
       "      <td>0</td>\n",
       "      <td>0</td>\n",
       "      <td>0</td>\n",
       "      <td>0</td>\n",
       "      <td>0</td>\n",
       "      <td>0</td>\n",
       "      <td>...</td>\n",
       "      <td>0</td>\n",
       "      <td>0</td>\n",
       "      <td>0</td>\n",
       "      <td>0</td>\n",
       "      <td>0</td>\n",
       "      <td>0</td>\n",
       "      <td>0</td>\n",
       "      <td>0</td>\n",
       "      <td>0</td>\n",
       "      <td>0</td>\n",
       "    </tr>\n",
       "    <tr>\n",
       "      <td>4</td>\n",
       "      <td>250.00</td>\n",
       "      <td>6</td>\n",
       "      <td>14</td>\n",
       "      <td>0</td>\n",
       "      <td>0</td>\n",
       "      <td>0</td>\n",
       "      <td>0</td>\n",
       "      <td>0</td>\n",
       "      <td>0</td>\n",
       "      <td>0</td>\n",
       "      <td>...</td>\n",
       "      <td>0</td>\n",
       "      <td>0</td>\n",
       "      <td>0</td>\n",
       "      <td>0</td>\n",
       "      <td>0</td>\n",
       "      <td>0</td>\n",
       "      <td>0</td>\n",
       "      <td>0</td>\n",
       "      <td>0</td>\n",
       "      <td>1</td>\n",
       "    </tr>\n",
       "  </tbody>\n",
       "</table>\n",
       "<p>5 rows × 197 columns</p>\n",
       "</div>"
      ],
      "text/plain": [
       "   usd_goal_real  name_length  delta  main_category_Art  main_category_Comics  \\\n",
       "0       50000.00            3     34                  0                     0   \n",
       "1        1000.00            8     19                  0                     0   \n",
       "2       12500.00            4     29                  0                     0   \n",
       "3        6469.73            9     27                  0                     0   \n",
       "4         250.00            6     14                  0                     0   \n",
       "\n",
       "   main_category_Crafts  main_category_Dance  main_category_Design  \\\n",
       "0                     0                    0                     0   \n",
       "1                     0                    0                     0   \n",
       "2                     0                    0                     0   \n",
       "3                     0                    0                     0   \n",
       "4                     0                    0                     0   \n",
       "\n",
       "   main_category_Fashion  main_category_Film & Video  ...  country_IE  \\\n",
       "0                      0                           0  ...           0   \n",
       "1                      0                           0  ...           0   \n",
       "2                      0                           0  ...           0   \n",
       "3                      0                           0  ...           0   \n",
       "4                      0                           0  ...           0   \n",
       "\n",
       "   country_IT  country_JP  country_LU  country_MX  country_N,0\"  country_NL  \\\n",
       "0           0           0           0           0             0           0   \n",
       "1           0           0           0           0             0           0   \n",
       "2           0           0           0           0             0           0   \n",
       "3           0           0           0           0             0           0   \n",
       "4           0           0           0           0             0           0   \n",
       "\n",
       "   country_NO  country_NZ  country_US  \n",
       "0           0           0           1  \n",
       "1           0           0           1  \n",
       "2           0           0           1  \n",
       "3           0           0           0  \n",
       "4           0           0           1  \n",
       "\n",
       "[5 rows x 197 columns]"
      ]
     },
     "execution_count": 42,
     "metadata": {},
     "output_type": "execute_result"
    }
   ],
   "source": [
    "#ラッパー法による特徴量選択を反映\n",
    "X = X.drop(['currency_CAD', 'currency_CHF', 'category_Blues',\n",
    "       'category_Children\\'s Books', 'category_Comic Books',\n",
    "       'category_Film & Video', 'category_Glass', 'category_Kids',\n",
    "       'category_Movie Theaters', 'category_Plays', 'category_Poetry',\n",
    "       'category_Quilts', 'category_Small Batch', 'category_World Music',\n",
    "       'country_DE', 'country_SE', 'country_SG'], axis = 1)\n",
    "X.head()"
   ]
  },
  {
   "cell_type": "code",
   "execution_count": 43,
   "metadata": {},
   "outputs": [
    {
     "name": "stdout",
     "output_type": "stream",
     "text": [
      "<class 'numpy.ndarray'>\n"
     ]
    },
    {
     "data": {
      "text/plain": [
       "array([[0., 1.],\n",
       "       [0., 1.],\n",
       "       [0., 1.],\n",
       "       ...,\n",
       "       [1., 0.],\n",
       "       [1., 0.],\n",
       "       [1., 0.]], dtype=float32)"
      ]
     },
     "execution_count": 43,
     "metadata": {},
     "output_type": "execute_result"
    }
   ],
   "source": [
    "#yのOne-hotエンコーディング\n",
    "from tensorflow.keras.utils import to_categorical\n",
    "y = to_categorical(y)\n",
    "print(type(y))\n",
    "y"
   ]
  },
  {
   "cell_type": "code",
   "execution_count": 44,
   "metadata": {},
   "outputs": [],
   "source": [
    "#データの分割\n",
    "X_train, X_test, y_train, y_test = train_test_split(X, y, test_size = 0.2, random_state=1234)"
   ]
  },
  {
   "cell_type": "code",
   "execution_count": 45,
   "metadata": {},
   "outputs": [
    {
     "name": "stderr",
     "output_type": "stream",
     "text": [
      "C:\\python\\lib\\site-packages\\pandas\\core\\indexing.py:494: SettingWithCopyWarning: \n",
      "A value is trying to be set on a copy of a slice from a DataFrame.\n",
      "Try using .loc[row_indexer,col_indexer] = value instead\n",
      "\n",
      "See the caveats in the documentation: http://pandas.pydata.org/pandas-docs/stable/user_guide/indexing.html#returning-a-view-versus-a-copy\n",
      "  self.obj[item] = s\n",
      "C:\\python\\lib\\site-packages\\pandas\\core\\indexing.py:494: SettingWithCopyWarning: \n",
      "A value is trying to be set on a copy of a slice from a DataFrame.\n",
      "Try using .loc[row_indexer,col_indexer] = value instead\n",
      "\n",
      "See the caveats in the documentation: http://pandas.pydata.org/pandas-docs/stable/user_guide/indexing.html#returning-a-view-versus-a-copy\n",
      "  self.obj[item] = s\n"
     ]
    },
    {
     "data": {
      "text/html": [
       "<div>\n",
       "<style scoped>\n",
       "    .dataframe tbody tr th:only-of-type {\n",
       "        vertical-align: middle;\n",
       "    }\n",
       "\n",
       "    .dataframe tbody tr th {\n",
       "        vertical-align: top;\n",
       "    }\n",
       "\n",
       "    .dataframe thead th {\n",
       "        text-align: right;\n",
       "    }\n",
       "</style>\n",
       "<table border=\"1\" class=\"dataframe\">\n",
       "  <thead>\n",
       "    <tr style=\"text-align: right;\">\n",
       "      <th></th>\n",
       "      <th>usd_goal_real</th>\n",
       "      <th>name_length</th>\n",
       "      <th>delta</th>\n",
       "      <th>main_category_Art</th>\n",
       "      <th>main_category_Comics</th>\n",
       "      <th>main_category_Crafts</th>\n",
       "      <th>main_category_Dance</th>\n",
       "      <th>main_category_Design</th>\n",
       "      <th>main_category_Fashion</th>\n",
       "      <th>main_category_Film &amp; Video</th>\n",
       "      <th>...</th>\n",
       "      <th>country_IE</th>\n",
       "      <th>country_IT</th>\n",
       "      <th>country_JP</th>\n",
       "      <th>country_LU</th>\n",
       "      <th>country_MX</th>\n",
       "      <th>country_N,0\"</th>\n",
       "      <th>country_NL</th>\n",
       "      <th>country_NO</th>\n",
       "      <th>country_NZ</th>\n",
       "      <th>country_US</th>\n",
       "    </tr>\n",
       "  </thead>\n",
       "  <tbody>\n",
       "    <tr>\n",
       "      <td>155831</td>\n",
       "      <td>-0.041426</td>\n",
       "      <td>-1.317835</td>\n",
       "      <td>-0.939474</td>\n",
       "      <td>0</td>\n",
       "      <td>0</td>\n",
       "      <td>0</td>\n",
       "      <td>0</td>\n",
       "      <td>0</td>\n",
       "      <td>0</td>\n",
       "      <td>1</td>\n",
       "      <td>...</td>\n",
       "      <td>0</td>\n",
       "      <td>0</td>\n",
       "      <td>0</td>\n",
       "      <td>0</td>\n",
       "      <td>0</td>\n",
       "      <td>0</td>\n",
       "      <td>0</td>\n",
       "      <td>0</td>\n",
       "      <td>0</td>\n",
       "      <td>1</td>\n",
       "    </tr>\n",
       "    <tr>\n",
       "      <td>187150</td>\n",
       "      <td>-0.026568</td>\n",
       "      <td>-0.954873</td>\n",
       "      <td>-0.309452</td>\n",
       "      <td>0</td>\n",
       "      <td>0</td>\n",
       "      <td>0</td>\n",
       "      <td>0</td>\n",
       "      <td>0</td>\n",
       "      <td>0</td>\n",
       "      <td>0</td>\n",
       "      <td>...</td>\n",
       "      <td>0</td>\n",
       "      <td>0</td>\n",
       "      <td>0</td>\n",
       "      <td>0</td>\n",
       "      <td>0</td>\n",
       "      <td>0</td>\n",
       "      <td>0</td>\n",
       "      <td>0</td>\n",
       "      <td>0</td>\n",
       "      <td>0</td>\n",
       "    </tr>\n",
       "    <tr>\n",
       "      <td>14843</td>\n",
       "      <td>-0.034951</td>\n",
       "      <td>-0.228947</td>\n",
       "      <td>0.005558</td>\n",
       "      <td>0</td>\n",
       "      <td>0</td>\n",
       "      <td>0</td>\n",
       "      <td>0</td>\n",
       "      <td>0</td>\n",
       "      <td>0</td>\n",
       "      <td>1</td>\n",
       "      <td>...</td>\n",
       "      <td>0</td>\n",
       "      <td>0</td>\n",
       "      <td>0</td>\n",
       "      <td>0</td>\n",
       "      <td>0</td>\n",
       "      <td>0</td>\n",
       "      <td>0</td>\n",
       "      <td>0</td>\n",
       "      <td>0</td>\n",
       "      <td>1</td>\n",
       "    </tr>\n",
       "    <tr>\n",
       "      <td>173910</td>\n",
       "      <td>-0.048622</td>\n",
       "      <td>0.134016</td>\n",
       "      <td>-0.624463</td>\n",
       "      <td>0</td>\n",
       "      <td>0</td>\n",
       "      <td>1</td>\n",
       "      <td>0</td>\n",
       "      <td>0</td>\n",
       "      <td>0</td>\n",
       "      <td>0</td>\n",
       "      <td>...</td>\n",
       "      <td>0</td>\n",
       "      <td>0</td>\n",
       "      <td>0</td>\n",
       "      <td>0</td>\n",
       "      <td>0</td>\n",
       "      <td>0</td>\n",
       "      <td>0</td>\n",
       "      <td>0</td>\n",
       "      <td>0</td>\n",
       "      <td>1</td>\n",
       "    </tr>\n",
       "    <tr>\n",
       "      <td>258813</td>\n",
       "      <td>-0.042146</td>\n",
       "      <td>-0.228947</td>\n",
       "      <td>0.478074</td>\n",
       "      <td>0</td>\n",
       "      <td>0</td>\n",
       "      <td>0</td>\n",
       "      <td>0</td>\n",
       "      <td>0</td>\n",
       "      <td>0</td>\n",
       "      <td>0</td>\n",
       "      <td>...</td>\n",
       "      <td>0</td>\n",
       "      <td>0</td>\n",
       "      <td>0</td>\n",
       "      <td>0</td>\n",
       "      <td>0</td>\n",
       "      <td>0</td>\n",
       "      <td>0</td>\n",
       "      <td>0</td>\n",
       "      <td>0</td>\n",
       "      <td>1</td>\n",
       "    </tr>\n",
       "  </tbody>\n",
       "</table>\n",
       "<p>5 rows × 197 columns</p>\n",
       "</div>"
      ],
      "text/plain": [
       "        usd_goal_real  name_length     delta  main_category_Art  \\\n",
       "155831      -0.041426    -1.317835 -0.939474                  0   \n",
       "187150      -0.026568    -0.954873 -0.309452                  0   \n",
       "14843       -0.034951    -0.228947  0.005558                  0   \n",
       "173910      -0.048622     0.134016 -0.624463                  0   \n",
       "258813      -0.042146    -0.228947  0.478074                  0   \n",
       "\n",
       "        main_category_Comics  main_category_Crafts  main_category_Dance  \\\n",
       "155831                     0                     0                    0   \n",
       "187150                     0                     0                    0   \n",
       "14843                      0                     0                    0   \n",
       "173910                     0                     1                    0   \n",
       "258813                     0                     0                    0   \n",
       "\n",
       "        main_category_Design  main_category_Fashion  \\\n",
       "155831                     0                      0   \n",
       "187150                     0                      0   \n",
       "14843                      0                      0   \n",
       "173910                     0                      0   \n",
       "258813                     0                      0   \n",
       "\n",
       "        main_category_Film & Video  ...  country_IE  country_IT  country_JP  \\\n",
       "155831                           1  ...           0           0           0   \n",
       "187150                           0  ...           0           0           0   \n",
       "14843                            1  ...           0           0           0   \n",
       "173910                           0  ...           0           0           0   \n",
       "258813                           0  ...           0           0           0   \n",
       "\n",
       "        country_LU  country_MX  country_N,0\"  country_NL  country_NO  \\\n",
       "155831           0           0             0           0           0   \n",
       "187150           0           0             0           0           0   \n",
       "14843            0           0             0           0           0   \n",
       "173910           0           0             0           0           0   \n",
       "258813           0           0             0           0           0   \n",
       "\n",
       "        country_NZ  country_US  \n",
       "155831           0           1  \n",
       "187150           0           0  \n",
       "14843            0           1  \n",
       "173910           0           1  \n",
       "258813           0           1  \n",
       "\n",
       "[5 rows x 197 columns]"
      ]
     },
     "execution_count": 45,
     "metadata": {},
     "output_type": "execute_result"
    }
   ],
   "source": [
    "#量的変数の標準化\n",
    "stdc =  StandardScaler()\n",
    "stdc.fit(X_train.loc[:, [\"usd_goal_real\", \"name_length\", \"delta\"]])\n",
    "X_train.loc[:, [\"usd_goal_real\", \"name_length\", \"delta\"]] = stdc.transform(X_train.loc[:, [\"usd_goal_real\", \"name_length\", \"delta\"]])                                                                    \n",
    "X_test.loc[:, [\"usd_goal_real\", \"name_length\", \"delta\"]] = stdc.transform(X_test.loc[:, [\"usd_goal_real\", \"name_length\", \"delta\"]])\n",
    "X_train.head()"
   ]
  },
  {
   "cell_type": "code",
   "execution_count": 46,
   "metadata": {},
   "outputs": [],
   "source": [
    "X_train = X_train.values\n",
    "X_test = X_test.values\n",
    "y_train = y_train\n",
    "y_test = y_test"
   ]
  },
  {
   "cell_type": "code",
   "execution_count": 47,
   "metadata": {},
   "outputs": [],
   "source": [
    "#モデルの構築\n",
    "\n",
    "model = Sequential()\n",
    "model.add(Dense(197, activation='relu', input_dim=197))\n",
    "model.add(Dense(50, activation='relu', input_dim=197))\n",
    "model.add(Dense(10, activation='relu', input_dim=50))\n",
    "model.add(Dense(2, activation='softmax'))\n",
    "\n",
    "# ------ 最適化手法 ------\n",
    "#sgd = SGD(lr=0.01, momentum=0.9, nesterov=False)\n",
    "# rms = RMSprop(lr=0.01)\n",
    "# adag = Adagrad(lr=0.01)\n",
    "# adad = Adadelta(lr=0.01)\n",
    "adam = Adam(lr=0.01)\n",
    "# -----------------------------\n",
    "\n",
    "model.compile(loss='binary_crossentropy',\n",
    "              optimizer=adam,\n",
    "              metrics=['accuracy'])\n"
   ]
  },
  {
   "cell_type": "code",
   "execution_count": 48,
   "metadata": {},
   "outputs": [
    {
     "name": "stdout",
     "output_type": "stream",
     "text": [
      "Train on 265316 samples, validate on 66330 samples\n",
      "Epoch 1/15\n",
      "265316/265316 [==============================] - 78s 293us/sample - loss: 0.6105 - accuracy: 0.6625 - val_loss: 0.6070 - val_accuracy: 0.6686\n",
      "Epoch 2/15\n",
      "265316/265316 [==============================] - 84s 316us/sample - loss: 0.6020 - accuracy: 0.6702 - val_loss: 0.5979 - val_accuracy: 0.6725\n",
      "Epoch 3/15\n",
      "265316/265316 [==============================] - 72s 271us/sample - loss: 0.5989 - accuracy: 0.6719 - val_loss: 0.5968 - val_accuracy: 0.6729\n",
      "Epoch 4/15\n",
      "265316/265316 [==============================] - 68s 255us/sample - loss: 0.5965 - accuracy: 0.6737 - val_loss: 0.6237 - val_accuracy: 0.6478\n",
      "Epoch 5/15\n",
      "265316/265316 [==============================] - 79s 296us/sample - loss: 0.5947 - accuracy: 0.6750 - val_loss: 0.5943 - val_accuracy: 0.6727\n",
      "Epoch 6/15\n",
      "265316/265316 [==============================] - 82s 310us/sample - loss: 0.5935 - accuracy: 0.6768 - val_loss: 0.5930 - val_accuracy: 0.6764\n",
      "Epoch 7/15\n",
      "265316/265316 [==============================] - 69s 259us/sample - loss: 0.5936 - accuracy: 0.6753 - val_loss: 0.6061 - val_accuracy: 0.6751\n",
      "Epoch 8/15\n",
      "265316/265316 [==============================] - 61s 232us/sample - loss: 0.5932 - accuracy: 0.6766 - val_loss: 0.6027 - val_accuracy: 0.6661\n",
      "Epoch 9/15\n",
      "265316/265316 [==============================] - 73s 276us/sample - loss: 0.5927 - accuracy: 0.6775 - val_loss: 0.6259 - val_accuracy: 0.6711\n",
      "Epoch 10/15\n",
      "265316/265316 [==============================] - 84s 317us/sample - loss: 0.5920 - accuracy: 0.6775 - val_loss: 0.5956 - val_accuracy: 0.6751\n",
      "Epoch 11/15\n",
      "265316/265316 [==============================] - 79s 296us/sample - loss: 0.5914 - accuracy: 0.6782 - val_loss: 0.5970 - val_accuracy: 0.6754\n",
      "Epoch 12/15\n",
      "265316/265316 [==============================] - 73s 275us/sample - loss: 0.5913 - accuracy: 0.6785 - val_loss: 0.5956 - val_accuracy: 0.6735\n",
      "Epoch 13/15\n",
      "265316/265316 [==============================] - 72s 271us/sample - loss: 0.5901 - accuracy: 0.6795 - val_loss: 0.5931 - val_accuracy: 0.6740\n",
      "Epoch 14/15\n",
      "265316/265316 [==============================] - 75s 284us/sample - loss: 0.5902 - accuracy: 0.6788 - val_loss: 0.5985 - val_accuracy: 0.6715\n",
      "Epoch 15/15\n",
      "265316/265316 [==============================] - 77s 290us/sample - loss: 0.5903 - accuracy: 0.6790 - val_loss: 0.6030 - val_accuracy: 0.6747\n"
     ]
    }
   ],
   "source": [
    "# 計算の実行\n",
    "fit = model.fit(X_train, y_train,\n",
    "          epochs=15,\n",
    "          batch_size=20,validation_data=(X_test, y_test))\n"
   ]
  },
  {
   "cell_type": "code",
   "execution_count": 50,
   "metadata": {},
   "outputs": [],
   "source": [
    "# 各epochにおける損失と精度をdfに入れる\n",
    "df = pd.DataFrame(fit.history)"
   ]
  },
  {
   "cell_type": "code",
   "execution_count": 49,
   "metadata": {},
   "outputs": [],
   "source": [
    "#モデルの保存\n",
    "\n",
    "# 保存\n",
    "model.save('my_model.h5')\n",
    "del model\n",
    "\n",
    "# 読み込み\n",
    "model = load_model('my_model.h5')"
   ]
  },
  {
   "cell_type": "code",
   "execution_count": 53,
   "metadata": {},
   "outputs": [
    {
     "data": {
      "image/png": "[encoded data removed]",
      "text/plain": [
       "<Figure size 432x288 with 1 Axes>"
      ]
     },
     "metadata": {
      "needs_background": "light"
     },
     "output_type": "display_data"
    },
    {
     "data": {
      "image/png": "[encoded data removed]",
      "text/plain": [
       "<Figure size 432x288 with 1 Axes>"
      ]
     },
     "metadata": {
      "needs_background": "light"
     },
     "output_type": "display_data"
    }
   ],
   "source": [
    "# 学習の過程をグラフ化\n",
    "df[[\"loss\", \"val_loss\"]].plot()\n",
    "plt.ylabel(\"loss\")\n",
    "plt.xlabel(\"epoch\")\n",
    "plt.show()\n",
    "\n",
    "df[\"accuracy\"].plot()\n",
    "plt.ylabel(\"acc\")\n",
    "plt.xlabel(\"epoch\")\n",
    "plt.show()"
   ]
  },
  {
   "cell_type": "code",
   "execution_count": 60,
   "metadata": {},
   "outputs": [
    {
     "data": {
      "text/plain": [
       "array([0, 0, 1, ..., 1, 0, 0], dtype=int64)"
      ]
     },
     "execution_count": 60,
     "metadata": {},
     "output_type": "execute_result"
    }
   ],
   "source": [
    "#ラベルの予測を行う。\n",
    "y_est = np.argmax(model.predict(X_test),axis=1)\n",
    "y_est"
   ]
  },
  {
   "cell_type": "code",
   "execution_count": 62,
   "metadata": {},
   "outputs": [
    {
     "data": {
      "text/plain": [
       "array([0, 0, 1, ..., 0, 0, 0], dtype=int64)"
      ]
     },
     "execution_count": 62,
     "metadata": {},
     "output_type": "execute_result"
    }
   ],
   "source": [
    "#評価のためone-hotエンコーディングを行っていないｙ_testを再度取得\n",
    "y = df_day3_2[\"state\"]\n",
    "tmp1, tmp2, tmp3, y_test = train_test_split(X, y, test_size = 0.2, random_state=1234)\n",
    "y_test.values"
   ]
  },
  {
   "cell_type": "code",
   "execution_count": 63,
   "metadata": {},
   "outputs": [
    {
     "name": "stdout",
     "output_type": "stream",
     "text": [
      "              precision    recall  f1-score   support\n",
      "\n",
      "      failed       0.71      0.78      0.74     39695\n",
      "  successful       0.61      0.51      0.56     26635\n",
      "\n",
      "    accuracy                           0.67     66330\n",
      "   macro avg       0.66      0.65      0.65     66330\n",
      "weighted avg       0.67      0.67      0.67     66330\n",
      "\n"
     ]
    },
    {
     "data": {
      "text/html": [
       "<div>\n",
       "<style scoped>\n",
       "    .dataframe tbody tr th:only-of-type {\n",
       "        vertical-align: middle;\n",
       "    }\n",
       "\n",
       "    .dataframe tbody tr th {\n",
       "        vertical-align: top;\n",
       "    }\n",
       "\n",
       "    .dataframe thead th {\n",
       "        text-align: right;\n",
       "    }\n",
       "</style>\n",
       "<table border=\"1\" class=\"dataframe\">\n",
       "  <thead>\n",
       "    <tr style=\"text-align: right;\">\n",
       "      <th></th>\n",
       "      <th>予測 = failed</th>\n",
       "      <th>予測 = successful</th>\n",
       "    </tr>\n",
       "  </thead>\n",
       "  <tbody>\n",
       "    <tr>\n",
       "      <td>正解 = failed</td>\n",
       "      <td>31044</td>\n",
       "      <td>8651</td>\n",
       "    </tr>\n",
       "    <tr>\n",
       "      <td>正解 = successful</td>\n",
       "      <td>12926</td>\n",
       "      <td>13709</td>\n",
       "    </tr>\n",
       "  </tbody>\n",
       "</table>\n",
       "</div>"
      ],
      "text/plain": [
       "                 予測 = failed  予測 = successful\n",
       "正解 = failed            31044             8651\n",
       "正解 = successful        12926            13709"
      ]
     },
     "metadata": {},
     "output_type": "display_data"
    }
   ],
   "source": [
    "#　混同行列を表示\n",
    "target_names = ['failed', 'successful']\n",
    "print(metrics.classification_report(y_test.values, y_est,target_names=target_names))\n",
    "conf_mat_test = pd.DataFrame(confusion_matrix(y_test, y_est), \n",
    "                        index=['正解 = failed', '正解 = successful'], \n",
    "                        columns=['予測 = failed', '予測 = successful'])\n",
    "\n",
    "display(conf_mat_test)"
   ]
  },
  {
   "cell_type": "markdown",
   "metadata": {},
   "source": [
    "#### ニューラルネットワークによるモデルの構築を行い、精度を評価した。これまで行った学習では精度は67%であった。ノード数や層の数、その他のパラメータのチューニングも検討していきたい。\n"
   ]
  },
  {
   "cell_type": "markdown",
   "metadata": {},
   "source": [
    "### [質問] ニューラルネットワークにおける、層の数やノードの数はどのようにして決めていけばよいのでしょうか？方針や指針、方法などあるのでしょうか。"
   ]
  },
  {
   "cell_type": "code",
   "execution_count": null,
   "metadata": {},
   "outputs": [],
   "source": []
  }
 ],
 "metadata": {
  "kernelspec": {
   "display_name": "Python 3",
   "language": "python",
   "name": "python3"
  },
  "language_info": {
   "codemirror_mode": {
    "name": "ipython",
    "version": 3
   },
   "file_extension": ".py",
   "mimetype": "text/x-python",
   "name": "python",
   "nbconvert_exporter": "python",
   "pygments_lexer": "ipython3",
   "version": "3.7.4"
  }
 },
 "nbformat": 4,
 "nbformat_minor": 2
}
